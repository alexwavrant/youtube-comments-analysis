{
 "cells": [
  {
   "cell_type": "code",
   "execution_count": 34,
   "metadata": {
    "collapsed": true
   },
   "outputs": [],
   "source": [
    "import pandas as pd\n",
    "\n",
    "# Sentiment Analysis\n",
    "from vaderSentiment.vaderSentiment import SentimentIntensityAnalyzer\n",
    "\n",
    "# Evaluation of the Sentiment Analysis\n",
    "from sklearn.metrics._classification import classification_report\n",
    "from sklearn.metrics._classification import confusion_matrix\n",
    "from sklearn.metrics._classification import f1_score\n",
    "from sklearn.metrics import ConfusionMatrixDisplay"
   ]
  },
  {
   "cell_type": "code",
   "execution_count": 35,
   "outputs": [],
   "source": [
    "# List of the crators that are part of the sample for the evaluation: MKBHD, Jeremy Jahns, James Charles\n",
    "creator = \"MKBHD\" # Put the name of the creator here\n",
    "output_df = pd.read_excel(f\"./comments_spreadsheets/sample_extracted_comments_{creator}.xlsx\")"
   ],
   "metadata": {
    "collapsed": false,
    "pycharm": {
     "name": "#%%\n"
    }
   }
  },
  {
   "cell_type": "code",
   "execution_count": 36,
   "outputs": [
    {
     "name": "stdout",
     "output_type": "stream",
     "text": [
      "Count of duplicate comments in dataframe 0\n",
      "Count of unique comments in dataframe 98\n"
     ]
    },
    {
     "data": {
      "text/plain": "    index     Video ID                  Comment ID  \\\n0       0  eWI_BtcDJu0  UgwKbzLQ-7effC1FvqF4AaABAg   \n1       1  eWI_BtcDJu0  Ugzf3tvaLAnjaJG3Jrp4AaABAg   \n2       2  eWI_BtcDJu0  UgwmitTwZrxUatb4AGN4AaABAg   \n3       3  eWI_BtcDJu0  UgwB0a7FeOKRYXRnxE94AaABAg   \n4       4  eWI_BtcDJu0  Ugy0KFmYNdg4ZMSmfGd4AaABAg   \n..    ...          ...                         ...   \n93     93  eWI_BtcDJu0  UgxLr7JJLov9SvrZrC94AaABAg   \n94     94  eWI_BtcDJu0  UgzKCBt30LAP0rxbWPZ4AaABAg   \n95     95  eWI_BtcDJu0  UgwtAK_qScx2RvpHpox4AaABAg   \n96     96  eWI_BtcDJu0  UgxuR9Nag8WnmYb1sCB4AaABAg   \n97     97  eWI_BtcDJu0  UgxIMevytCa7kq4G8V14AaABAg   \n\n                                             Comments Actual Polarity  \n0   I like the blue this time. But will wait for 1...         Neutral  \n1   I love to watch reviews of my phone just to co...        Positive  \n2   I've been watching an endless amount of videos...        Positive  \n3   Another fantastic review! Thank you mr Marcus....        Positive  \n4                             Those intro shots man 👌        Positive  \n..                                                ...             ...  \n93  I got the pro because of ProRaw, it’s awesome ...        Positive  \n94  \"They catch more fingerprints than the CSI emp...        Positive  \n95  i think apple must have changed their pricing ...         Neutral  \n96  I’m currently on a Xs I’m wayy too attached to...         Neutral  \n97  Apple is like the friend that gets you hyped f...        Positive  \n\n[98 rows x 5 columns]",
      "text/html": "<div>\n<style scoped>\n    .dataframe tbody tr th:only-of-type {\n        vertical-align: middle;\n    }\n\n    .dataframe tbody tr th {\n        vertical-align: top;\n    }\n\n    .dataframe thead th {\n        text-align: right;\n    }\n</style>\n<table border=\"1\" class=\"dataframe\">\n  <thead>\n    <tr style=\"text-align: right;\">\n      <th></th>\n      <th>index</th>\n      <th>Video ID</th>\n      <th>Comment ID</th>\n      <th>Comments</th>\n      <th>Actual Polarity</th>\n    </tr>\n  </thead>\n  <tbody>\n    <tr>\n      <th>0</th>\n      <td>0</td>\n      <td>eWI_BtcDJu0</td>\n      <td>UgwKbzLQ-7effC1FvqF4AaABAg</td>\n      <td>I like the blue this time. But will wait for 1...</td>\n      <td>Neutral</td>\n    </tr>\n    <tr>\n      <th>1</th>\n      <td>1</td>\n      <td>eWI_BtcDJu0</td>\n      <td>Ugzf3tvaLAnjaJG3Jrp4AaABAg</td>\n      <td>I love to watch reviews of my phone just to co...</td>\n      <td>Positive</td>\n    </tr>\n    <tr>\n      <th>2</th>\n      <td>2</td>\n      <td>eWI_BtcDJu0</td>\n      <td>UgwmitTwZrxUatb4AGN4AaABAg</td>\n      <td>I've been watching an endless amount of videos...</td>\n      <td>Positive</td>\n    </tr>\n    <tr>\n      <th>3</th>\n      <td>3</td>\n      <td>eWI_BtcDJu0</td>\n      <td>UgwB0a7FeOKRYXRnxE94AaABAg</td>\n      <td>Another fantastic review! Thank you mr Marcus....</td>\n      <td>Positive</td>\n    </tr>\n    <tr>\n      <th>4</th>\n      <td>4</td>\n      <td>eWI_BtcDJu0</td>\n      <td>Ugy0KFmYNdg4ZMSmfGd4AaABAg</td>\n      <td>Those intro shots man 👌</td>\n      <td>Positive</td>\n    </tr>\n    <tr>\n      <th>...</th>\n      <td>...</td>\n      <td>...</td>\n      <td>...</td>\n      <td>...</td>\n      <td>...</td>\n    </tr>\n    <tr>\n      <th>93</th>\n      <td>93</td>\n      <td>eWI_BtcDJu0</td>\n      <td>UgxLr7JJLov9SvrZrC94AaABAg</td>\n      <td>I got the pro because of ProRaw, it’s awesome ...</td>\n      <td>Positive</td>\n    </tr>\n    <tr>\n      <th>94</th>\n      <td>94</td>\n      <td>eWI_BtcDJu0</td>\n      <td>UgzKCBt30LAP0rxbWPZ4AaABAg</td>\n      <td>\"They catch more fingerprints than the CSI emp...</td>\n      <td>Positive</td>\n    </tr>\n    <tr>\n      <th>95</th>\n      <td>95</td>\n      <td>eWI_BtcDJu0</td>\n      <td>UgwtAK_qScx2RvpHpox4AaABAg</td>\n      <td>i think apple must have changed their pricing ...</td>\n      <td>Neutral</td>\n    </tr>\n    <tr>\n      <th>96</th>\n      <td>96</td>\n      <td>eWI_BtcDJu0</td>\n      <td>UgxuR9Nag8WnmYb1sCB4AaABAg</td>\n      <td>I’m currently on a Xs I’m wayy too attached to...</td>\n      <td>Neutral</td>\n    </tr>\n    <tr>\n      <th>97</th>\n      <td>97</td>\n      <td>eWI_BtcDJu0</td>\n      <td>UgxIMevytCa7kq4G8V14AaABAg</td>\n      <td>Apple is like the friend that gets you hyped f...</td>\n      <td>Positive</td>\n    </tr>\n  </tbody>\n</table>\n<p>98 rows × 5 columns</p>\n</div>"
     },
     "metadata": {},
     "output_type": "display_data"
    }
   ],
   "source": [
    "duplicates = output_df[output_df.duplicated((\"Comments\"))]\n",
    "print (\"Count of duplicate comments in dataframe\"\n",
    ", duplicates.shape[0])\n",
    "\n",
    "print (\"Count of unique comments in dataframe\"\n",
    ", output_df.shape[0] - duplicates.shape[0])\n",
    "\n",
    "# Remove duplicated comments from dataset\n",
    "unique_df = output_df.drop_duplicates(subset=[\"Comments\"], keep='first')\n",
    "df = unique_df.reset_index()\n",
    "\n",
    "# Removes line return \"\\n\"\n",
    "df = df.replace(r'\\n',' ', regex=True)\n",
    "\n",
    "display(df)"
   ],
   "metadata": {
    "collapsed": false,
    "pycharm": {
     "name": "#%%\n"
    }
   }
  },
  {
   "cell_type": "markdown",
   "source": [
    "# Sentiment Analysis"
   ],
   "metadata": {
    "collapsed": false,
    "pycharm": {
     "name": "#%% md\n"
    }
   }
  },
  {
   "cell_type": "code",
   "execution_count": 37,
   "outputs": [],
   "source": [
    "sentimentAnalyser = SentimentIntensityAnalyzer()\n",
    "sentimentScoreList = []\n",
    "sentimentLabelList = []\n",
    "\n",
    "for i in df[\"Comments\"].values.tolist():\n",
    "    sentimentScore = sentimentAnalyser.polarity_scores(i)\n",
    "\n",
    "    if sentimentScore['compound'] >= 0.05:\n",
    "        sentimentScoreList.append(sentimentScore['compound'])\n",
    "        sentimentLabelList.append('Positive')\n",
    "    elif sentimentScore['compound'] > -0.05 and sentimentScore['compound'] < 0.05:\n",
    "        sentimentScoreList.append(sentimentScore['compound'])\n",
    "        sentimentLabelList.append('Neutral')\n",
    "    elif sentimentScore['compound'] <= -0.05:\n",
    "        sentimentScoreList.append(sentimentScore['compound'])\n",
    "        sentimentLabelList.append('Negative')\n",
    "\n",
    "df[\"Sentiment\"] = sentimentLabelList\n",
    "df[\"Sentiment Score\"] = sentimentScoreList"
   ],
   "metadata": {
    "collapsed": false,
    "pycharm": {
     "name": "#%%\n"
    }
   }
  },
  {
   "cell_type": "code",
   "execution_count": 38,
   "outputs": [
    {
     "name": "stdout",
     "output_type": "stream",
     "text": [
      "Number of positive comments:  78\n",
      "Number of negative comments:  12\n",
      "Number of neutral comments:  8\n",
      "Percentage of positive comments:  79.59183673469387\n",
      "Percentage of negative comments:  12.244897959183673\n",
      "Percentage of neutral comments:  8.16326530612245\n"
     ]
    }
   ],
   "source": [
    "numbersOfPositiveComments = df[df[\"Sentiment\"] == \"Positive\"].shape[0]\n",
    "numbersOfNegativeComments = df[df[\"Sentiment\"] == \"Negative\"].shape[0]\n",
    "numbersOfNeutralComments = df[df[\"Sentiment\"] == \"Neutral\"].shape[0]\n",
    "\n",
    "# # Display the number of positive, negative and neutral comments\n",
    "print (\"Number of positive comments: \", numbersOfPositiveComments)\n",
    "print (\"Number of negative comments: \", numbersOfNegativeComments)\n",
    "print (\"Number of neutral comments: \", numbersOfNeutralComments)\n",
    "\n",
    "# Display the percentage of positive, negative and neutral comments\n",
    "print (\"Percentage of positive comments: \", numbersOfPositiveComments / df.shape[0] * 100)\n",
    "print (\"Percentage of negative comments: \", numbersOfNegativeComments / df.shape[0] * 100)\n",
    "print (\"Percentage of neutral comments: \", numbersOfNeutralComments / df.shape[0] * 100)"
   ],
   "metadata": {
    "collapsed": false,
    "pycharm": {
     "name": "#%%\n"
    }
   }
  },
  {
   "cell_type": "markdown",
   "source": [
    "# Sentiment Analysis Evaluation"
   ],
   "metadata": {
    "collapsed": false,
    "pycharm": {
     "name": "#%% md\n"
    }
   }
  },
  {
   "cell_type": "code",
   "execution_count": 39,
   "outputs": [
    {
     "name": "stdout",
     "output_type": "stream",
     "text": [
      "              precision    recall  f1-score   support\n",
      "\n",
      "    Negative       0.42      0.50      0.45        10\n",
      "     Neutral       0.62      0.18      0.28        28\n",
      "    Positive       0.72      0.93      0.81        60\n",
      "\n",
      "    accuracy                           0.67        98\n",
      "   macro avg       0.59      0.54      0.51        98\n",
      "weighted avg       0.66      0.67      0.62        98\n",
      "\n",
      "\n",
      "0.6226416785422998\n"
     ]
    },
    {
     "data": {
      "text/plain": "<Figure size 432x288 with 2 Axes>",
      "image/png": "[encoded data removed]"
     },
     "metadata": {
      "needs_background": "light"
     },
     "output_type": "display_data"
    }
   ],
   "source": [
    "y_actual = df[\"Actual Polarity\"].tolist()\n",
    "y_predicted = df['Sentiment'].tolist()\n",
    "\n",
    "confusionMatrix = confusion_matrix(y_actual, y_predicted)\n",
    "disp = ConfusionMatrixDisplay(confusionMatrix, display_labels=['Negative', 'Neutral', 'Positive'])\n",
    "disp.plot()\n",
    "print(classification_report(y_actual, y_predicted, labels=['Negative', 'Neutral', 'Positive']))\n",
    "print()\n",
    "print(f1_score(y_actual, y_predicted, labels=['Negative', 'Neutral', 'Positive'], average='weighted'))"
   ],
   "metadata": {
    "collapsed": false,
    "pycharm": {
     "name": "#%%\n"
    }
   }
  }
 ],
 "metadata": {
  "kernelspec": {
   "display_name": "Python 3",
   "language": "python",
   "name": "python3"
  },
  "language_info": {
   "codemirror_mode": {
    "name": "ipython",
    "version": 2
   },
   "file_extension": ".py",
   "mimetype": "text/x-python",
   "name": "python",
   "nbconvert_exporter": "python",
   "pygments_lexer": "ipython2",
   "version": "2.7.6"
  }
 },
 "nbformat": 4,
 "nbformat_minor": 0
}