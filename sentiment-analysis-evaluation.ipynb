{
 "cells": [
  {
   "cell_type": "code",
   "execution_count": 13,
   "metadata": {
    "collapsed": true
   },
   "outputs": [],
   "source": [
    "import pandas as pd\n",
    "import numpy as np\n",
    "\n",
    "# Data pre-processing\n",
    "import nltk\n",
    "# List of stop words used for data pre-processing\n",
    "from stop_words_list import stop_words_list\n",
    "from nltk.corpus import stopwords\n",
    "\n",
    "# Sentiment Analysis\n",
    "from vaderSentiment.vaderSentiment import SentimentIntensityAnalyzer\n",
    "\n",
    "# Topics modelling\n",
    "from sklearn.feature_extraction.text import CountVectorizer\n",
    "from sklearn.decomposition import LatentDirichletAllocation"
   ]
  },
  {
   "cell_type": "code",
   "execution_count": 14,
   "outputs": [],
   "source": [
    "# listOfCreatorSamples: \"MKBHD, Jeremy Jahns, James Charles\"\n",
    "creator = \"Jeremy Jahns\"\n",
    "output_df = pd.read_excel(f\"./comments_spreadsheets/sample_extracted_comments_{creator}.xlsx\")"
   ],
   "metadata": {
    "collapsed": false,
    "pycharm": {
     "name": "#%%\n"
    }
   }
  },
  {
   "cell_type": "code",
   "execution_count": 15,
   "outputs": [
    {
     "name": "stdout",
     "output_type": "stream",
     "text": [
      "Count of duplicate comments in dataframe 0\n",
      "Count of unique comments in dataframe 99\n"
     ]
    },
    {
     "data": {
      "text/plain": "    index     Video ID                  Comment ID  \\\n0       0  zYVgbAF-JIs  UgwCqrMbr7-4PlQA2894AaABAg   \n1       1  zYVgbAF-JIs  UgzlbXms2Tcf36z4Evl4AaABAg   \n2       2  zYVgbAF-JIs  Ugy05LD0V-K45HkE4hh4AaABAg   \n3       3  zYVgbAF-JIs  Ugwqtr6POFO9ZKrBVVR4AaABAg   \n4       4  zYVgbAF-JIs  Ugzounld_ZUlv5bDOQV4AaABAg   \n..    ...          ...                         ...   \n94     94  zYVgbAF-JIs  UgxWeWzFKeDGXL-iO1p4AaABAg   \n95     95  zYVgbAF-JIs  UgwlKODPCb8cuX3bMNZ4AaABAg   \n96     96  zYVgbAF-JIs  UgyVIAVQFPcyiACyc_V4AaABAg   \n97     97  zYVgbAF-JIs  UgxzzYhsksQNpXp4yBx4AaABAg   \n98     98  zYVgbAF-JIs  Ugz87qY1d_3ictJMjWd4AaABAg   \n\n                                             Comments Actual Polarity  \n0   I would’ve watched another 2-3 hours easily. I...        Positive  \n1   \"If Dune: Part Two doesn't happen.... I'm gonn...        Positive  \n2   Looks like Dune 2 is, “all but confirmed”. It ...        Positive  \n3   I went to Dune with my wife and she's usually ...        Positive  \n4   Now I understood what the spice mines are when...         Neutral  \n..                                                ...             ...  \n94  Watching this movie was like playing an old vi...         Neutral  \n95  After a second watch and then listening to the...        Positive  \n96  Dude before I watched this I was like “this wa...        Negative  \n97  Watched in IMAX, truly a unique cinematic expe...        Positive  \n98  you absolutely nailed how I feel about this mo...        Positive  \n\n[99 rows x 5 columns]",
      "text/html": "<div>\n<style scoped>\n    .dataframe tbody tr th:only-of-type {\n        vertical-align: middle;\n    }\n\n    .dataframe tbody tr th {\n        vertical-align: top;\n    }\n\n    .dataframe thead th {\n        text-align: right;\n    }\n</style>\n<table border=\"1\" class=\"dataframe\">\n  <thead>\n    <tr style=\"text-align: right;\">\n      <th></th>\n      <th>index</th>\n      <th>Video ID</th>\n      <th>Comment ID</th>\n      <th>Comments</th>\n      <th>Actual Polarity</th>\n    </tr>\n  </thead>\n  <tbody>\n    <tr>\n      <th>0</th>\n      <td>0</td>\n      <td>zYVgbAF-JIs</td>\n      <td>UgwCqrMbr7-4PlQA2894AaABAg</td>\n      <td>I would’ve watched another 2-3 hours easily. I...</td>\n      <td>Positive</td>\n    </tr>\n    <tr>\n      <th>1</th>\n      <td>1</td>\n      <td>zYVgbAF-JIs</td>\n      <td>UgzlbXms2Tcf36z4Evl4AaABAg</td>\n      <td>\"If Dune: Part Two doesn't happen.... I'm gonn...</td>\n      <td>Positive</td>\n    </tr>\n    <tr>\n      <th>2</th>\n      <td>2</td>\n      <td>zYVgbAF-JIs</td>\n      <td>Ugy05LD0V-K45HkE4hh4AaABAg</td>\n      <td>Looks like Dune 2 is, “all but confirmed”. It ...</td>\n      <td>Positive</td>\n    </tr>\n    <tr>\n      <th>3</th>\n      <td>3</td>\n      <td>zYVgbAF-JIs</td>\n      <td>Ugwqtr6POFO9ZKrBVVR4AaABAg</td>\n      <td>I went to Dune with my wife and she's usually ...</td>\n      <td>Positive</td>\n    </tr>\n    <tr>\n      <th>4</th>\n      <td>4</td>\n      <td>zYVgbAF-JIs</td>\n      <td>Ugzounld_ZUlv5bDOQV4AaABAg</td>\n      <td>Now I understood what the spice mines are when...</td>\n      <td>Neutral</td>\n    </tr>\n    <tr>\n      <th>...</th>\n      <td>...</td>\n      <td>...</td>\n      <td>...</td>\n      <td>...</td>\n      <td>...</td>\n    </tr>\n    <tr>\n      <th>94</th>\n      <td>94</td>\n      <td>zYVgbAF-JIs</td>\n      <td>UgxWeWzFKeDGXL-iO1p4AaABAg</td>\n      <td>Watching this movie was like playing an old vi...</td>\n      <td>Neutral</td>\n    </tr>\n    <tr>\n      <th>95</th>\n      <td>95</td>\n      <td>zYVgbAF-JIs</td>\n      <td>UgwlKODPCb8cuX3bMNZ4AaABAg</td>\n      <td>After a second watch and then listening to the...</td>\n      <td>Positive</td>\n    </tr>\n    <tr>\n      <th>96</th>\n      <td>96</td>\n      <td>zYVgbAF-JIs</td>\n      <td>UgyVIAVQFPcyiACyc_V4AaABAg</td>\n      <td>Dude before I watched this I was like “this wa...</td>\n      <td>Negative</td>\n    </tr>\n    <tr>\n      <th>97</th>\n      <td>97</td>\n      <td>zYVgbAF-JIs</td>\n      <td>UgxzzYhsksQNpXp4yBx4AaABAg</td>\n      <td>Watched in IMAX, truly a unique cinematic expe...</td>\n      <td>Positive</td>\n    </tr>\n    <tr>\n      <th>98</th>\n      <td>98</td>\n      <td>zYVgbAF-JIs</td>\n      <td>Ugz87qY1d_3ictJMjWd4AaABAg</td>\n      <td>you absolutely nailed how I feel about this mo...</td>\n      <td>Positive</td>\n    </tr>\n  </tbody>\n</table>\n<p>99 rows × 5 columns</p>\n</div>"
     },
     "metadata": {},
     "output_type": "display_data"
    }
   ],
   "source": [
    "duplicates = output_df[output_df.duplicated((\"Comments\"))]\n",
    "print (\"Count of duplicate comments in dataframe\"\n",
    ", duplicates.shape[0])\n",
    "\n",
    "print (\"Count of unique comments in dataframe\"\n",
    ", output_df.shape[0] - duplicates.shape[0])\n",
    "\n",
    "# Remove duplicated comments from dataset\n",
    "unique_df = output_df.drop_duplicates(subset=[\"Comments\"], keep='first')\n",
    "df = unique_df.reset_index()\n",
    "\n",
    "# Removes line return \"\\n\"\n",
    "df = df.replace(r'\\n',' ', regex=True)\n",
    "\n",
    "display(df)"
   ],
   "metadata": {
    "collapsed": false,
    "pycharm": {
     "name": "#%%\n"
    }
   }
  },
  {
   "cell_type": "markdown",
   "source": [
    "# Sentiment Analysis"
   ],
   "metadata": {
    "collapsed": false,
    "pycharm": {
     "name": "#%% md\n"
    }
   }
  },
  {
   "cell_type": "code",
   "execution_count": 18,
   "outputs": [
    {
     "data": {
      "text/plain": "'Man all these comments are like \"this movie was orgasmic\" but I was kinda underwhelmed. I knew the story from the books, felt like a bunch of characters were underdeveloped. Very solid 7/10'"
     },
     "metadata": {},
     "output_type": "display_data"
    }
   ],
   "source": [
    "sentimentAnalyser = SentimentIntensityAnalyzer()\n",
    "sentimentScoreList = []\n",
    "sentimentLabelList = []\n",
    "\n",
    "for i in df[\"Comments\"].values.tolist():\n",
    "    sentimentScore = sentimentAnalyser.polarity_scores(i)\n",
    "\n",
    "    if sentimentScore['compound'] >= 0.05:\n",
    "        sentimentScoreList.append(sentimentScore['compound'])\n",
    "        sentimentLabelList.append('Positive')\n",
    "    elif sentimentScore['compound'] > -0.05 and sentimentScore['compound'] < 0.05:\n",
    "        sentimentScoreList.append(sentimentScore['compound'])\n",
    "        sentimentLabelList.append('Neutral')\n",
    "    elif sentimentScore['compound'] <= -0.05:\n",
    "        sentimentScoreList.append(sentimentScore['compound'])\n",
    "        sentimentLabelList.append('Negative')\n",
    "\n",
    "df[\"Sentiment\"] = sentimentLabelList\n",
    "df[\"Sentiment Score\"] = sentimentScoreList\n",
    "\n",
    "display(df.loc[23][\"Comments\"])\n",
    "# display(df.loc[df['Actual Polarity'] == 'Negative'])\n",
    "# display(df)"
   ],
   "metadata": {
    "collapsed": false,
    "pycharm": {
     "name": "#%%\n"
    }
   }
  },
  {
   "cell_type": "code",
   "execution_count": 17,
   "outputs": [
    {
     "name": "stdout",
     "output_type": "stream",
     "text": [
      "              precision    recall  f1-score   support\n",
      "\n",
      "    Negative       0.22      0.50      0.31         4\n",
      "     Neutral       0.25      0.14      0.18         7\n",
      "    Positive       0.91      0.89      0.90        88\n",
      "\n",
      "    accuracy                           0.82        99\n",
      "   macro avg       0.46      0.51      0.46        99\n",
      "weighted avg       0.83      0.82      0.82        99\n",
      "\n",
      "\n",
      "0.8222227093700448\n"
     ]
    },
    {
     "data": {
      "text/plain": "<Figure size 432x288 with 2 Axes>",
      "image/png": "[encoded data removed]"
     },
     "metadata": {
      "needs_background": "light"
     },
     "output_type": "display_data"
    }
   ],
   "source": [
    "from sklearn.metrics._classification import classification_report\n",
    "from sklearn.metrics._classification import confusion_matrix\n",
    "from sklearn.metrics._classification import f1_score\n",
    "from sklearn.metrics import ConfusionMatrixDisplay\n",
    "from sklearn.metrics import plot_confusion_matrix\n",
    "y_actual = df[\"Actual Polarity\"].tolist()\n",
    "y_predicted = df['Sentiment'].tolist()\n",
    "\n",
    "confusionMatrix = confusion_matrix(y_actual, y_predicted)\n",
    "disp = ConfusionMatrixDisplay(confusionMatrix, display_labels=['Negative', 'Neutral', 'Positive'])\n",
    "disp.plot()\n",
    "print(classification_report(y_actual, y_predicted, labels=['Negative', 'Neutral', 'Positive']))\n",
    "print()\n",
    "print(f1_score(y_actual, y_predicted, labels=['Negative', 'Neutral', 'Positive'], average='weighted'))\n",
    "# plot_confusion_matrix(confusionMatrix, y_actual, y_predicted)"
   ],
   "metadata": {
    "collapsed": false,
    "pycharm": {
     "name": "#%%\n"
    }
   }
  },
  {
   "cell_type": "code",
   "execution_count": 17,
   "outputs": [],
   "source": [],
   "metadata": {
    "collapsed": false,
    "pycharm": {
     "name": "#%%\n"
    }
   }
  }
 ],
 "metadata": {
  "kernelspec": {
   "display_name": "Python 3",
   "language": "python",
   "name": "python3"
  },
  "language_info": {
   "codemirror_mode": {
    "name": "ipython",
    "version": 2
   },
   "file_extension": ".py",
   "mimetype": "text/x-python",
   "name": "python",
   "nbconvert_exporter": "python",
   "pygments_lexer": "ipython2",
   "version": "2.7.6"
  }
 },
 "nbformat": 4,
 "nbformat_minor": 0
}