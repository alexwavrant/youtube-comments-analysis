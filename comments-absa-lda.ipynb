{
 "cells": [
  {
   "cell_type": "code",
   "execution_count": 2,
   "metadata": {
    "collapsed": true
   },
   "outputs": [],
   "source": [
    "import pandas as pd\n",
    "import numpy as np\n",
    "\n",
    "# Data pre-processing\n",
    "import nltk\n",
    "# List of stop words used for data pre-processing\n",
    "from stop_words_list import stop_words_list\n",
    "from nltk.corpus import stopwords\n",
    "\n",
    "# Sentiment Analysis\n",
    "from vaderSentiment.vaderSentiment import SentimentIntensityAnalyzer\n",
    "\n",
    "# Topics modelling\n",
    "from sklearn.feature_extraction.text import CountVectorizer\n",
    "from sklearn.decomposition import LatentDirichletAllocation"
   ]
  },
  {
   "cell_type": "code",
   "execution_count": 3,
   "outputs": [],
   "source": [
    "# listOfCreator: \"MKBHD\", \"Jonathan Morrison\", \"Unbox Therapy\", \"Chris Stuckman\", \"Jeremy Jahns\", \"Channel Awesome\", \"James Charles\", \"NikkieTutorials\", \"sophdoeslife\"\n",
    "\n",
    "creator = \"Unbox Therapy\"\n",
    "output_df = pd.read_excel(f\"./comments_spreadsheets/extracted_comments_{creator}.xlsx\")"
   ],
   "metadata": {
    "collapsed": false,
    "pycharm": {
     "name": "#%%\n"
    }
   }
  },
  {
   "cell_type": "code",
   "execution_count": 4,
   "outputs": [
    {
     "name": "stdout",
     "output_type": "stream",
     "text": [
      "Count of duplicate comments in dataframe 23\n",
      "Count of unique comments in dataframe 1977\n"
     ]
    },
    {
     "data": {
      "text/plain": "      index     Video ID                  Comment ID  \\\n0         0  g0AOf2AZ-8w  UgztUIzy3HRj-l74t6N4AaABAg   \n1         1  g0AOf2AZ-8w  UgxC2NMehnqU8Ldzj894AaABAg   \n2         2  g0AOf2AZ-8w  UgwJrfvrEKLV6mFD5HV4AaABAg   \n3         3  g0AOf2AZ-8w  UgxpqFu8bJx7MgKpns94AaABAg   \n4         4  g0AOf2AZ-8w  UgyT5SozX1bBnYJN8ht4AaABAg   \n...     ...          ...                         ...   \n1972   1995  g0AOf2AZ-8w  Ugzze391m-FLLZQb_Tp4AaABAg   \n1973   1996  g0AOf2AZ-8w  Ugy2Hz05dhPuxwHDmct4AaABAg   \n1974   1997  g0AOf2AZ-8w  UgzHjGM9MCtkG7S0Hq94AaABAg   \n1975   1998  g0AOf2AZ-8w  UgypPOeuG-3Roi3ILzN4AaABAg   \n1976   1999  g0AOf2AZ-8w  Ugwmi7vftJSHh3uux094AaABAg   \n\n                                               Comments  \n0     Thanks for subscribing - https://youtube.com/u...  \n1     2016: no headphone jack  2020: no charger   20...  \n2     I think I'll stick with my iPhone 11, not much...  \n3     I’ve kept the iPhone SE for so long it literal...  \n4     I love how he plays around with those phones l...  \n...                                                 ...  \n1972                                   *Subtitles PLS!*  \n1973  Babu bhaiya- raju ye iphone 12 kab liya ree tu...  \n1974  I wonder what Steve Jobs thoughts would be abo...  \n1975                iPhone mini I hate using big phones  \n1976  Wish 🥺, If it will be mine ! But the world mon...  \n\n[1977 rows x 4 columns]",
      "text/html": "<div>\n<style scoped>\n    .dataframe tbody tr th:only-of-type {\n        vertical-align: middle;\n    }\n\n    .dataframe tbody tr th {\n        vertical-align: top;\n    }\n\n    .dataframe thead th {\n        text-align: right;\n    }\n</style>\n<table border=\"1\" class=\"dataframe\">\n  <thead>\n    <tr style=\"text-align: right;\">\n      <th></th>\n      <th>index</th>\n      <th>Video ID</th>\n      <th>Comment ID</th>\n      <th>Comments</th>\n    </tr>\n  </thead>\n  <tbody>\n    <tr>\n      <th>0</th>\n      <td>0</td>\n      <td>g0AOf2AZ-8w</td>\n      <td>UgztUIzy3HRj-l74t6N4AaABAg</td>\n      <td>Thanks for subscribing - https://youtube.com/u...</td>\n    </tr>\n    <tr>\n      <th>1</th>\n      <td>1</td>\n      <td>g0AOf2AZ-8w</td>\n      <td>UgxC2NMehnqU8Ldzj894AaABAg</td>\n      <td>2016: no headphone jack  2020: no charger   20...</td>\n    </tr>\n    <tr>\n      <th>2</th>\n      <td>2</td>\n      <td>g0AOf2AZ-8w</td>\n      <td>UgwJrfvrEKLV6mFD5HV4AaABAg</td>\n      <td>I think I'll stick with my iPhone 11, not much...</td>\n    </tr>\n    <tr>\n      <th>3</th>\n      <td>3</td>\n      <td>g0AOf2AZ-8w</td>\n      <td>UgxpqFu8bJx7MgKpns94AaABAg</td>\n      <td>I’ve kept the iPhone SE for so long it literal...</td>\n    </tr>\n    <tr>\n      <th>4</th>\n      <td>4</td>\n      <td>g0AOf2AZ-8w</td>\n      <td>UgyT5SozX1bBnYJN8ht4AaABAg</td>\n      <td>I love how he plays around with those phones l...</td>\n    </tr>\n    <tr>\n      <th>...</th>\n      <td>...</td>\n      <td>...</td>\n      <td>...</td>\n      <td>...</td>\n    </tr>\n    <tr>\n      <th>1972</th>\n      <td>1995</td>\n      <td>g0AOf2AZ-8w</td>\n      <td>Ugzze391m-FLLZQb_Tp4AaABAg</td>\n      <td>*Subtitles PLS!*</td>\n    </tr>\n    <tr>\n      <th>1973</th>\n      <td>1996</td>\n      <td>g0AOf2AZ-8w</td>\n      <td>Ugy2Hz05dhPuxwHDmct4AaABAg</td>\n      <td>Babu bhaiya- raju ye iphone 12 kab liya ree tu...</td>\n    </tr>\n    <tr>\n      <th>1974</th>\n      <td>1997</td>\n      <td>g0AOf2AZ-8w</td>\n      <td>UgzHjGM9MCtkG7S0Hq94AaABAg</td>\n      <td>I wonder what Steve Jobs thoughts would be abo...</td>\n    </tr>\n    <tr>\n      <th>1975</th>\n      <td>1998</td>\n      <td>g0AOf2AZ-8w</td>\n      <td>UgypPOeuG-3Roi3ILzN4AaABAg</td>\n      <td>iPhone mini I hate using big phones</td>\n    </tr>\n    <tr>\n      <th>1976</th>\n      <td>1999</td>\n      <td>g0AOf2AZ-8w</td>\n      <td>Ugwmi7vftJSHh3uux094AaABAg</td>\n      <td>Wish 🥺, If it will be mine ! But the world mon...</td>\n    </tr>\n  </tbody>\n</table>\n<p>1977 rows × 4 columns</p>\n</div>"
     },
     "metadata": {},
     "output_type": "display_data"
    }
   ],
   "source": [
    "duplicates = output_df[output_df.duplicated((\"Comments\"))]\n",
    "print (\"Count of duplicate comments in dataframe\"\n",
    ", duplicates.shape[0])\n",
    "\n",
    "print (\"Count of unique comments in dataframe\"\n",
    ", output_df.shape[0] - duplicates.shape[0])\n",
    "\n",
    "# Remove duplicated comments from dataset\n",
    "unique_df = output_df.drop_duplicates(subset=[\"Comments\"], keep='first')\n",
    "# unique_df.to_excel(excel_writer=r\"./extracted_comments_MKBHD_Samsung_Galaxy_Review.xlsx\", index=False, header=True)\n",
    "# df = pd.read_excel(\"extracted_comments_MKBHD_Samsung_Galaxy_Review.xlsx\")\n",
    "df = unique_df.reset_index()\n",
    "\n",
    "# Removes line return \"\\n\"\n",
    "df = df.replace(r'\\n',' ', regex=True)\n",
    "\n",
    "# display(unique_df)\n",
    "display(df)"
   ],
   "metadata": {
    "collapsed": false,
    "pycharm": {
     "name": "#%%\n"
    }
   }
  },
  {
   "cell_type": "markdown",
   "source": [
    "# Sentiment Analysis"
   ],
   "metadata": {
    "collapsed": false,
    "pycharm": {
     "name": "#%% md\n"
    }
   }
  },
  {
   "cell_type": "code",
   "execution_count": 5,
   "outputs": [
    {
     "data": {
      "text/plain": "      index     Video ID                  Comment ID  \\\n0         0  g0AOf2AZ-8w  UgztUIzy3HRj-l74t6N4AaABAg   \n1         1  g0AOf2AZ-8w  UgxC2NMehnqU8Ldzj894AaABAg   \n2         2  g0AOf2AZ-8w  UgwJrfvrEKLV6mFD5HV4AaABAg   \n3         3  g0AOf2AZ-8w  UgxpqFu8bJx7MgKpns94AaABAg   \n4         4  g0AOf2AZ-8w  UgyT5SozX1bBnYJN8ht4AaABAg   \n...     ...          ...                         ...   \n1972   1995  g0AOf2AZ-8w  Ugzze391m-FLLZQb_Tp4AaABAg   \n1973   1996  g0AOf2AZ-8w  Ugy2Hz05dhPuxwHDmct4AaABAg   \n1974   1997  g0AOf2AZ-8w  UgzHjGM9MCtkG7S0Hq94AaABAg   \n1975   1998  g0AOf2AZ-8w  UgypPOeuG-3Roi3ILzN4AaABAg   \n1976   1999  g0AOf2AZ-8w  Ugwmi7vftJSHh3uux094AaABAg   \n\n                                               Comments Sentiment  \\\n0     Thanks for subscribing - https://youtube.com/u...  Positive   \n1     2016: no headphone jack  2020: no charger   20...  Negative   \n2     I think I'll stick with my iPhone 11, not much...   Neutral   \n3     I’ve kept the iPhone SE for so long it literal...  Positive   \n4     I love how he plays around with those phones l...  Positive   \n...                                                 ...       ...   \n1972                                   *Subtitles PLS!*  Positive   \n1973  Babu bhaiya- raju ye iphone 12 kab liya ree tu...  Positive   \n1974  I wonder what Steve Jobs thoughts would be abo...  Positive   \n1975                iPhone mini I hate using big phones  Negative   \n1976  Wish 🥺, If it will be mine ! But the world mon...  Negative   \n\n      Sentiment Score  \n0              0.4404  \n1             -0.7783  \n2              0.0000  \n3              0.3612  \n4              0.8271  \n...               ...  \n1972           0.3237  \n1973           0.9771  \n1974           0.9566  \n1975          -0.5719  \n1976          -0.6108  \n\n[1977 rows x 6 columns]",
      "text/html": "<div>\n<style scoped>\n    .dataframe tbody tr th:only-of-type {\n        vertical-align: middle;\n    }\n\n    .dataframe tbody tr th {\n        vertical-align: top;\n    }\n\n    .dataframe thead th {\n        text-align: right;\n    }\n</style>\n<table border=\"1\" class=\"dataframe\">\n  <thead>\n    <tr style=\"text-align: right;\">\n      <th></th>\n      <th>index</th>\n      <th>Video ID</th>\n      <th>Comment ID</th>\n      <th>Comments</th>\n      <th>Sentiment</th>\n      <th>Sentiment Score</th>\n    </tr>\n  </thead>\n  <tbody>\n    <tr>\n      <th>0</th>\n      <td>0</td>\n      <td>g0AOf2AZ-8w</td>\n      <td>UgztUIzy3HRj-l74t6N4AaABAg</td>\n      <td>Thanks for subscribing - https://youtube.com/u...</td>\n      <td>Positive</td>\n      <td>0.4404</td>\n    </tr>\n    <tr>\n      <th>1</th>\n      <td>1</td>\n      <td>g0AOf2AZ-8w</td>\n      <td>UgxC2NMehnqU8Ldzj894AaABAg</td>\n      <td>2016: no headphone jack  2020: no charger   20...</td>\n      <td>Negative</td>\n      <td>-0.7783</td>\n    </tr>\n    <tr>\n      <th>2</th>\n      <td>2</td>\n      <td>g0AOf2AZ-8w</td>\n      <td>UgwJrfvrEKLV6mFD5HV4AaABAg</td>\n      <td>I think I'll stick with my iPhone 11, not much...</td>\n      <td>Neutral</td>\n      <td>0.0000</td>\n    </tr>\n    <tr>\n      <th>3</th>\n      <td>3</td>\n      <td>g0AOf2AZ-8w</td>\n      <td>UgxpqFu8bJx7MgKpns94AaABAg</td>\n      <td>I’ve kept the iPhone SE for so long it literal...</td>\n      <td>Positive</td>\n      <td>0.3612</td>\n    </tr>\n    <tr>\n      <th>4</th>\n      <td>4</td>\n      <td>g0AOf2AZ-8w</td>\n      <td>UgyT5SozX1bBnYJN8ht4AaABAg</td>\n      <td>I love how he plays around with those phones l...</td>\n      <td>Positive</td>\n      <td>0.8271</td>\n    </tr>\n    <tr>\n      <th>...</th>\n      <td>...</td>\n      <td>...</td>\n      <td>...</td>\n      <td>...</td>\n      <td>...</td>\n      <td>...</td>\n    </tr>\n    <tr>\n      <th>1972</th>\n      <td>1995</td>\n      <td>g0AOf2AZ-8w</td>\n      <td>Ugzze391m-FLLZQb_Tp4AaABAg</td>\n      <td>*Subtitles PLS!*</td>\n      <td>Positive</td>\n      <td>0.3237</td>\n    </tr>\n    <tr>\n      <th>1973</th>\n      <td>1996</td>\n      <td>g0AOf2AZ-8w</td>\n      <td>Ugy2Hz05dhPuxwHDmct4AaABAg</td>\n      <td>Babu bhaiya- raju ye iphone 12 kab liya ree tu...</td>\n      <td>Positive</td>\n      <td>0.9771</td>\n    </tr>\n    <tr>\n      <th>1974</th>\n      <td>1997</td>\n      <td>g0AOf2AZ-8w</td>\n      <td>UgzHjGM9MCtkG7S0Hq94AaABAg</td>\n      <td>I wonder what Steve Jobs thoughts would be abo...</td>\n      <td>Positive</td>\n      <td>0.9566</td>\n    </tr>\n    <tr>\n      <th>1975</th>\n      <td>1998</td>\n      <td>g0AOf2AZ-8w</td>\n      <td>UgypPOeuG-3Roi3ILzN4AaABAg</td>\n      <td>iPhone mini I hate using big phones</td>\n      <td>Negative</td>\n      <td>-0.5719</td>\n    </tr>\n    <tr>\n      <th>1976</th>\n      <td>1999</td>\n      <td>g0AOf2AZ-8w</td>\n      <td>Ugwmi7vftJSHh3uux094AaABAg</td>\n      <td>Wish 🥺, If it will be mine ! But the world mon...</td>\n      <td>Negative</td>\n      <td>-0.6108</td>\n    </tr>\n  </tbody>\n</table>\n<p>1977 rows × 6 columns</p>\n</div>"
     },
     "metadata": {},
     "output_type": "display_data"
    }
   ],
   "source": [
    "sentimentAnalyser = SentimentIntensityAnalyzer()\n",
    "sentimentScoreList = []\n",
    "sentimentLabelList = []\n",
    "\n",
    "for i in df[\"Comments\"].values.tolist():\n",
    "    sentimentScore = sentimentAnalyser.polarity_scores(i)\n",
    "\n",
    "    if sentimentScore['compound'] >= 0.05:\n",
    "        sentimentScoreList.append(sentimentScore['compound'])\n",
    "        sentimentLabelList.append('Positive')\n",
    "    elif sentimentScore['compound'] > -0.05 and sentimentScore['compound'] < 0.05:\n",
    "        sentimentScoreList.append(sentimentScore['compound'])\n",
    "        sentimentLabelList.append('Neutral')\n",
    "    elif sentimentScore['compound'] <= -0.05:\n",
    "        sentimentScoreList.append(sentimentScore['compound'])\n",
    "        sentimentLabelList.append('Negative')\n",
    "\n",
    "df[\"Sentiment\"] = sentimentLabelList\n",
    "df[\"Sentiment Score\"] = sentimentScoreList\n",
    "\n",
    "display(df)"
   ],
   "metadata": {
    "collapsed": false,
    "pycharm": {
     "name": "#%%\n"
    }
   }
  },
  {
   "cell_type": "markdown",
   "source": [
    "# Data Pre-Processing for LDA Model\n",
    "1. Lowercase the letters\n",
    "2. Remove the punctuation\n",
    "3. Remove the number\n",
    "4. Remove extra whitespaces\n",
    "5. Tokenisation\n",
    "6. Remove the stopwords"
   ],
   "metadata": {
    "collapsed": false,
    "pycharm": {
     "name": "#%% md\n"
    }
   }
  },
  {
   "cell_type": "code",
   "execution_count": 6,
   "outputs": [
    {
     "data": {
      "text/plain": "   index     Video ID                  Comment ID  \\\n0      0  g0AOf2AZ-8w  UgztUIzy3HRj-l74t6N4AaABAg   \n1      1  g0AOf2AZ-8w  UgxC2NMehnqU8Ldzj894AaABAg   \n2      2  g0AOf2AZ-8w  UgwJrfvrEKLV6mFD5HV4AaABAg   \n3      3  g0AOf2AZ-8w  UgxpqFu8bJx7MgKpns94AaABAg   \n4      4  g0AOf2AZ-8w  UgyT5SozX1bBnYJN8ht4AaABAg   \n5      5  g0AOf2AZ-8w  UgwWjr_N7pffk9Sevi94AaABAg   \n6      6  g0AOf2AZ-8w  Ugw3NjdDfH6nA5yCvc94AaABAg   \n7      7  g0AOf2AZ-8w  Ugx9ND3yC3n5_TEjjXh4AaABAg   \n8      8  g0AOf2AZ-8w  UgyxVKX2qtbVE4d4uKZ4AaABAg   \n9      9  g0AOf2AZ-8w  UgwDjkn_hc4QwRHRWtd4AaABAg   \n\n                                            Comments Sentiment  \\\n0  Thanks for subscribing - https://youtube.com/u...  Positive   \n1  2016: no headphone jack  2020: no charger   20...  Negative   \n2  I think I'll stick with my iPhone 11, not much...   Neutral   \n3  I’ve kept the iPhone SE for so long it literal...  Positive   \n4  I love how he plays around with those phones l...  Positive   \n5  Apple: No charger and earphones for \"environme...  Negative   \n6  I planned an iPhone upgrade this year but I’m ...  Positive   \n7  2025: No box, just phone 2030: No phone, Just ...  Negative   \n8       \"An apple a year makes your money disappear\"  Negative   \n9  Very informative and comprehensive review of t...  Positive   \n\n   Sentiment Score                                              lower  \\\n0           0.4404  thanks for subscribing - https://youtube.com/u...   \n1          -0.7783  2016: no headphone jack  2020: no charger   20...   \n2           0.0000  i think i'll stick with my iphone 11, not much...   \n3           0.3612  i’ve kept the iphone se for so long it literal...   \n4           0.8271  i love how he plays around with those phones l...   \n5          -0.2960  apple: no charger and earphones for \"environme...   \n6           0.9504  i planned an iphone upgrade this year but i’m ...   \n7          -0.6808  2025: no box, just phone 2030: no phone, just ...   \n8          -0.2263       \"an apple a year makes your money disappear\"   \n9           0.9211  very informative and comprehensive review of t...   \n\n                                 punctuation_removed  \\\n0  thanks for subscribing   https   youtube com u...   \n1  2016  no headphone jack  2020  no charger   20...   \n2  i think ill stick with my iphone 11  not much ...   \n3  i ve kept the iphone se for so long it literal...   \n4  i love how he plays around with those phones l...   \n5  apple  no charger and earphones for  environme...   \n6  i planned an iphone upgrade this year but i m ...   \n7  2025  no box  just phone 2030  no phone  just ...   \n8        an apple a year makes your money disappear    \n9  very informative and comprehensive review of t...   \n\n                                     numbers_removed  \\\n0  thanks for subscribing   https   youtube com u...   \n1  2016  no headphone jack    no charger     no c...   \n2  i think ill stick with my iphone   not much se...   \n3  i ve kept the iphone se for so long it literal...   \n4  i love how he plays around with those phones l...   \n5  apple  no charger and earphones for  environme...   \n6  i planned an iphone upgrade this year but i m ...   \n7  2025  no box  just phone   no phone  just appl...   \n8        an apple a year makes your money disappear    \n9  very informative and comprehensive review of t...   \n\n                                extra_spaces_removed  \\\n0  thanks for subscribing https youtube com unbox...   \n1  2016 no headphone jack no charger no charging ...   \n2  i think ill stick with my iphone not much seem...   \n3  i ve kept the iphone se for so long it literal...   \n4  i love how he plays around with those phones l...   \n5  apple no charger and earphones for environment...   \n6  i planned an iphone upgrade this year but i m ...   \n7  2025 no box just phone no phone just apple sti...   \n8         an apple a year makes your money disappear   \n9  very informative and comprehensive review of t...   \n\n                                           tokenised  \\\n0  [thanks, for, subscribing, https, youtube, com...   \n1  [2016, no, headphone, jack, no, charger, no, c...   \n2  [i, think, ill, stick, with, my, iphone, not, ...   \n3  [i, ve, kept, the, iphone, se, for, so, long, ...   \n4  [i, love, how, he, plays, around, with, those,...   \n5  [apple, no, charger, and, earphones, for, envi...   \n6  [i, planned, an, iphone, upgrade, this, year, ...   \n7  [2025, no, box, just, phone, no, phone, just, ...   \n8  [an, apple, a, year, makes, your, money, disap...   \n9  [very, informative, and, comprehensive, review...   \n\n                                   removed_stopwords  \n0        [subscribing, https, youtube, unboxtherapy]  \n1  [2016, headphone, jack, charger, charging, cab...  \n2                           [stick, iphone, changed]  \n3           [iphone, se, long, literally, boomerang]  \n4                     [plays, phones, casino, cards]  \n5  [apple, charger, earphones, environmental, rea...  \n6  [planned, iphone, upgrade, year, impressed, ap...  \n7   [2025, box, phone, phone, apple, sticker, apple]  \n8                    [apple, year, money, disappear]  \n9  [informative, comprehensive, review, phone, ph...  ",
      "text/html": "<div>\n<style scoped>\n    .dataframe tbody tr th:only-of-type {\n        vertical-align: middle;\n    }\n\n    .dataframe tbody tr th {\n        vertical-align: top;\n    }\n\n    .dataframe thead th {\n        text-align: right;\n    }\n</style>\n<table border=\"1\" class=\"dataframe\">\n  <thead>\n    <tr style=\"text-align: right;\">\n      <th></th>\n      <th>index</th>\n      <th>Video ID</th>\n      <th>Comment ID</th>\n      <th>Comments</th>\n      <th>Sentiment</th>\n      <th>Sentiment Score</th>\n      <th>lower</th>\n      <th>punctuation_removed</th>\n      <th>numbers_removed</th>\n      <th>extra_spaces_removed</th>\n      <th>tokenised</th>\n      <th>removed_stopwords</th>\n    </tr>\n  </thead>\n  <tbody>\n    <tr>\n      <th>0</th>\n      <td>0</td>\n      <td>g0AOf2AZ-8w</td>\n      <td>UgztUIzy3HRj-l74t6N4AaABAg</td>\n      <td>Thanks for subscribing - https://youtube.com/u...</td>\n      <td>Positive</td>\n      <td>0.4404</td>\n      <td>thanks for subscribing - https://youtube.com/u...</td>\n      <td>thanks for subscribing   https   youtube com u...</td>\n      <td>thanks for subscribing   https   youtube com u...</td>\n      <td>thanks for subscribing https youtube com unbox...</td>\n      <td>[thanks, for, subscribing, https, youtube, com...</td>\n      <td>[subscribing, https, youtube, unboxtherapy]</td>\n    </tr>\n    <tr>\n      <th>1</th>\n      <td>1</td>\n      <td>g0AOf2AZ-8w</td>\n      <td>UgxC2NMehnqU8Ldzj894AaABAg</td>\n      <td>2016: no headphone jack  2020: no charger   20...</td>\n      <td>Negative</td>\n      <td>-0.7783</td>\n      <td>2016: no headphone jack  2020: no charger   20...</td>\n      <td>2016  no headphone jack  2020  no charger   20...</td>\n      <td>2016  no headphone jack    no charger     no c...</td>\n      <td>2016 no headphone jack no charger no charging ...</td>\n      <td>[2016, no, headphone, jack, no, charger, no, c...</td>\n      <td>[2016, headphone, jack, charger, charging, cab...</td>\n    </tr>\n    <tr>\n      <th>2</th>\n      <td>2</td>\n      <td>g0AOf2AZ-8w</td>\n      <td>UgwJrfvrEKLV6mFD5HV4AaABAg</td>\n      <td>I think I'll stick with my iPhone 11, not much...</td>\n      <td>Neutral</td>\n      <td>0.0000</td>\n      <td>i think i'll stick with my iphone 11, not much...</td>\n      <td>i think ill stick with my iphone 11  not much ...</td>\n      <td>i think ill stick with my iphone   not much se...</td>\n      <td>i think ill stick with my iphone not much seem...</td>\n      <td>[i, think, ill, stick, with, my, iphone, not, ...</td>\n      <td>[stick, iphone, changed]</td>\n    </tr>\n    <tr>\n      <th>3</th>\n      <td>3</td>\n      <td>g0AOf2AZ-8w</td>\n      <td>UgxpqFu8bJx7MgKpns94AaABAg</td>\n      <td>I’ve kept the iPhone SE for so long it literal...</td>\n      <td>Positive</td>\n      <td>0.3612</td>\n      <td>i’ve kept the iphone se for so long it literal...</td>\n      <td>i ve kept the iphone se for so long it literal...</td>\n      <td>i ve kept the iphone se for so long it literal...</td>\n      <td>i ve kept the iphone se for so long it literal...</td>\n      <td>[i, ve, kept, the, iphone, se, for, so, long, ...</td>\n      <td>[iphone, se, long, literally, boomerang]</td>\n    </tr>\n    <tr>\n      <th>4</th>\n      <td>4</td>\n      <td>g0AOf2AZ-8w</td>\n      <td>UgyT5SozX1bBnYJN8ht4AaABAg</td>\n      <td>I love how he plays around with those phones l...</td>\n      <td>Positive</td>\n      <td>0.8271</td>\n      <td>i love how he plays around with those phones l...</td>\n      <td>i love how he plays around with those phones l...</td>\n      <td>i love how he plays around with those phones l...</td>\n      <td>i love how he plays around with those phones l...</td>\n      <td>[i, love, how, he, plays, around, with, those,...</td>\n      <td>[plays, phones, casino, cards]</td>\n    </tr>\n    <tr>\n      <th>5</th>\n      <td>5</td>\n      <td>g0AOf2AZ-8w</td>\n      <td>UgwWjr_N7pffk9Sevi94AaABAg</td>\n      <td>Apple: No charger and earphones for \"environme...</td>\n      <td>Negative</td>\n      <td>-0.2960</td>\n      <td>apple: no charger and earphones for \"environme...</td>\n      <td>apple  no charger and earphones for  environme...</td>\n      <td>apple  no charger and earphones for  environme...</td>\n      <td>apple no charger and earphones for environment...</td>\n      <td>[apple, no, charger, and, earphones, for, envi...</td>\n      <td>[apple, charger, earphones, environmental, rea...</td>\n    </tr>\n    <tr>\n      <th>6</th>\n      <td>6</td>\n      <td>g0AOf2AZ-8w</td>\n      <td>Ugw3NjdDfH6nA5yCvc94AaABAg</td>\n      <td>I planned an iPhone upgrade this year but I’m ...</td>\n      <td>Positive</td>\n      <td>0.9504</td>\n      <td>i planned an iphone upgrade this year but i’m ...</td>\n      <td>i planned an iphone upgrade this year but i m ...</td>\n      <td>i planned an iphone upgrade this year but i m ...</td>\n      <td>i planned an iphone upgrade this year but i m ...</td>\n      <td>[i, planned, an, iphone, upgrade, this, year, ...</td>\n      <td>[planned, iphone, upgrade, year, impressed, ap...</td>\n    </tr>\n    <tr>\n      <th>7</th>\n      <td>7</td>\n      <td>g0AOf2AZ-8w</td>\n      <td>Ugx9ND3yC3n5_TEjjXh4AaABAg</td>\n      <td>2025: No box, just phone 2030: No phone, Just ...</td>\n      <td>Negative</td>\n      <td>-0.6808</td>\n      <td>2025: no box, just phone 2030: no phone, just ...</td>\n      <td>2025  no box  just phone 2030  no phone  just ...</td>\n      <td>2025  no box  just phone   no phone  just appl...</td>\n      <td>2025 no box just phone no phone just apple sti...</td>\n      <td>[2025, no, box, just, phone, no, phone, just, ...</td>\n      <td>[2025, box, phone, phone, apple, sticker, apple]</td>\n    </tr>\n    <tr>\n      <th>8</th>\n      <td>8</td>\n      <td>g0AOf2AZ-8w</td>\n      <td>UgyxVKX2qtbVE4d4uKZ4AaABAg</td>\n      <td>\"An apple a year makes your money disappear\"</td>\n      <td>Negative</td>\n      <td>-0.2263</td>\n      <td>\"an apple a year makes your money disappear\"</td>\n      <td>an apple a year makes your money disappear</td>\n      <td>an apple a year makes your money disappear</td>\n      <td>an apple a year makes your money disappear</td>\n      <td>[an, apple, a, year, makes, your, money, disap...</td>\n      <td>[apple, year, money, disappear]</td>\n    </tr>\n    <tr>\n      <th>9</th>\n      <td>9</td>\n      <td>g0AOf2AZ-8w</td>\n      <td>UgwDjkn_hc4QwRHRWtd4AaABAg</td>\n      <td>Very informative and comprehensive review of t...</td>\n      <td>Positive</td>\n      <td>0.9211</td>\n      <td>very informative and comprehensive review of t...</td>\n      <td>very informative and comprehensive review of t...</td>\n      <td>very informative and comprehensive review of t...</td>\n      <td>very informative and comprehensive review of t...</td>\n      <td>[very, informative, and, comprehensive, review...</td>\n      <td>[informative, comprehensive, review, phone, ph...</td>\n    </tr>\n  </tbody>\n</table>\n</div>"
     },
     "metadata": {},
     "output_type": "display_data"
    }
   ],
   "source": [
    "# def lemmatize_text(text):\n",
    "#     lemmatizer = WordNetLemmatizer()\n",
    "#     return [lemmatizer.lemmatize(w) for w in text]\n",
    "\n",
    "# Convert case text as lowercase, remove punctuation, remove extra whitespace in string and on both sides of string\n",
    "# Lowercase all the letters\n",
    "df['lower'] = df['Comments'].str.lower()\n",
    "\n",
    "# Remove punctuations\n",
    "df['punctuation_removed'] = df['lower'].str.replace(\"'\", '', regex=True).str.replace('[^\\w\\s]', ' ', regex=True)\n",
    "\n",
    "# Remove numbers\n",
    "df['numbers_removed'] = df['punctuation_removed'].str.replace(\" \\d+\", \" \", regex=True)\n",
    "\n",
    "# Remove extra whitespace\n",
    "df['extra_spaces_removed'] = df['numbers_removed'].str.replace(' +', ' ', regex=True).str.strip()\n",
    "\n",
    "# Tokenise\n",
    "df['tokenised'] = df.apply(lambda row: nltk.word_tokenize(row['extra_spaces_removed']), axis=1)\n",
    "\n",
    "# Stop words removal\n",
    "# initiate stopwords from nltk\n",
    "stop_words = stopwords.words('english')\n",
    "# add additional missing terms\n",
    "stop_words.extend(stop_words_list)\n",
    "# remove stopwords\n",
    "df['removed_stopwords'] = df['tokenised'].apply(lambda x: [item for item in x if item not in stop_words])\n",
    "\n",
    "display(df.head(10))"
   ],
   "metadata": {
    "collapsed": false,
    "pycharm": {
     "name": "#%%\n"
    }
   }
  },
  {
   "cell_type": "markdown",
   "source": [
    "# Vectorisation for LDA model"
   ],
   "metadata": {
    "collapsed": false,
    "pycharm": {
     "name": "#%% md\n"
    }
   }
  },
  {
   "cell_type": "code",
   "execution_count": 7,
   "outputs": [
    {
     "name": "stdout",
     "output_type": "stream",
     "text": [
      "  (0, 9711)\t1\n",
      "  (0, 4570)\t1\n",
      "  (0, 11264)\t1\n",
      "  (1, 12)\t1\n",
      "  (1, 4335)\t1\n",
      "  (1, 5459)\t1\n",
      "  (1, 1859)\t1\n",
      "  (1, 1956)\t1\n",
      "  (1, 1512)\t1\n",
      "  (2, 9578)\t1\n",
      "  (2, 5009)\t1\n",
      "  (3, 5266)\t1\n",
      "  (3, 8861)\t1\n",
      "  (3, 5935)\t1\n",
      "  (3, 5851)\t1\n",
      "  (4, 7651)\t1\n",
      "  (4, 7490)\t1\n",
      "  (4, 1748)\t1\n",
      "  (5, 372)\t1\n",
      "  (5, 1866)\t1\n",
      "  (5, 2996)\t1\n",
      "  (5, 3192)\t1\n",
      "  (5, 8273)\t1\n",
      "  (5, 424)\t1\n",
      "  (5, 3977)\t1\n",
      "  :\t:\n",
      "  (1974, 10080)\t1\n",
      "  (1974, 2799)\t1\n",
      "  (1974, 6175)\t1\n",
      "  (1974, 2800)\t1\n",
      "  (1974, 10787)\t1\n",
      "  (1974, 6633)\t1\n",
      "  (1974, 5512)\t1\n",
      "  (1974, 7611)\t1\n",
      "  (1974, 10305)\t1\n",
      "  (1974, 10679)\t1\n",
      "  (1974, 4470)\t1\n",
      "  (1974, 2349)\t1\n",
      "  (1974, 9912)\t1\n",
      "  (1974, 10139)\t1\n",
      "  (1974, 4494)\t1\n",
      "  (1974, 5405)\t1\n",
      "  (1974, 6632)\t1\n",
      "  (1974, 9162)\t1\n",
      "  (1974, 8166)\t1\n",
      "  (1975, 5175)\t1\n",
      "  (1975, 1002)\t1\n",
      "  (1975, 6435)\t1\n",
      "  (1975, 4310)\t1\n",
      "  (1976, 6372)\t1\n",
      "  (1976, 6653)\t1\n"
     ]
    }
   ],
   "source": [
    "# initialise the count vectorizer\n",
    "vectorizer = CountVectorizer(analyzer = 'word', ngram_range = (2, 2))\n",
    "\n",
    "# join the processed data to be vectorised\n",
    "\n",
    "vectors = []\n",
    "\n",
    "for index, row in df.iterrows():\n",
    "    vectors.append(\", \".join(row[\"removed_stopwords\"]))\n",
    "\n",
    "vectorised = vectorizer.fit_transform(vectors)\n",
    "\n",
    "print(vectorised)"
   ],
   "metadata": {
    "collapsed": false,
    "pycharm": {
     "name": "#%%\n"
    }
   }
  },
  {
   "cell_type": "markdown",
   "source": [
    "# Topic Modelling Using LDA"
   ],
   "metadata": {
    "collapsed": false,
    "pycharm": {
     "name": "#%% md\n"
    }
   }
  },
  {
   "cell_type": "code",
   "execution_count": 8,
   "outputs": [
    {
     "data": {
      "text/plain": "   index     Video ID                  Comment ID  \\\n0      0  g0AOf2AZ-8w  UgztUIzy3HRj-l74t6N4AaABAg   \n1      1  g0AOf2AZ-8w  UgxC2NMehnqU8Ldzj894AaABAg   \n2      2  g0AOf2AZ-8w  UgwJrfvrEKLV6mFD5HV4AaABAg   \n3      3  g0AOf2AZ-8w  UgxpqFu8bJx7MgKpns94AaABAg   \n4      4  g0AOf2AZ-8w  UgyT5SozX1bBnYJN8ht4AaABAg   \n5      5  g0AOf2AZ-8w  UgwWjr_N7pffk9Sevi94AaABAg   \n6      6  g0AOf2AZ-8w  Ugw3NjdDfH6nA5yCvc94AaABAg   \n7      7  g0AOf2AZ-8w  Ugx9ND3yC3n5_TEjjXh4AaABAg   \n8      8  g0AOf2AZ-8w  UgyxVKX2qtbVE4d4uKZ4AaABAg   \n9      9  g0AOf2AZ-8w  UgwDjkn_hc4QwRHRWtd4AaABAg   \n\n                                            Comments Sentiment  \\\n0  Thanks for subscribing - https://youtube.com/u...  Positive   \n1  2016: no headphone jack  2020: no charger   20...  Negative   \n2  I think I'll stick with my iPhone 11, not much...   Neutral   \n3  I’ve kept the iPhone SE for so long it literal...  Positive   \n4  I love how he plays around with those phones l...  Positive   \n5  Apple: No charger and earphones for \"environme...  Negative   \n6  I planned an iPhone upgrade this year but I’m ...  Positive   \n7  2025: No box, just phone 2030: No phone, Just ...  Negative   \n8       \"An apple a year makes your money disappear\"  Negative   \n9  Very informative and comprehensive review of t...  Positive   \n\n   Sentiment Score                                              lower  \\\n0           0.4404  thanks for subscribing - https://youtube.com/u...   \n1          -0.7783  2016: no headphone jack  2020: no charger   20...   \n2           0.0000  i think i'll stick with my iphone 11, not much...   \n3           0.3612  i’ve kept the iphone se for so long it literal...   \n4           0.8271  i love how he plays around with those phones l...   \n5          -0.2960  apple: no charger and earphones for \"environme...   \n6           0.9504  i planned an iphone upgrade this year but i’m ...   \n7          -0.6808  2025: no box, just phone 2030: no phone, just ...   \n8          -0.2263       \"an apple a year makes your money disappear\"   \n9           0.9211  very informative and comprehensive review of t...   \n\n                                 punctuation_removed  \\\n0  thanks for subscribing   https   youtube com u...   \n1  2016  no headphone jack  2020  no charger   20...   \n2  i think ill stick with my iphone 11  not much ...   \n3  i ve kept the iphone se for so long it literal...   \n4  i love how he plays around with those phones l...   \n5  apple  no charger and earphones for  environme...   \n6  i planned an iphone upgrade this year but i m ...   \n7  2025  no box  just phone 2030  no phone  just ...   \n8        an apple a year makes your money disappear    \n9  very informative and comprehensive review of t...   \n\n                                     numbers_removed  \\\n0  thanks for subscribing   https   youtube com u...   \n1  2016  no headphone jack    no charger     no c...   \n2  i think ill stick with my iphone   not much se...   \n3  i ve kept the iphone se for so long it literal...   \n4  i love how he plays around with those phones l...   \n5  apple  no charger and earphones for  environme...   \n6  i planned an iphone upgrade this year but i m ...   \n7  2025  no box  just phone   no phone  just appl...   \n8        an apple a year makes your money disappear    \n9  very informative and comprehensive review of t...   \n\n                                extra_spaces_removed  \\\n0  thanks for subscribing https youtube com unbox...   \n1  2016 no headphone jack no charger no charging ...   \n2  i think ill stick with my iphone not much seem...   \n3  i ve kept the iphone se for so long it literal...   \n4  i love how he plays around with those phones l...   \n5  apple no charger and earphones for environment...   \n6  i planned an iphone upgrade this year but i m ...   \n7  2025 no box just phone no phone just apple sti...   \n8         an apple a year makes your money disappear   \n9  very informative and comprehensive review of t...   \n\n                                           tokenised  \\\n0  [thanks, for, subscribing, https, youtube, com...   \n1  [2016, no, headphone, jack, no, charger, no, c...   \n2  [i, think, ill, stick, with, my, iphone, not, ...   \n3  [i, ve, kept, the, iphone, se, for, so, long, ...   \n4  [i, love, how, he, plays, around, with, those,...   \n5  [apple, no, charger, and, earphones, for, envi...   \n6  [i, planned, an, iphone, upgrade, this, year, ...   \n7  [2025, no, box, just, phone, no, phone, just, ...   \n8  [an, apple, a, year, makes, your, money, disap...   \n9  [very, informative, and, comprehensive, review...   \n\n                                   removed_stopwords  Topic1  Topic2  Topic3  \\\n0        [subscribing, https, youtube, unboxtherapy]    0.08    0.83    0.08   \n1  [2016, headphone, jack, charger, charging, cab...    0.05    0.90    0.05   \n2                           [stick, iphone, changed]    0.77    0.11    0.11   \n3           [iphone, se, long, literally, boomerang]    0.07    0.86    0.07   \n4                     [plays, phones, casino, cards]    0.08    0.83    0.08   \n5  [apple, charger, earphones, environmental, rea...    0.96    0.02    0.02   \n6  [planned, iphone, upgrade, year, impressed, ap...    0.94    0.03    0.03   \n7   [2025, box, phone, phone, apple, sticker, apple]    0.05    0.05    0.90   \n8                    [apple, year, money, disappear]    0.83    0.08    0.08   \n9  [informative, comprehensive, review, phone, ph...    0.99    0.01    0.01   \n\n   Dominant_topic  \n0               2  \n1               2  \n2               1  \n3               2  \n4               2  \n5               1  \n6               1  \n7               3  \n8               1  \n9               1  ",
      "text/html": "<div>\n<style scoped>\n    .dataframe tbody tr th:only-of-type {\n        vertical-align: middle;\n    }\n\n    .dataframe tbody tr th {\n        vertical-align: top;\n    }\n\n    .dataframe thead th {\n        text-align: right;\n    }\n</style>\n<table border=\"1\" class=\"dataframe\">\n  <thead>\n    <tr style=\"text-align: right;\">\n      <th></th>\n      <th>index</th>\n      <th>Video ID</th>\n      <th>Comment ID</th>\n      <th>Comments</th>\n      <th>Sentiment</th>\n      <th>Sentiment Score</th>\n      <th>lower</th>\n      <th>punctuation_removed</th>\n      <th>numbers_removed</th>\n      <th>extra_spaces_removed</th>\n      <th>tokenised</th>\n      <th>removed_stopwords</th>\n      <th>Topic1</th>\n      <th>Topic2</th>\n      <th>Topic3</th>\n      <th>Dominant_topic</th>\n    </tr>\n  </thead>\n  <tbody>\n    <tr>\n      <th>0</th>\n      <td>0</td>\n      <td>g0AOf2AZ-8w</td>\n      <td>UgztUIzy3HRj-l74t6N4AaABAg</td>\n      <td>Thanks for subscribing - https://youtube.com/u...</td>\n      <td>Positive</td>\n      <td>0.4404</td>\n      <td>thanks for subscribing - https://youtube.com/u...</td>\n      <td>thanks for subscribing   https   youtube com u...</td>\n      <td>thanks for subscribing   https   youtube com u...</td>\n      <td>thanks for subscribing https youtube com unbox...</td>\n      <td>[thanks, for, subscribing, https, youtube, com...</td>\n      <td>[subscribing, https, youtube, unboxtherapy]</td>\n      <td>0.08</td>\n      <td>0.83</td>\n      <td>0.08</td>\n      <td>2</td>\n    </tr>\n    <tr>\n      <th>1</th>\n      <td>1</td>\n      <td>g0AOf2AZ-8w</td>\n      <td>UgxC2NMehnqU8Ldzj894AaABAg</td>\n      <td>2016: no headphone jack  2020: no charger   20...</td>\n      <td>Negative</td>\n      <td>-0.7783</td>\n      <td>2016: no headphone jack  2020: no charger   20...</td>\n      <td>2016  no headphone jack  2020  no charger   20...</td>\n      <td>2016  no headphone jack    no charger     no c...</td>\n      <td>2016 no headphone jack no charger no charging ...</td>\n      <td>[2016, no, headphone, jack, no, charger, no, c...</td>\n      <td>[2016, headphone, jack, charger, charging, cab...</td>\n      <td>0.05</td>\n      <td>0.90</td>\n      <td>0.05</td>\n      <td>2</td>\n    </tr>\n    <tr>\n      <th>2</th>\n      <td>2</td>\n      <td>g0AOf2AZ-8w</td>\n      <td>UgwJrfvrEKLV6mFD5HV4AaABAg</td>\n      <td>I think I'll stick with my iPhone 11, not much...</td>\n      <td>Neutral</td>\n      <td>0.0000</td>\n      <td>i think i'll stick with my iphone 11, not much...</td>\n      <td>i think ill stick with my iphone 11  not much ...</td>\n      <td>i think ill stick with my iphone   not much se...</td>\n      <td>i think ill stick with my iphone not much seem...</td>\n      <td>[i, think, ill, stick, with, my, iphone, not, ...</td>\n      <td>[stick, iphone, changed]</td>\n      <td>0.77</td>\n      <td>0.11</td>\n      <td>0.11</td>\n      <td>1</td>\n    </tr>\n    <tr>\n      <th>3</th>\n      <td>3</td>\n      <td>g0AOf2AZ-8w</td>\n      <td>UgxpqFu8bJx7MgKpns94AaABAg</td>\n      <td>I’ve kept the iPhone SE for so long it literal...</td>\n      <td>Positive</td>\n      <td>0.3612</td>\n      <td>i’ve kept the iphone se for so long it literal...</td>\n      <td>i ve kept the iphone se for so long it literal...</td>\n      <td>i ve kept the iphone se for so long it literal...</td>\n      <td>i ve kept the iphone se for so long it literal...</td>\n      <td>[i, ve, kept, the, iphone, se, for, so, long, ...</td>\n      <td>[iphone, se, long, literally, boomerang]</td>\n      <td>0.07</td>\n      <td>0.86</td>\n      <td>0.07</td>\n      <td>2</td>\n    </tr>\n    <tr>\n      <th>4</th>\n      <td>4</td>\n      <td>g0AOf2AZ-8w</td>\n      <td>UgyT5SozX1bBnYJN8ht4AaABAg</td>\n      <td>I love how he plays around with those phones l...</td>\n      <td>Positive</td>\n      <td>0.8271</td>\n      <td>i love how he plays around with those phones l...</td>\n      <td>i love how he plays around with those phones l...</td>\n      <td>i love how he plays around with those phones l...</td>\n      <td>i love how he plays around with those phones l...</td>\n      <td>[i, love, how, he, plays, around, with, those,...</td>\n      <td>[plays, phones, casino, cards]</td>\n      <td>0.08</td>\n      <td>0.83</td>\n      <td>0.08</td>\n      <td>2</td>\n    </tr>\n    <tr>\n      <th>5</th>\n      <td>5</td>\n      <td>g0AOf2AZ-8w</td>\n      <td>UgwWjr_N7pffk9Sevi94AaABAg</td>\n      <td>Apple: No charger and earphones for \"environme...</td>\n      <td>Negative</td>\n      <td>-0.2960</td>\n      <td>apple: no charger and earphones for \"environme...</td>\n      <td>apple  no charger and earphones for  environme...</td>\n      <td>apple  no charger and earphones for  environme...</td>\n      <td>apple no charger and earphones for environment...</td>\n      <td>[apple, no, charger, and, earphones, for, envi...</td>\n      <td>[apple, charger, earphones, environmental, rea...</td>\n      <td>0.96</td>\n      <td>0.02</td>\n      <td>0.02</td>\n      <td>1</td>\n    </tr>\n    <tr>\n      <th>6</th>\n      <td>6</td>\n      <td>g0AOf2AZ-8w</td>\n      <td>Ugw3NjdDfH6nA5yCvc94AaABAg</td>\n      <td>I planned an iPhone upgrade this year but I’m ...</td>\n      <td>Positive</td>\n      <td>0.9504</td>\n      <td>i planned an iphone upgrade this year but i’m ...</td>\n      <td>i planned an iphone upgrade this year but i m ...</td>\n      <td>i planned an iphone upgrade this year but i m ...</td>\n      <td>i planned an iphone upgrade this year but i m ...</td>\n      <td>[i, planned, an, iphone, upgrade, this, year, ...</td>\n      <td>[planned, iphone, upgrade, year, impressed, ap...</td>\n      <td>0.94</td>\n      <td>0.03</td>\n      <td>0.03</td>\n      <td>1</td>\n    </tr>\n    <tr>\n      <th>7</th>\n      <td>7</td>\n      <td>g0AOf2AZ-8w</td>\n      <td>Ugx9ND3yC3n5_TEjjXh4AaABAg</td>\n      <td>2025: No box, just phone 2030: No phone, Just ...</td>\n      <td>Negative</td>\n      <td>-0.6808</td>\n      <td>2025: no box, just phone 2030: no phone, just ...</td>\n      <td>2025  no box  just phone 2030  no phone  just ...</td>\n      <td>2025  no box  just phone   no phone  just appl...</td>\n      <td>2025 no box just phone no phone just apple sti...</td>\n      <td>[2025, no, box, just, phone, no, phone, just, ...</td>\n      <td>[2025, box, phone, phone, apple, sticker, apple]</td>\n      <td>0.05</td>\n      <td>0.05</td>\n      <td>0.90</td>\n      <td>3</td>\n    </tr>\n    <tr>\n      <th>8</th>\n      <td>8</td>\n      <td>g0AOf2AZ-8w</td>\n      <td>UgyxVKX2qtbVE4d4uKZ4AaABAg</td>\n      <td>\"An apple a year makes your money disappear\"</td>\n      <td>Negative</td>\n      <td>-0.2263</td>\n      <td>\"an apple a year makes your money disappear\"</td>\n      <td>an apple a year makes your money disappear</td>\n      <td>an apple a year makes your money disappear</td>\n      <td>an apple a year makes your money disappear</td>\n      <td>[an, apple, a, year, makes, your, money, disap...</td>\n      <td>[apple, year, money, disappear]</td>\n      <td>0.83</td>\n      <td>0.08</td>\n      <td>0.08</td>\n      <td>1</td>\n    </tr>\n    <tr>\n      <th>9</th>\n      <td>9</td>\n      <td>g0AOf2AZ-8w</td>\n      <td>UgwDjkn_hc4QwRHRWtd4AaABAg</td>\n      <td>Very informative and comprehensive review of t...</td>\n      <td>Positive</td>\n      <td>0.9211</td>\n      <td>very informative and comprehensive review of t...</td>\n      <td>very informative and comprehensive review of t...</td>\n      <td>very informative and comprehensive review of t...</td>\n      <td>very informative and comprehensive review of t...</td>\n      <td>[very, informative, and, comprehensive, review...</td>\n      <td>[informative, comprehensive, review, phone, ph...</td>\n      <td>0.99</td>\n      <td>0.01</td>\n      <td>0.01</td>\n      <td>1</td>\n    </tr>\n  </tbody>\n</table>\n</div>"
     },
     "metadata": {},
     "output_type": "display_data"
    }
   ],
   "source": [
    "# Initialise LDA Model\n",
    "lda_model = LatentDirichletAllocation(n_components = 3, # number of topics\n",
    "                                      random_state = 1,     # random state USED TO BE 10\n",
    "                                      evaluate_every = -1,  # compute perplexity every n iters, default: Don't\n",
    "                                      n_jobs = -1,         # Use all available CPUs\n",
    "                                 )\n",
    "\n",
    "# Returns a list of probability of belonging to each topic for each comment\n",
    "lda_output = lda_model.fit_transform(vectorised)\n",
    "\n",
    "# Column names\n",
    "topic_names = [\"Topic\" + str(i) for i in range(1, lda_model.n_components + 1)]\n",
    "\n",
    "# Make the pandas dataframe\n",
    "df_document_topic = pd.DataFrame(np.round(lda_output, 2), columns = topic_names)\n",
    "\n",
    "# Get dominant topic for each document\n",
    "dominant_topic = (np.argmax(df_document_topic.values, axis=1)+1)\n",
    "df_document_topic['Dominant_topic'] = dominant_topic\n",
    "\n",
    "# Join to original dataframes\n",
    "\n",
    "df = pd.merge(df, df_document_topic, left_index = True, right_index = True, how = 'outer')\n",
    "display(df.head(10))"
   ],
   "metadata": {
    "collapsed": false,
    "pycharm": {
     "name": "#%%\n"
    }
   }
  },
  {
   "cell_type": "code",
   "execution_count": 9,
   "outputs": [
    {
     "data": {
      "text/plain": "               topic  relevance_score\n10 years           1         1.332315\n11 pro             3         1.330982\n12 max             3         1.328261\n12 mini            2         7.361218\n12 pro             1         8.296777\n...              ...              ...\nzukunft ist        2         1.333294\nzukunft von        2         1.333294\nítens básicos      3         1.333261\nजय मह              2         1.330920\nमह वड              2         1.330920\n\n[11287 rows x 2 columns]",
      "text/html": "<div>\n<style scoped>\n    .dataframe tbody tr th:only-of-type {\n        vertical-align: middle;\n    }\n\n    .dataframe tbody tr th {\n        vertical-align: top;\n    }\n\n    .dataframe thead th {\n        text-align: right;\n    }\n</style>\n<table border=\"1\" class=\"dataframe\">\n  <thead>\n    <tr style=\"text-align: right;\">\n      <th></th>\n      <th>topic</th>\n      <th>relevance_score</th>\n    </tr>\n  </thead>\n  <tbody>\n    <tr>\n      <th>10 years</th>\n      <td>1</td>\n      <td>1.332315</td>\n    </tr>\n    <tr>\n      <th>11 pro</th>\n      <td>3</td>\n      <td>1.330982</td>\n    </tr>\n    <tr>\n      <th>12 max</th>\n      <td>3</td>\n      <td>1.328261</td>\n    </tr>\n    <tr>\n      <th>12 mini</th>\n      <td>2</td>\n      <td>7.361218</td>\n    </tr>\n    <tr>\n      <th>12 pro</th>\n      <td>1</td>\n      <td>8.296777</td>\n    </tr>\n    <tr>\n      <th>...</th>\n      <td>...</td>\n      <td>...</td>\n    </tr>\n    <tr>\n      <th>zukunft ist</th>\n      <td>2</td>\n      <td>1.333294</td>\n    </tr>\n    <tr>\n      <th>zukunft von</th>\n      <td>2</td>\n      <td>1.333294</td>\n    </tr>\n    <tr>\n      <th>ítens básicos</th>\n      <td>3</td>\n      <td>1.333261</td>\n    </tr>\n    <tr>\n      <th>जय मह</th>\n      <td>2</td>\n      <td>1.330920</td>\n    </tr>\n    <tr>\n      <th>मह वड</th>\n      <td>2</td>\n      <td>1.330920</td>\n    </tr>\n  </tbody>\n</table>\n<p>11287 rows × 2 columns</p>\n</div>"
     },
     "metadata": {},
     "output_type": "display_data"
    }
   ],
   "source": [
    "# index names\n",
    "docnames = ['Doc' + str(i) for i in range(len(df))]\n",
    "\n",
    "# Make the pandas dataframe\n",
    "df_document_topic = pd.DataFrame(np.round(lda_output, 2), columns=topic_names, index=docnames)\n",
    "\n",
    "# Get dominant topic for each document\n",
    "dominant_topic = np.argmax(df_document_topic.values, axis=1)\n",
    "df_document_topic['dominant_topic'] = dominant_topic\n",
    "\n",
    "# display(df_document_topic)\n",
    "\n",
    "# Topic-Keyword Matrix\n",
    "df_topic_keywords = pd.DataFrame(lda_model.components_)\n",
    "\n",
    "# Assign Column and Index\n",
    "df_topic_keywords.columns = vectorizer.get_feature_names_out()\n",
    "df_topic_keywords.index = topic_names\n",
    "\n",
    "# display(df_topic_keywords)\n",
    "\n",
    "df_topic_no = pd.DataFrame(df_topic_keywords.idxmax())\n",
    "df_scores = pd.DataFrame(df_topic_keywords.max())\n",
    "\n",
    "tmp = pd.merge(df_topic_no, df_scores, left_index=True, right_index=True)\n",
    "tmp.columns = ['topic', 'relevance_score']\n",
    "\n",
    "tmp[\"topic\"] =  tmp.topic.str.extract('(\\d+)')\n",
    "tmp[\"topic\"] = tmp[\"topic\"].astype(int)\n",
    "\n",
    "display(tmp)"
   ],
   "metadata": {
    "collapsed": false,
    "pycharm": {
     "name": "#%%\n"
    }
   }
  },
  {
   "cell_type": "code",
   "execution_count": 10,
   "outputs": [
    {
     "data": {
      "text/plain": "   Dominant_topic       topic_name\n0               1        [pro max]\n1               3  [iphone iphone]\n2               2    [iphone mini]",
      "text/html": "<div>\n<style scoped>\n    .dataframe tbody tr th:only-of-type {\n        vertical-align: middle;\n    }\n\n    .dataframe tbody tr th {\n        vertical-align: top;\n    }\n\n    .dataframe thead th {\n        text-align: right;\n    }\n</style>\n<table border=\"1\" class=\"dataframe\">\n  <thead>\n    <tr style=\"text-align: right;\">\n      <th></th>\n      <th>Dominant_topic</th>\n      <th>topic_name</th>\n    </tr>\n  </thead>\n  <tbody>\n    <tr>\n      <th>0</th>\n      <td>1</td>\n      <td>[pro max]</td>\n    </tr>\n    <tr>\n      <th>1</th>\n      <td>3</td>\n      <td>[iphone iphone]</td>\n    </tr>\n    <tr>\n      <th>2</th>\n      <td>2</td>\n      <td>[iphone mini]</td>\n    </tr>\n  </tbody>\n</table>\n</div>"
     },
     "metadata": {},
     "output_type": "display_data"
    }
   ],
   "source": [
    "all_topics = []\n",
    "\n",
    "for i in tmp['topic'].unique():\n",
    "    tmp_1 = tmp.loc[tmp['topic'] == i].reset_index()\n",
    "    tmp_1 = tmp_1.sort_values('relevance_score', ascending=False).head(1)\n",
    "\n",
    "    # print(tmp_1)\n",
    "    # print(tmp_1['topic'])\n",
    "    # tmp_1['topic'] = tmp_1['topic'] + 1\n",
    "\n",
    "    tmp_2 = []\n",
    "    tmp_2.append(tmp_1['topic'].unique()[0])\n",
    "    tmp_2.append(list(tmp_1['index'].unique()))\n",
    "    all_topics.append(tmp_2)\n",
    "\n",
    "all_topics = pd.DataFrame(all_topics, columns=['Dominant_topic', 'topic_name'])\n",
    "display(all_topics)"
   ],
   "metadata": {
    "collapsed": false,
    "pycharm": {
     "name": "#%%\n"
    }
   }
  },
  {
   "cell_type": "code",
   "execution_count": 11,
   "outputs": [
    {
     "data": {
      "text/plain": "Sentiment      Negative  Neutral  Positive\ntopic_name                                \niphone iphone       118      179       299\niphone mini         119      182       340\npro max             152      241       347",
      "text/html": "<div>\n<style scoped>\n    .dataframe tbody tr th:only-of-type {\n        vertical-align: middle;\n    }\n\n    .dataframe tbody tr th {\n        vertical-align: top;\n    }\n\n    .dataframe thead th {\n        text-align: right;\n    }\n</style>\n<table border=\"1\" class=\"dataframe\">\n  <thead>\n    <tr style=\"text-align: right;\">\n      <th>Sentiment</th>\n      <th>Negative</th>\n      <th>Neutral</th>\n      <th>Positive</th>\n    </tr>\n    <tr>\n      <th>topic_name</th>\n      <th></th>\n      <th></th>\n      <th></th>\n    </tr>\n  </thead>\n  <tbody>\n    <tr>\n      <th>iphone iphone</th>\n      <td>118</td>\n      <td>179</td>\n      <td>299</td>\n    </tr>\n    <tr>\n      <th>iphone mini</th>\n      <td>119</td>\n      <td>182</td>\n      <td>340</td>\n    </tr>\n    <tr>\n      <th>pro max</th>\n      <td>152</td>\n      <td>241</td>\n      <td>347</td>\n    </tr>\n  </tbody>\n</table>\n</div>"
     },
     "metadata": {},
     "output_type": "display_data"
    }
   ],
   "source": [
    "results = df.groupby(['Dominant_topic', 'Sentiment']).count().reset_index()\n",
    "# display(results)\n",
    "\n",
    "results = results.merge(all_topics, on='Dominant_topic')\n",
    "results['topic_name'] = results['topic_name'].apply(', '.join)\n",
    "\n",
    "# display(results)\n",
    "\n",
    "graph_results = results[['topic_name', 'Sentiment', 'Sentiment Score']]\n",
    "graph_results = graph_results.pivot(index='topic_name', columns='Sentiment', values='Sentiment Score').reset_index()\n",
    "\n",
    "graph_results.set_index('topic_name', inplace=True)\n",
    "display(graph_results)"
   ],
   "metadata": {
    "collapsed": false,
    "pycharm": {
     "name": "#%%\n"
    }
   }
  },
  {
   "cell_type": "code",
   "execution_count": 12,
   "outputs": [
    {
     "data": {
      "text/plain": "<Figure size 720x720 with 1 Axes>",
      "image/png": "[encoded data removed]"
     },
     "metadata": {
      "needs_background": "light"
     },
     "output_type": "display_data"
    }
   ],
   "source": [
    "fig = graph_results.plot.bar(rot=90, figsize=(10,10))\n",
    "# fig.figure.savefig(f'{creator}_absa_lda.png' , bbox_inches='tight')"
   ],
   "metadata": {
    "collapsed": false,
    "pycharm": {
     "name": "#%%\n"
    }
   }
  }
 ],
 "metadata": {
  "kernelspec": {
   "display_name": "Python 3",
   "language": "python",
   "name": "python3"
  },
  "language_info": {
   "codemirror_mode": {
    "name": "ipython",
    "version": 2
   },
   "file_extension": ".py",
   "mimetype": "text/x-python",
   "name": "python",
   "nbconvert_exporter": "python",
   "pygments_lexer": "ipython2",
   "version": "2.7.6"
  }
 },
 "nbformat": 4,
 "nbformat_minor": 0
}