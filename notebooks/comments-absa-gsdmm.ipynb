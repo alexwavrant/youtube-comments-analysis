{
 "cells": [
  {
   "cell_type": "code",
   "execution_count": 67,
   "metadata": {
    "collapsed": true
   },
   "outputs": [],
   "source": [
    "import pandas as pd\n",
    "import numpy as np\n",
    "\n",
    "# Data pre-processing\n",
    "import nltk\n",
    "from nltk.stem import WordNetLemmatizer\n",
    "\n",
    "# List of stop words used for data pre-processing\n",
    "from stop_words_list import stop_words_list\n",
    "from nltk.corpus import stopwords\n",
    "\n",
    "# Sentiment Analysis\n",
    "from vaderSentiment.vaderSentiment import SentimentIntensityAnalyzer\n",
    "\n",
    "# Topics modelling\n",
    "from gsdmm.gsdmm.mgp import MovieGroupProcess"
   ]
  },
  {
   "cell_type": "code",
   "execution_count": 68,
   "outputs": [],
   "source": [
    "# List of available creators: \"MKBHD\", \"Jonathan Morrison\", \"Unbox Therapy\", \"Chris Stuckman\", \"Jeremy Jahns\", \"Channel Awesome\", \"James Charles\", \"NikkieTutorials\", \"sophdoeslife\"\n",
    "\n",
    "creator = \"NikkieTutorials\"\n",
    "output_df = pd.read_excel(f\"../comments_spreadsheets/extracted_comments_{creator}.xlsx\")"
   ],
   "metadata": {
    "collapsed": false,
    "pycharm": {
     "name": "#%%\n"
    }
   }
  },
  {
   "cell_type": "code",
   "execution_count": 69,
   "outputs": [
    {
     "name": "stdout",
     "output_type": "stream",
     "text": [
      "Count of duplicate comments in dataframe 24\n",
      "Count of unique comments in dataframe 1976\n"
     ]
    },
    {
     "data": {
      "text/plain": "      index     Video ID                  Comment ID  \\\n0         0  -qn_cTHvfOY  Ugxgr1vjrtDWkJrnrCB4AaABAg   \n1         1  -qn_cTHvfOY  UgwJUsXgC2RHBVD7KXB4AaABAg   \n2         2  -qn_cTHvfOY  UgwPQIeM5WdRf3dAZoB4AaABAg   \n3         3  -qn_cTHvfOY  UgxNipi4J08dI02k53x4AaABAg   \n4         4  -qn_cTHvfOY  Ugy02sG4COz5OIQt-GN4AaABAg   \n...     ...          ...                         ...   \n1971   1995  -qn_cTHvfOY  UgzRcHtontnI6SEW7CZ4AaABAg   \n1972   1996  -qn_cTHvfOY  UgxtOZByqxDvlkdP1cZ4AaABAg   \n1973   1997  -qn_cTHvfOY  UgxM6NIy4X3mqgU-oed4AaABAg   \n1974   1998  -qn_cTHvfOY  UgwP_U9FMCuOTy8Tejx4AaABAg   \n1975   1999  -qn_cTHvfOY  UgzPL-q6nYlIXByU8gJ4AaABAg   \n\n                                               Comments  \n0              *WHAT'S UR FAVORITE ARIANA GRANDE SONG?*  \n1     I don’t think people realize that Ari is usual...  \n2     Daily reminder: If you are a arianator it is o...  \n3     I’m with you on the packaging. It reminds me o...  \n4     The only thing I have to say is that liquid ey...  \n...                                                 ...  \n1971  It all looks white label'd products , standard...  \n1972               The product seems like ELF products.  \n1973       looks like little girl dollarstore makeup :(  \n1974  I think that she care about product and not pa...  \n1975  why are you trying to use a natural makeup and...  \n\n[1976 rows x 4 columns]",
      "text/html": "<div>\n<style scoped>\n    .dataframe tbody tr th:only-of-type {\n        vertical-align: middle;\n    }\n\n    .dataframe tbody tr th {\n        vertical-align: top;\n    }\n\n    .dataframe thead th {\n        text-align: right;\n    }\n</style>\n<table border=\"1\" class=\"dataframe\">\n  <thead>\n    <tr style=\"text-align: right;\">\n      <th></th>\n      <th>index</th>\n      <th>Video ID</th>\n      <th>Comment ID</th>\n      <th>Comments</th>\n    </tr>\n  </thead>\n  <tbody>\n    <tr>\n      <th>0</th>\n      <td>0</td>\n      <td>-qn_cTHvfOY</td>\n      <td>Ugxgr1vjrtDWkJrnrCB4AaABAg</td>\n      <td>*WHAT'S UR FAVORITE ARIANA GRANDE SONG?*</td>\n    </tr>\n    <tr>\n      <th>1</th>\n      <td>1</td>\n      <td>-qn_cTHvfOY</td>\n      <td>UgwJUsXgC2RHBVD7KXB4AaABAg</td>\n      <td>I don’t think people realize that Ari is usual...</td>\n    </tr>\n    <tr>\n      <th>2</th>\n      <td>2</td>\n      <td>-qn_cTHvfOY</td>\n      <td>UgwPQIeM5WdRf3dAZoB4AaABAg</td>\n      <td>Daily reminder: If you are a arianator it is o...</td>\n    </tr>\n    <tr>\n      <th>3</th>\n      <td>3</td>\n      <td>-qn_cTHvfOY</td>\n      <td>UgxNipi4J08dI02k53x4AaABAg</td>\n      <td>I’m with you on the packaging. It reminds me o...</td>\n    </tr>\n    <tr>\n      <th>4</th>\n      <td>4</td>\n      <td>-qn_cTHvfOY</td>\n      <td>Ugy02sG4COz5OIQt-GN4AaABAg</td>\n      <td>The only thing I have to say is that liquid ey...</td>\n    </tr>\n    <tr>\n      <th>...</th>\n      <td>...</td>\n      <td>...</td>\n      <td>...</td>\n      <td>...</td>\n    </tr>\n    <tr>\n      <th>1971</th>\n      <td>1995</td>\n      <td>-qn_cTHvfOY</td>\n      <td>UgzRcHtontnI6SEW7CZ4AaABAg</td>\n      <td>It all looks white label'd products , standard...</td>\n    </tr>\n    <tr>\n      <th>1972</th>\n      <td>1996</td>\n      <td>-qn_cTHvfOY</td>\n      <td>UgxtOZByqxDvlkdP1cZ4AaABAg</td>\n      <td>The product seems like ELF products.</td>\n    </tr>\n    <tr>\n      <th>1973</th>\n      <td>1997</td>\n      <td>-qn_cTHvfOY</td>\n      <td>UgxM6NIy4X3mqgU-oed4AaABAg</td>\n      <td>looks like little girl dollarstore makeup :(</td>\n    </tr>\n    <tr>\n      <th>1974</th>\n      <td>1998</td>\n      <td>-qn_cTHvfOY</td>\n      <td>UgwP_U9FMCuOTy8Tejx4AaABAg</td>\n      <td>I think that she care about product and not pa...</td>\n    </tr>\n    <tr>\n      <th>1975</th>\n      <td>1999</td>\n      <td>-qn_cTHvfOY</td>\n      <td>UgzPL-q6nYlIXByU8gJ4AaABAg</td>\n      <td>why are you trying to use a natural makeup and...</td>\n    </tr>\n  </tbody>\n</table>\n<p>1976 rows × 4 columns</p>\n</div>"
     },
     "metadata": {},
     "output_type": "display_data"
    }
   ],
   "source": [
    "duplicates = output_df[output_df.duplicated((\"Comments\"))]\n",
    "print (\"Count of duplicate comments in dataframe\"\n",
    ", duplicates.shape[0])\n",
    "\n",
    "print (\"Count of unique comments in dataframe\"\n",
    ", output_df.shape[0] - duplicates.shape[0])\n",
    "\n",
    "# Remove duplicated comments from dataset\n",
    "unique_df = output_df.drop_duplicates(subset=[\"Comments\"], keep='first')\n",
    "df = unique_df.reset_index()\n",
    "\n",
    "# Removes line return \"\\n\"\n",
    "df = df.replace(r'\\n',' ', regex=True)\n",
    "\n",
    "display(df)"
   ],
   "metadata": {
    "collapsed": false,
    "pycharm": {
     "name": "#%%\n"
    }
   }
  },
  {
   "cell_type": "markdown",
   "source": [
    "# Sentiment Analysis"
   ],
   "metadata": {
    "collapsed": false,
    "pycharm": {
     "name": "#%% md\n"
    }
   }
  },
  {
   "cell_type": "code",
   "execution_count": 70,
   "outputs": [
    {
     "data": {
      "text/plain": "   index     Video ID                  Comment ID  \\\n0      0  -qn_cTHvfOY  Ugxgr1vjrtDWkJrnrCB4AaABAg   \n1      1  -qn_cTHvfOY  UgwJUsXgC2RHBVD7KXB4AaABAg   \n2      2  -qn_cTHvfOY  UgwPQIeM5WdRf3dAZoB4AaABAg   \n3      3  -qn_cTHvfOY  UgxNipi4J08dI02k53x4AaABAg   \n4      4  -qn_cTHvfOY  Ugy02sG4COz5OIQt-GN4AaABAg   \n5      5  -qn_cTHvfOY  UgwLcmNISNTFKJix9dl4AaABAg   \n6      6  -qn_cTHvfOY  UgzyBL8LnSbiRDHgqpJ4AaABAg   \n7      7  -qn_cTHvfOY  UgxT7hUCrcqCxAIfDk94AaABAg   \n8      8  -qn_cTHvfOY  UgzU-xBPjIWk43D8oUZ4AaABAg   \n9      9  -qn_cTHvfOY  Ugw1FPGLauT05yRHE1Z4AaABAg   \n\n                                            Comments Sentiment  \\\n0           *WHAT'S UR FAVORITE ARIANA GRANDE SONG?*  Positive   \n1  I don’t think people realize that Ari is usual...  Positive   \n2  Daily reminder: If you are a arianator it is o...  Positive   \n3  I’m with you on the packaging. It reminds me o...  Positive   \n4  The only thing I have to say is that liquid ey...  Positive   \n5  Recycled packaging doesnt necessarily have to ...   Neutral   \n6  the packaging is “simplistic” because the prod...  Positive   \n7  I love how sweet you’re even with being honest...  Positive   \n8  I really think a lot of celebrities are coming...  Positive   \n9  I feel like nikkie is the perfect person to re...  Positive   \n\n   Sentiment Score  \n0           0.4588  \n1           0.8591  \n2           0.5368  \n3           0.8024  \n4           0.1280  \n5           0.0000  \n6           0.7964  \n7           0.9697  \n8           0.8910  \n9           0.9353  ",
      "text/html": "<div>\n<style scoped>\n    .dataframe tbody tr th:only-of-type {\n        vertical-align: middle;\n    }\n\n    .dataframe tbody tr th {\n        vertical-align: top;\n    }\n\n    .dataframe thead th {\n        text-align: right;\n    }\n</style>\n<table border=\"1\" class=\"dataframe\">\n  <thead>\n    <tr style=\"text-align: right;\">\n      <th></th>\n      <th>index</th>\n      <th>Video ID</th>\n      <th>Comment ID</th>\n      <th>Comments</th>\n      <th>Sentiment</th>\n      <th>Sentiment Score</th>\n    </tr>\n  </thead>\n  <tbody>\n    <tr>\n      <th>0</th>\n      <td>0</td>\n      <td>-qn_cTHvfOY</td>\n      <td>Ugxgr1vjrtDWkJrnrCB4AaABAg</td>\n      <td>*WHAT'S UR FAVORITE ARIANA GRANDE SONG?*</td>\n      <td>Positive</td>\n      <td>0.4588</td>\n    </tr>\n    <tr>\n      <th>1</th>\n      <td>1</td>\n      <td>-qn_cTHvfOY</td>\n      <td>UgwJUsXgC2RHBVD7KXB4AaABAg</td>\n      <td>I don’t think people realize that Ari is usual...</td>\n      <td>Positive</td>\n      <td>0.8591</td>\n    </tr>\n    <tr>\n      <th>2</th>\n      <td>2</td>\n      <td>-qn_cTHvfOY</td>\n      <td>UgwPQIeM5WdRf3dAZoB4AaABAg</td>\n      <td>Daily reminder: If you are a arianator it is o...</td>\n      <td>Positive</td>\n      <td>0.5368</td>\n    </tr>\n    <tr>\n      <th>3</th>\n      <td>3</td>\n      <td>-qn_cTHvfOY</td>\n      <td>UgxNipi4J08dI02k53x4AaABAg</td>\n      <td>I’m with you on the packaging. It reminds me o...</td>\n      <td>Positive</td>\n      <td>0.8024</td>\n    </tr>\n    <tr>\n      <th>4</th>\n      <td>4</td>\n      <td>-qn_cTHvfOY</td>\n      <td>Ugy02sG4COz5OIQt-GN4AaABAg</td>\n      <td>The only thing I have to say is that liquid ey...</td>\n      <td>Positive</td>\n      <td>0.1280</td>\n    </tr>\n    <tr>\n      <th>5</th>\n      <td>5</td>\n      <td>-qn_cTHvfOY</td>\n      <td>UgwLcmNISNTFKJix9dl4AaABAg</td>\n      <td>Recycled packaging doesnt necessarily have to ...</td>\n      <td>Neutral</td>\n      <td>0.0000</td>\n    </tr>\n    <tr>\n      <th>6</th>\n      <td>6</td>\n      <td>-qn_cTHvfOY</td>\n      <td>UgzyBL8LnSbiRDHgqpJ4AaABAg</td>\n      <td>the packaging is “simplistic” because the prod...</td>\n      <td>Positive</td>\n      <td>0.7964</td>\n    </tr>\n    <tr>\n      <th>7</th>\n      <td>7</td>\n      <td>-qn_cTHvfOY</td>\n      <td>UgxT7hUCrcqCxAIfDk94AaABAg</td>\n      <td>I love how sweet you’re even with being honest...</td>\n      <td>Positive</td>\n      <td>0.9697</td>\n    </tr>\n    <tr>\n      <th>8</th>\n      <td>8</td>\n      <td>-qn_cTHvfOY</td>\n      <td>UgzU-xBPjIWk43D8oUZ4AaABAg</td>\n      <td>I really think a lot of celebrities are coming...</td>\n      <td>Positive</td>\n      <td>0.8910</td>\n    </tr>\n    <tr>\n      <th>9</th>\n      <td>9</td>\n      <td>-qn_cTHvfOY</td>\n      <td>Ugw1FPGLauT05yRHE1Z4AaABAg</td>\n      <td>I feel like nikkie is the perfect person to re...</td>\n      <td>Positive</td>\n      <td>0.9353</td>\n    </tr>\n  </tbody>\n</table>\n</div>"
     },
     "metadata": {},
     "output_type": "display_data"
    }
   ],
   "source": [
    "sentimentAnalyser = SentimentIntensityAnalyzer()\n",
    "sentimentScoreList = []\n",
    "sentimentLabelList = []\n",
    "\n",
    "for i in df[\"Comments\"].values.tolist():\n",
    "    sentimentScore = sentimentAnalyser.polarity_scores(i)\n",
    "\n",
    "    if sentimentScore['compound'] >= 0.05:\n",
    "        sentimentScoreList.append(sentimentScore['compound'])\n",
    "        sentimentLabelList.append('Positive')\n",
    "    elif sentimentScore['compound'] > -0.05 and sentimentScore['compound'] < 0.05:\n",
    "        sentimentScoreList.append(sentimentScore['compound'])\n",
    "        sentimentLabelList.append('Neutral')\n",
    "    elif sentimentScore['compound'] <= -0.05:\n",
    "        sentimentScoreList.append(sentimentScore['compound'])\n",
    "        sentimentLabelList.append('Negative')\n",
    "\n",
    "df[\"Sentiment\"] = sentimentLabelList\n",
    "df[\"Sentiment Score\"] = sentimentScoreList\n",
    "\n",
    "display(df.head(10))"
   ],
   "metadata": {
    "collapsed": false,
    "pycharm": {
     "name": "#%%\n"
    }
   }
  },
  {
   "cell_type": "code",
   "execution_count": 71,
   "outputs": [
    {
     "data": {
      "text/plain": "   index     Video ID                  Comment ID  \\\n0      0  -qn_cTHvfOY  Ugxgr1vjrtDWkJrnrCB4AaABAg   \n1      1  -qn_cTHvfOY  UgwJUsXgC2RHBVD7KXB4AaABAg   \n2      2  -qn_cTHvfOY  UgwPQIeM5WdRf3dAZoB4AaABAg   \n3      3  -qn_cTHvfOY  UgxNipi4J08dI02k53x4AaABAg   \n4      4  -qn_cTHvfOY  Ugy02sG4COz5OIQt-GN4AaABAg   \n5      5  -qn_cTHvfOY  UgwLcmNISNTFKJix9dl4AaABAg   \n6      6  -qn_cTHvfOY  UgzyBL8LnSbiRDHgqpJ4AaABAg   \n7      7  -qn_cTHvfOY  UgxT7hUCrcqCxAIfDk94AaABAg   \n8      8  -qn_cTHvfOY  UgzU-xBPjIWk43D8oUZ4AaABAg   \n9      9  -qn_cTHvfOY  Ugw1FPGLauT05yRHE1Z4AaABAg   \n\n                                            Comments Sentiment  \\\n0           *WHAT'S UR FAVORITE ARIANA GRANDE SONG?*  Positive   \n1  I don’t think people realize that Ari is usual...  Positive   \n2  Daily reminder: If you are a arianator it is o...  Positive   \n3  I’m with you on the packaging. It reminds me o...  Positive   \n4  The only thing I have to say is that liquid ey...  Positive   \n5  Recycled packaging doesnt necessarily have to ...   Neutral   \n6  the packaging is “simplistic” because the prod...  Positive   \n7  I love how sweet you’re even with being honest...  Positive   \n8  I really think a lot of celebrities are coming...  Positive   \n9  I feel like nikkie is the perfect person to re...  Positive   \n\n   Sentiment Score                                              lower  \\\n0           0.4588           *what's ur favorite ariana grande song?*   \n1           0.8591  i don’t think people realize that ari is usual...   \n2           0.5368  daily reminder: if you are a arianator it is o...   \n3           0.8024  i’m with you on the packaging. it reminds me o...   \n4           0.1280  the only thing i have to say is that liquid ey...   \n5           0.0000  recycled packaging doesnt necessarily have to ...   \n6           0.7964  the packaging is “simplistic” because the prod...   \n7           0.9697  i love how sweet you’re even with being honest...   \n8           0.8910  i really think a lot of celebrities are coming...   \n9           0.9353  i feel like nikkie is the perfect person to re...   \n\n                                 punctuation_removed  \\\n0             whats ur favorite ariana grande song     \n1  i don t think people realize that ari is usual...   \n2  daily reminder  if you are a arianator it is o...   \n3  i m with you on the packaging  it reminds me o...   \n4  the only thing i have to say is that liquid ey...   \n5  recycled packaging doesnt necessarily have to ...   \n6  the packaging is  simplistic  because the prod...   \n7  i love how sweet you re even with being honest...   \n8  i really think a lot of celebrities are coming...   \n9  i feel like nikkie is the perfect person to re...   \n\n                                     numbers_removed  \\\n0             whats ur favorite ariana grande song     \n1  i don t think people realize that ari is usual...   \n2  daily reminder  if you are a arianator it is o...   \n3  i m with you on the packaging  it reminds me o...   \n4  the only thing i have to say is that liquid ey...   \n5  recycled packaging doesnt necessarily have to ...   \n6  the packaging is  simplistic  because the prod...   \n7  i love how sweet you re even with being honest...   \n8  i really think a lot of celebrities are coming...   \n9  i feel like nikkie is the perfect person to re...   \n\n                                extra_spaces_removed  \\\n0               whats ur favorite ariana grande song   \n1  i don t think people realize that ari is usual...   \n2  daily reminder if you are a arianator it is ok...   \n3  i m with you on the packaging it reminds me of...   \n4  the only thing i have to say is that liquid ey...   \n5  recycled packaging doesnt necessarily have to ...   \n6  the packaging is simplistic because the produc...   \n7  i love how sweet you re even with being honest...   \n8  i really think a lot of celebrities are coming...   \n9  i feel like nikkie is the perfect person to re...   \n\n                                           tokenised  \\\n0        [whats, ur, favorite, ariana, grande, song]   \n1  [i, don, t, think, people, realize, that, ari,...   \n2  [daily, reminder, if, you, are, a, arianator, ...   \n3  [i, m, with, you, on, the, packaging, it, remi...   \n4  [the, only, thing, i, have, to, say, is, that,...   \n5  [recycled, packaging, doesnt, necessarily, hav...   \n6  [the, packaging, is, simplistic, because, the,...   \n7  [i, love, how, sweet, you, re, even, with, bei...   \n8  [i, really, think, a, lot, of, celebrities, ar...   \n9  [i, feel, like, nikkie, is, the, perfect, pers...   \n\n                                   removed_stopwords  \n0               [ur, favorite, ariana, grande, song]  \n1  [people, realize, ari, simple, minimal, makeup...  \n2  [daily, reminder, arianator, honest, real, agr...  \n3  [packaging, reminds, pharmacy, eyeshadows, mom...  \n4  [thing, liquid, eyeshadow, supposed, applied, ...  \n5  [recycled, packaging, cheap, packaging, price,...  \n6  [packaging, simplistic, products, recycled, pe...  \n7  [sweet, honest, needed, generation, packaging,...  \n8  [lot, celebrities, coming, makeup, skin, care,...  \n9  [feel, nikkie, perfect, person, review, makeup...  ",
      "text/html": "<div>\n<style scoped>\n    .dataframe tbody tr th:only-of-type {\n        vertical-align: middle;\n    }\n\n    .dataframe tbody tr th {\n        vertical-align: top;\n    }\n\n    .dataframe thead th {\n        text-align: right;\n    }\n</style>\n<table border=\"1\" class=\"dataframe\">\n  <thead>\n    <tr style=\"text-align: right;\">\n      <th></th>\n      <th>index</th>\n      <th>Video ID</th>\n      <th>Comment ID</th>\n      <th>Comments</th>\n      <th>Sentiment</th>\n      <th>Sentiment Score</th>\n      <th>lower</th>\n      <th>punctuation_removed</th>\n      <th>numbers_removed</th>\n      <th>extra_spaces_removed</th>\n      <th>tokenised</th>\n      <th>removed_stopwords</th>\n    </tr>\n  </thead>\n  <tbody>\n    <tr>\n      <th>0</th>\n      <td>0</td>\n      <td>-qn_cTHvfOY</td>\n      <td>Ugxgr1vjrtDWkJrnrCB4AaABAg</td>\n      <td>*WHAT'S UR FAVORITE ARIANA GRANDE SONG?*</td>\n      <td>Positive</td>\n      <td>0.4588</td>\n      <td>*what's ur favorite ariana grande song?*</td>\n      <td>whats ur favorite ariana grande song</td>\n      <td>whats ur favorite ariana grande song</td>\n      <td>whats ur favorite ariana grande song</td>\n      <td>[whats, ur, favorite, ariana, grande, song]</td>\n      <td>[ur, favorite, ariana, grande, song]</td>\n    </tr>\n    <tr>\n      <th>1</th>\n      <td>1</td>\n      <td>-qn_cTHvfOY</td>\n      <td>UgwJUsXgC2RHBVD7KXB4AaABAg</td>\n      <td>I don’t think people realize that Ari is usual...</td>\n      <td>Positive</td>\n      <td>0.8591</td>\n      <td>i don’t think people realize that ari is usual...</td>\n      <td>i don t think people realize that ari is usual...</td>\n      <td>i don t think people realize that ari is usual...</td>\n      <td>i don t think people realize that ari is usual...</td>\n      <td>[i, don, t, think, people, realize, that, ari,...</td>\n      <td>[people, realize, ari, simple, minimal, makeup...</td>\n    </tr>\n    <tr>\n      <th>2</th>\n      <td>2</td>\n      <td>-qn_cTHvfOY</td>\n      <td>UgwPQIeM5WdRf3dAZoB4AaABAg</td>\n      <td>Daily reminder: If you are a arianator it is o...</td>\n      <td>Positive</td>\n      <td>0.5368</td>\n      <td>daily reminder: if you are a arianator it is o...</td>\n      <td>daily reminder  if you are a arianator it is o...</td>\n      <td>daily reminder  if you are a arianator it is o...</td>\n      <td>daily reminder if you are a arianator it is ok...</td>\n      <td>[daily, reminder, if, you, are, a, arianator, ...</td>\n      <td>[daily, reminder, arianator, honest, real, agr...</td>\n    </tr>\n    <tr>\n      <th>3</th>\n      <td>3</td>\n      <td>-qn_cTHvfOY</td>\n      <td>UgxNipi4J08dI02k53x4AaABAg</td>\n      <td>I’m with you on the packaging. It reminds me o...</td>\n      <td>Positive</td>\n      <td>0.8024</td>\n      <td>i’m with you on the packaging. it reminds me o...</td>\n      <td>i m with you on the packaging  it reminds me o...</td>\n      <td>i m with you on the packaging  it reminds me o...</td>\n      <td>i m with you on the packaging it reminds me of...</td>\n      <td>[i, m, with, you, on, the, packaging, it, remi...</td>\n      <td>[packaging, reminds, pharmacy, eyeshadows, mom...</td>\n    </tr>\n    <tr>\n      <th>4</th>\n      <td>4</td>\n      <td>-qn_cTHvfOY</td>\n      <td>Ugy02sG4COz5OIQt-GN4AaABAg</td>\n      <td>The only thing I have to say is that liquid ey...</td>\n      <td>Positive</td>\n      <td>0.1280</td>\n      <td>the only thing i have to say is that liquid ey...</td>\n      <td>the only thing i have to say is that liquid ey...</td>\n      <td>the only thing i have to say is that liquid ey...</td>\n      <td>the only thing i have to say is that liquid ey...</td>\n      <td>[the, only, thing, i, have, to, say, is, that,...</td>\n      <td>[thing, liquid, eyeshadow, supposed, applied, ...</td>\n    </tr>\n    <tr>\n      <th>5</th>\n      <td>5</td>\n      <td>-qn_cTHvfOY</td>\n      <td>UgwLcmNISNTFKJix9dl4AaABAg</td>\n      <td>Recycled packaging doesnt necessarily have to ...</td>\n      <td>Neutral</td>\n      <td>0.0000</td>\n      <td>recycled packaging doesnt necessarily have to ...</td>\n      <td>recycled packaging doesnt necessarily have to ...</td>\n      <td>recycled packaging doesnt necessarily have to ...</td>\n      <td>recycled packaging doesnt necessarily have to ...</td>\n      <td>[recycled, packaging, doesnt, necessarily, hav...</td>\n      <td>[recycled, packaging, cheap, packaging, price,...</td>\n    </tr>\n    <tr>\n      <th>6</th>\n      <td>6</td>\n      <td>-qn_cTHvfOY</td>\n      <td>UgzyBL8LnSbiRDHgqpJ4AaABAg</td>\n      <td>the packaging is “simplistic” because the prod...</td>\n      <td>Positive</td>\n      <td>0.7964</td>\n      <td>the packaging is “simplistic” because the prod...</td>\n      <td>the packaging is  simplistic  because the prod...</td>\n      <td>the packaging is  simplistic  because the prod...</td>\n      <td>the packaging is simplistic because the produc...</td>\n      <td>[the, packaging, is, simplistic, because, the,...</td>\n      <td>[packaging, simplistic, products, recycled, pe...</td>\n    </tr>\n    <tr>\n      <th>7</th>\n      <td>7</td>\n      <td>-qn_cTHvfOY</td>\n      <td>UgxT7hUCrcqCxAIfDk94AaABAg</td>\n      <td>I love how sweet you’re even with being honest...</td>\n      <td>Positive</td>\n      <td>0.9697</td>\n      <td>i love how sweet you’re even with being honest...</td>\n      <td>i love how sweet you re even with being honest...</td>\n      <td>i love how sweet you re even with being honest...</td>\n      <td>i love how sweet you re even with being honest...</td>\n      <td>[i, love, how, sweet, you, re, even, with, bei...</td>\n      <td>[sweet, honest, needed, generation, packaging,...</td>\n    </tr>\n    <tr>\n      <th>8</th>\n      <td>8</td>\n      <td>-qn_cTHvfOY</td>\n      <td>UgzU-xBPjIWk43D8oUZ4AaABAg</td>\n      <td>I really think a lot of celebrities are coming...</td>\n      <td>Positive</td>\n      <td>0.8910</td>\n      <td>i really think a lot of celebrities are coming...</td>\n      <td>i really think a lot of celebrities are coming...</td>\n      <td>i really think a lot of celebrities are coming...</td>\n      <td>i really think a lot of celebrities are coming...</td>\n      <td>[i, really, think, a, lot, of, celebrities, ar...</td>\n      <td>[lot, celebrities, coming, makeup, skin, care,...</td>\n    </tr>\n    <tr>\n      <th>9</th>\n      <td>9</td>\n      <td>-qn_cTHvfOY</td>\n      <td>Ugw1FPGLauT05yRHE1Z4AaABAg</td>\n      <td>I feel like nikkie is the perfect person to re...</td>\n      <td>Positive</td>\n      <td>0.9353</td>\n      <td>i feel like nikkie is the perfect person to re...</td>\n      <td>i feel like nikkie is the perfect person to re...</td>\n      <td>i feel like nikkie is the perfect person to re...</td>\n      <td>i feel like nikkie is the perfect person to re...</td>\n      <td>[i, feel, like, nikkie, is, the, perfect, pers...</td>\n      <td>[feel, nikkie, perfect, person, review, makeup...</td>\n    </tr>\n  </tbody>\n</table>\n</div>"
     },
     "metadata": {},
     "output_type": "display_data"
    }
   ],
   "source": [
    "def lemmatize_text(text):\n",
    "    lemmatizer = WordNetLemmatizer()\n",
    "    return [lemmatizer.lemmatize(w) for w in text]\n",
    "\n",
    "# Convert case text as lowercase, remove punctuation, remove extra whitespace in string and on both sides of string\n",
    "# Lowercase all the letters\n",
    "df['lower'] = df['Comments'].str.lower()\n",
    "\n",
    "# Remove punctuations\n",
    "df['punctuation_removed'] = df['lower'].str.replace(\"'\", '', regex=True).str.replace('[^\\w\\s]', ' ', regex=True)\n",
    "\n",
    "# Remove numbers\n",
    "df['numbers_removed'] = df['punctuation_removed'].str.replace(\" \\d+\", \" \", regex=True)\n",
    "\n",
    "# Remove extra whitespace\n",
    "df['extra_spaces_removed'] = df['numbers_removed'].str.replace(' +', ' ', regex=True).str.strip()\n",
    "\n",
    "# Tokenise\n",
    "df['tokenised'] = df.apply(lambda row: nltk.word_tokenize(row['extra_spaces_removed']), axis=1)\n",
    "\n",
    "# Stop words removal\n",
    "# Initiate stopwords from nltk\n",
    "stop_words = stopwords.words('english')\n",
    "\n",
    "# Add additional missing terms\n",
    "stop_words.extend(stop_words_list)\n",
    "\n",
    "# Remove stopwords\n",
    "df['removed_stopwords'] = df['tokenised'].apply(lambda x: [item for item in x if item not in stop_words])\n",
    "\n",
    "docs = []\n",
    "\n",
    "for token in df.removed_stopwords:\n",
    "    docs.append(token)\n",
    "\n",
    "display(df.head(10))"
   ],
   "metadata": {
    "collapsed": false,
    "pycharm": {
     "name": "#%%\n"
    }
   }
  },
  {
   "cell_type": "code",
   "execution_count": 72,
   "outputs": [
    {
     "name": "stdout",
     "output_type": "stream",
     "text": [
      "In stage 0: transferred 1164 clusters with 3 clusters populated\n",
      "In stage 1: transferred 880 clusters with 3 clusters populated\n",
      "In stage 2: transferred 736 clusters with 3 clusters populated\n",
      "In stage 3: transferred 574 clusters with 3 clusters populated\n",
      "In stage 4: transferred 445 clusters with 3 clusters populated\n",
      "In stage 5: transferred 426 clusters with 3 clusters populated\n",
      "In stage 6: transferred 392 clusters with 3 clusters populated\n",
      "In stage 7: transferred 373 clusters with 3 clusters populated\n",
      "In stage 8: transferred 379 clusters with 3 clusters populated\n",
      "In stage 9: transferred 359 clusters with 3 clusters populated\n",
      "In stage 10: transferred 380 clusters with 3 clusters populated\n",
      "In stage 11: transferred 391 clusters with 3 clusters populated\n",
      "In stage 12: transferred 356 clusters with 3 clusters populated\n",
      "In stage 13: transferred 353 clusters with 3 clusters populated\n",
      "In stage 14: transferred 364 clusters with 3 clusters populated\n",
      "In stage 15: transferred 364 clusters with 3 clusters populated\n",
      "In stage 16: transferred 366 clusters with 3 clusters populated\n",
      "In stage 17: transferred 348 clusters with 3 clusters populated\n",
      "In stage 18: transferred 329 clusters with 3 clusters populated\n",
      "In stage 19: transferred 331 clusters with 3 clusters populated\n",
      "In stage 20: transferred 326 clusters with 3 clusters populated\n",
      "In stage 21: transferred 321 clusters with 3 clusters populated\n",
      "In stage 22: transferred 323 clusters with 3 clusters populated\n",
      "In stage 23: transferred 319 clusters with 3 clusters populated\n",
      "In stage 24: transferred 308 clusters with 3 clusters populated\n",
      "In stage 25: transferred 336 clusters with 3 clusters populated\n",
      "In stage 26: transferred 333 clusters with 3 clusters populated\n",
      "In stage 27: transferred 326 clusters with 3 clusters populated\n",
      "In stage 28: transferred 311 clusters with 3 clusters populated\n",
      "In stage 29: transferred 344 clusters with 3 clusters populated\n"
     ]
    }
   ],
   "source": [
    "mgp = MovieGroupProcess(K=3, alpha=0.1, beta=1, n_iters=30)\n",
    "\n",
    "vocab = set(x for doc in docs for x in doc)\n",
    "n_terms = len(vocab)\n",
    "\n",
    "mgp_output = mgp.fit(docs, n_terms)"
   ],
   "metadata": {
    "collapsed": false,
    "pycharm": {
     "name": "#%%\n"
    }
   }
  },
  {
   "cell_type": "code",
   "execution_count": 73,
   "outputs": [
    {
     "name": "stdout",
     "output_type": "stream",
     "text": [
      "Number of documents per topic : [1424  531   21]\n"
     ]
    }
   ],
   "source": [
    "doc_count = np.array(mgp.cluster_doc_count)\n",
    "print('Number of documents per topic :', doc_count)"
   ],
   "metadata": {
    "collapsed": false,
    "pycharm": {
     "name": "#%%\n"
    }
   }
  },
  {
   "cell_type": "code",
   "execution_count": 74,
   "outputs": [
    {
     "name": "stdout",
     "output_type": "stream",
     "text": [
      "Indices of most important clusters (by number of docs inside): [0 1 2]\n"
     ]
    }
   ],
   "source": [
    "top_index = doc_count.argsort()[-15:][::-1]\n",
    "print('Indices of most important clusters (by number of docs inside):', top_index)"
   ],
   "metadata": {
    "collapsed": false,
    "pycharm": {
     "name": "#%%\n"
    }
   }
  },
  {
   "cell_type": "code",
   "execution_count": 75,
   "outputs": [],
   "source": [
    "# Returns the top words present in each topic cluster.\n",
    "def top_words(cluster_word_distribution, top_cluster, values):\n",
    "    for cluster in top_cluster:\n",
    "        sort_dicts =sorted(cluster_word_distribution[cluster].items(), key=lambda k: k[1], reverse=True)[:values]\n",
    "        print('Cluster %s : %s'%(cluster,sort_dicts))\n",
    "        print('-'*120)"
   ],
   "metadata": {
    "collapsed": false,
    "pycharm": {
     "name": "#%%\n"
    }
   }
  },
  {
   "cell_type": "code",
   "execution_count": 76,
   "outputs": [
    {
     "name": "stdout",
     "output_type": "stream",
     "text": [
      "Cluster 0 : [('packaging', 427), ('makeup', 212), ('products', 117), ('mascara', 110), ('lipstick', 108), ('lashes', 108), ('cheap', 106)]\n",
      "------------------------------------------------------------------------------------------------------------------------\n",
      "Cluster 1 : [('nikkie', 96), ('makeup', 59), ('video', 53), ('nikki', 43), ('honest', 32), ('review', 32), ('watching', 27)]\n",
      "------------------------------------------------------------------------------------------------------------------------\n",
      "Cluster 2 : [('de', 11), ('eu', 6), ('je', 6), ('ik', 5), ('het', 5), ('en', 4), ('dat', 4)]\n",
      "------------------------------------------------------------------------------------------------------------------------\n"
     ]
    }
   ],
   "source": [
    "# Show the top 7 words in term frequency for each cluster\n",
    "top_words(mgp.cluster_word_distribution, top_index, 7)"
   ],
   "metadata": {
    "collapsed": false,
    "pycharm": {
     "name": "#%%\n"
    }
   }
  },
  {
   "cell_type": "code",
   "execution_count": 77,
   "outputs": [],
   "source": [
    "topic_dict = {}\n",
    "topic_names = ['Topic #1', 'Topic #2', 'Topic #3']\n",
    "for i, topic_num in enumerate(top_index):\n",
    "    topic_dict[topic_num]=topic_names[i]"
   ],
   "metadata": {
    "collapsed": false,
    "pycharm": {
     "name": "#%%\n"
    }
   }
  },
  {
   "cell_type": "code",
   "execution_count": 78,
   "outputs": [],
   "source": [
    "# index names\n",
    "docnames = ['Doc' + str(i) for i in range(len(df))]\n",
    "\n",
    "# Create a dataframe with the original text and its assigned topic.\n",
    "def create_topics_dataframe(data_text=df.Comments,  mgp=mgp, threshold=0.3, topic_dict=topic_dict, stem_text=docs):\n",
    "    result = pd.DataFrame(columns=['topic'])\n",
    "    for i, text in enumerate(data_text):\n",
    "        prob = mgp.choose_best_label(stem_text[i])\n",
    "        if prob[1] >= threshold:\n",
    "            result.at[i, 'topic'] = topic_dict[prob[0]]\n",
    "        else:\n",
    "            result.at[i, 'topic'] = 'Other'\n",
    "    return result"
   ],
   "metadata": {
    "collapsed": false,
    "pycharm": {
     "name": "#%%\n"
    }
   }
  },
  {
   "cell_type": "code",
   "execution_count": 79,
   "outputs": [
    {
     "data": {
      "text/plain": "Topic #1    1482\nTopic #2     476\nTopic #3      18\nName: topic, dtype: int64"
     },
     "execution_count": 79,
     "metadata": {},
     "output_type": "execute_result"
    }
   ],
   "source": [
    "dfx = create_topics_dataframe(data_text=df.Comments,  mgp=mgp, threshold=0.3, topic_dict=topic_dict, stem_text=docs)\n",
    "dfx.topic.value_counts(dropna=False)"
   ],
   "metadata": {
    "collapsed": false,
    "pycharm": {
     "name": "#%%\n"
    }
   }
  },
  {
   "cell_type": "code",
   "execution_count": 80,
   "outputs": [
    {
     "data": {
      "text/plain": "      index     Video ID                  Comment ID  \\\n0         0  -qn_cTHvfOY  Ugxgr1vjrtDWkJrnrCB4AaABAg   \n1         1  -qn_cTHvfOY  UgwJUsXgC2RHBVD7KXB4AaABAg   \n2         2  -qn_cTHvfOY  UgwPQIeM5WdRf3dAZoB4AaABAg   \n3         3  -qn_cTHvfOY  UgxNipi4J08dI02k53x4AaABAg   \n4         4  -qn_cTHvfOY  Ugy02sG4COz5OIQt-GN4AaABAg   \n...     ...          ...                         ...   \n1971   1995  -qn_cTHvfOY  UgzRcHtontnI6SEW7CZ4AaABAg   \n1972   1996  -qn_cTHvfOY  UgxtOZByqxDvlkdP1cZ4AaABAg   \n1973   1997  -qn_cTHvfOY  UgxM6NIy4X3mqgU-oed4AaABAg   \n1974   1998  -qn_cTHvfOY  UgwP_U9FMCuOTy8Tejx4AaABAg   \n1975   1999  -qn_cTHvfOY  UgzPL-q6nYlIXByU8gJ4AaABAg   \n\n                                               Comments Sentiment  \\\n0              *WHAT'S UR FAVORITE ARIANA GRANDE SONG?*  Positive   \n1     I don’t think people realize that Ari is usual...  Positive   \n2     Daily reminder: If you are a arianator it is o...  Positive   \n3     I’m with you on the packaging. It reminds me o...  Positive   \n4     The only thing I have to say is that liquid ey...  Positive   \n...                                                 ...       ...   \n1971  It all looks white label'd products , standard...   Neutral   \n1972               The product seems like ELF products.  Positive   \n1973       looks like little girl dollarstore makeup :(  Negative   \n1974  I think that she care about product and not pa...  Positive   \n1975  why are you trying to use a natural makeup and...  Negative   \n\n      Sentiment Score                                              lower  \\\n0              0.4588           *what's ur favorite ariana grande song?*   \n1              0.8591  i don’t think people realize that ari is usual...   \n2              0.5368  daily reminder: if you are a arianator it is o...   \n3              0.8024  i’m with you on the packaging. it reminds me o...   \n4              0.1280  the only thing i have to say is that liquid ey...   \n...               ...                                                ...   \n1971           0.0000  it all looks white label'd products , standard...   \n1972           0.3612               the product seems like elf products.   \n1973          -0.1027       looks like little girl dollarstore makeup :(   \n1974           0.7152  i think that she care about product and not pa...   \n1975          -0.0772  why are you trying to use a natural makeup and...   \n\n                                    punctuation_removed  \\\n0                whats ur favorite ariana grande song     \n1     i don t think people realize that ari is usual...   \n2     daily reminder  if you are a arianator it is o...   \n3     i m with you on the packaging  it reminds me o...   \n4     the only thing i have to say is that liquid ey...   \n...                                                 ...   \n1971  it all looks white labeld products   standard ...   \n1972               the product seems like elf products    \n1973       looks like little girl dollarstore makeup      \n1974  i think that she care about product and not pa...   \n1975  why are you trying to use a natural makeup and...   \n\n                                        numbers_removed  \\\n0                whats ur favorite ariana grande song     \n1     i don t think people realize that ari is usual...   \n2     daily reminder  if you are a arianator it is o...   \n3     i m with you on the packaging  it reminds me o...   \n4     the only thing i have to say is that liquid ey...   \n...                                                 ...   \n1971  it all looks white labeld products   standard ...   \n1972               the product seems like elf products    \n1973       looks like little girl dollarstore makeup      \n1974  i think that she care about product and not pa...   \n1975  why are you trying to use a natural makeup and...   \n\n                                   extra_spaces_removed  \\\n0                  whats ur favorite ariana grande song   \n1     i don t think people realize that ari is usual...   \n2     daily reminder if you are a arianator it is ok...   \n3     i m with you on the packaging it reminds me of...   \n4     the only thing i have to say is that liquid ey...   \n...                                                 ...   \n1971  it all looks white labeld products standard an...   \n1972                the product seems like elf products   \n1973          looks like little girl dollarstore makeup   \n1974  i think that she care about product and not pa...   \n1975  why are you trying to use a natural makeup and...   \n\n                                              tokenised  \\\n0           [whats, ur, favorite, ariana, grande, song]   \n1     [i, don, t, think, people, realize, that, ari,...   \n2     [daily, reminder, if, you, are, a, arianator, ...   \n3     [i, m, with, you, on, the, packaging, it, remi...   \n4     [the, only, thing, i, have, to, say, is, that,...   \n...                                                 ...   \n1971  [it, all, looks, white, labeld, products, stan...   \n1972         [the, product, seems, like, elf, products]   \n1973   [looks, like, little, girl, dollarstore, makeup]   \n1974  [i, think, that, she, care, about, product, an...   \n1975  [why, are, you, trying, to, use, a, natural, m...   \n\n                                      removed_stopwords     topic  \n0                  [ur, favorite, ariana, grande, song]  Topic #2  \n1     [people, realize, ari, simple, minimal, makeup...  Topic #1  \n2     [daily, reminder, arianator, honest, real, agr...  Topic #2  \n3     [packaging, reminds, pharmacy, eyeshadows, mom...  Topic #1  \n4     [thing, liquid, eyeshadow, supposed, applied, ...  Topic #1  \n...                                                 ...       ...  \n1971  [white, labeld, products, standard, cheap, cel...  Topic #1  \n1972                           [product, elf, products]  Topic #1  \n1973                        [girl, dollarstore, makeup]  Topic #1  \n1974  [care, product, package, cheap, fit, evreyone,...  Topic #1  \n1975  [natural, makeup, expecting, glam, result, mea...  Topic #1  \n\n[1976 rows x 13 columns]",
      "text/html": "<div>\n<style scoped>\n    .dataframe tbody tr th:only-of-type {\n        vertical-align: middle;\n    }\n\n    .dataframe tbody tr th {\n        vertical-align: top;\n    }\n\n    .dataframe thead th {\n        text-align: right;\n    }\n</style>\n<table border=\"1\" class=\"dataframe\">\n  <thead>\n    <tr style=\"text-align: right;\">\n      <th></th>\n      <th>index</th>\n      <th>Video ID</th>\n      <th>Comment ID</th>\n      <th>Comments</th>\n      <th>Sentiment</th>\n      <th>Sentiment Score</th>\n      <th>lower</th>\n      <th>punctuation_removed</th>\n      <th>numbers_removed</th>\n      <th>extra_spaces_removed</th>\n      <th>tokenised</th>\n      <th>removed_stopwords</th>\n      <th>topic</th>\n    </tr>\n  </thead>\n  <tbody>\n    <tr>\n      <th>0</th>\n      <td>0</td>\n      <td>-qn_cTHvfOY</td>\n      <td>Ugxgr1vjrtDWkJrnrCB4AaABAg</td>\n      <td>*WHAT'S UR FAVORITE ARIANA GRANDE SONG?*</td>\n      <td>Positive</td>\n      <td>0.4588</td>\n      <td>*what's ur favorite ariana grande song?*</td>\n      <td>whats ur favorite ariana grande song</td>\n      <td>whats ur favorite ariana grande song</td>\n      <td>whats ur favorite ariana grande song</td>\n      <td>[whats, ur, favorite, ariana, grande, song]</td>\n      <td>[ur, favorite, ariana, grande, song]</td>\n      <td>Topic #2</td>\n    </tr>\n    <tr>\n      <th>1</th>\n      <td>1</td>\n      <td>-qn_cTHvfOY</td>\n      <td>UgwJUsXgC2RHBVD7KXB4AaABAg</td>\n      <td>I don’t think people realize that Ari is usual...</td>\n      <td>Positive</td>\n      <td>0.8591</td>\n      <td>i don’t think people realize that ari is usual...</td>\n      <td>i don t think people realize that ari is usual...</td>\n      <td>i don t think people realize that ari is usual...</td>\n      <td>i don t think people realize that ari is usual...</td>\n      <td>[i, don, t, think, people, realize, that, ari,...</td>\n      <td>[people, realize, ari, simple, minimal, makeup...</td>\n      <td>Topic #1</td>\n    </tr>\n    <tr>\n      <th>2</th>\n      <td>2</td>\n      <td>-qn_cTHvfOY</td>\n      <td>UgwPQIeM5WdRf3dAZoB4AaABAg</td>\n      <td>Daily reminder: If you are a arianator it is o...</td>\n      <td>Positive</td>\n      <td>0.5368</td>\n      <td>daily reminder: if you are a arianator it is o...</td>\n      <td>daily reminder  if you are a arianator it is o...</td>\n      <td>daily reminder  if you are a arianator it is o...</td>\n      <td>daily reminder if you are a arianator it is ok...</td>\n      <td>[daily, reminder, if, you, are, a, arianator, ...</td>\n      <td>[daily, reminder, arianator, honest, real, agr...</td>\n      <td>Topic #2</td>\n    </tr>\n    <tr>\n      <th>3</th>\n      <td>3</td>\n      <td>-qn_cTHvfOY</td>\n      <td>UgxNipi4J08dI02k53x4AaABAg</td>\n      <td>I’m with you on the packaging. It reminds me o...</td>\n      <td>Positive</td>\n      <td>0.8024</td>\n      <td>i’m with you on the packaging. it reminds me o...</td>\n      <td>i m with you on the packaging  it reminds me o...</td>\n      <td>i m with you on the packaging  it reminds me o...</td>\n      <td>i m with you on the packaging it reminds me of...</td>\n      <td>[i, m, with, you, on, the, packaging, it, remi...</td>\n      <td>[packaging, reminds, pharmacy, eyeshadows, mom...</td>\n      <td>Topic #1</td>\n    </tr>\n    <tr>\n      <th>4</th>\n      <td>4</td>\n      <td>-qn_cTHvfOY</td>\n      <td>Ugy02sG4COz5OIQt-GN4AaABAg</td>\n      <td>The only thing I have to say is that liquid ey...</td>\n      <td>Positive</td>\n      <td>0.1280</td>\n      <td>the only thing i have to say is that liquid ey...</td>\n      <td>the only thing i have to say is that liquid ey...</td>\n      <td>the only thing i have to say is that liquid ey...</td>\n      <td>the only thing i have to say is that liquid ey...</td>\n      <td>[the, only, thing, i, have, to, say, is, that,...</td>\n      <td>[thing, liquid, eyeshadow, supposed, applied, ...</td>\n      <td>Topic #1</td>\n    </tr>\n    <tr>\n      <th>...</th>\n      <td>...</td>\n      <td>...</td>\n      <td>...</td>\n      <td>...</td>\n      <td>...</td>\n      <td>...</td>\n      <td>...</td>\n      <td>...</td>\n      <td>...</td>\n      <td>...</td>\n      <td>...</td>\n      <td>...</td>\n      <td>...</td>\n    </tr>\n    <tr>\n      <th>1971</th>\n      <td>1995</td>\n      <td>-qn_cTHvfOY</td>\n      <td>UgzRcHtontnI6SEW7CZ4AaABAg</td>\n      <td>It all looks white label'd products , standard...</td>\n      <td>Neutral</td>\n      <td>0.0000</td>\n      <td>it all looks white label'd products , standard...</td>\n      <td>it all looks white labeld products   standard ...</td>\n      <td>it all looks white labeld products   standard ...</td>\n      <td>it all looks white labeld products standard an...</td>\n      <td>[it, all, looks, white, labeld, products, stan...</td>\n      <td>[white, labeld, products, standard, cheap, cel...</td>\n      <td>Topic #1</td>\n    </tr>\n    <tr>\n      <th>1972</th>\n      <td>1996</td>\n      <td>-qn_cTHvfOY</td>\n      <td>UgxtOZByqxDvlkdP1cZ4AaABAg</td>\n      <td>The product seems like ELF products.</td>\n      <td>Positive</td>\n      <td>0.3612</td>\n      <td>the product seems like elf products.</td>\n      <td>the product seems like elf products</td>\n      <td>the product seems like elf products</td>\n      <td>the product seems like elf products</td>\n      <td>[the, product, seems, like, elf, products]</td>\n      <td>[product, elf, products]</td>\n      <td>Topic #1</td>\n    </tr>\n    <tr>\n      <th>1973</th>\n      <td>1997</td>\n      <td>-qn_cTHvfOY</td>\n      <td>UgxM6NIy4X3mqgU-oed4AaABAg</td>\n      <td>looks like little girl dollarstore makeup :(</td>\n      <td>Negative</td>\n      <td>-0.1027</td>\n      <td>looks like little girl dollarstore makeup :(</td>\n      <td>looks like little girl dollarstore makeup</td>\n      <td>looks like little girl dollarstore makeup</td>\n      <td>looks like little girl dollarstore makeup</td>\n      <td>[looks, like, little, girl, dollarstore, makeup]</td>\n      <td>[girl, dollarstore, makeup]</td>\n      <td>Topic #1</td>\n    </tr>\n    <tr>\n      <th>1974</th>\n      <td>1998</td>\n      <td>-qn_cTHvfOY</td>\n      <td>UgwP_U9FMCuOTy8Tejx4AaABAg</td>\n      <td>I think that she care about product and not pa...</td>\n      <td>Positive</td>\n      <td>0.7152</td>\n      <td>i think that she care about product and not pa...</td>\n      <td>i think that she care about product and not pa...</td>\n      <td>i think that she care about product and not pa...</td>\n      <td>i think that she care about product and not pa...</td>\n      <td>[i, think, that, she, care, about, product, an...</td>\n      <td>[care, product, package, cheap, fit, evreyone,...</td>\n      <td>Topic #1</td>\n    </tr>\n    <tr>\n      <th>1975</th>\n      <td>1999</td>\n      <td>-qn_cTHvfOY</td>\n      <td>UgzPL-q6nYlIXByU8gJ4AaABAg</td>\n      <td>why are you trying to use a natural makeup and...</td>\n      <td>Negative</td>\n      <td>-0.0772</td>\n      <td>why are you trying to use a natural makeup and...</td>\n      <td>why are you trying to use a natural makeup and...</td>\n      <td>why are you trying to use a natural makeup and...</td>\n      <td>why are you trying to use a natural makeup and...</td>\n      <td>[why, are, you, trying, to, use, a, natural, m...</td>\n      <td>[natural, makeup, expecting, glam, result, mea...</td>\n      <td>Topic #1</td>\n    </tr>\n  </tbody>\n</table>\n<p>1976 rows × 13 columns</p>\n</div>"
     },
     "metadata": {},
     "output_type": "display_data"
    }
   ],
   "source": [
    "df = pd.merge(df, dfx, left_index = True, right_index = True, how = 'outer')\n",
    "display(df)"
   ],
   "metadata": {
    "collapsed": false,
    "pycharm": {
     "name": "#%%\n"
    }
   }
  },
  {
   "cell_type": "code",
   "execution_count": 81,
   "outputs": [
    {
     "data": {
      "text/plain": "Sentiment  Negative  Neutral  Positive\ntopic                                 \nTopic #1        119      218      1145\nTopic #2         44       86       346\nTopic #3          4        6         8",
      "text/html": "<div>\n<style scoped>\n    .dataframe tbody tr th:only-of-type {\n        vertical-align: middle;\n    }\n\n    .dataframe tbody tr th {\n        vertical-align: top;\n    }\n\n    .dataframe thead th {\n        text-align: right;\n    }\n</style>\n<table border=\"1\" class=\"dataframe\">\n  <thead>\n    <tr style=\"text-align: right;\">\n      <th>Sentiment</th>\n      <th>Negative</th>\n      <th>Neutral</th>\n      <th>Positive</th>\n    </tr>\n    <tr>\n      <th>topic</th>\n      <th></th>\n      <th></th>\n      <th></th>\n    </tr>\n  </thead>\n  <tbody>\n    <tr>\n      <th>Topic #1</th>\n      <td>119</td>\n      <td>218</td>\n      <td>1145</td>\n    </tr>\n    <tr>\n      <th>Topic #2</th>\n      <td>44</td>\n      <td>86</td>\n      <td>346</td>\n    </tr>\n    <tr>\n      <th>Topic #3</th>\n      <td>4</td>\n      <td>6</td>\n      <td>8</td>\n    </tr>\n  </tbody>\n</table>\n</div>"
     },
     "metadata": {},
     "output_type": "display_data"
    }
   ],
   "source": [
    "results = df.groupby(['topic', 'Sentiment']).count().reset_index()\n",
    "\n",
    "graph_results = results[['topic', 'Sentiment', 'Sentiment Score']]\n",
    "graph_results = graph_results.pivot(index='topic', columns='Sentiment', values='Sentiment Score').reset_index()\n",
    "\n",
    "graph_results.set_index('topic', inplace=True)\n",
    "\n",
    "display(graph_results)"
   ],
   "metadata": {
    "collapsed": false,
    "pycharm": {
     "name": "#%%\n"
    }
   }
  },
  {
   "cell_type": "code",
   "execution_count": 82,
   "outputs": [
    {
     "data": {
      "text/plain": "<Figure size 720x720 with 1 Axes>",
      "image/png": "[encoded data removed]"
     },
     "metadata": {
      "needs_background": "light"
     },
     "output_type": "display_data"
    }
   ],
   "source": [
    "fig = graph_results.plot.bar(rot=90, figsize=(10,10))\n",
    "\n",
    "# Uncomment to save the figure as a png to current directory\n",
    "# fig.figure.savefig(f'{creator}_absa_gsdmm.png' , bbox_inches='tight')"
   ],
   "metadata": {
    "collapsed": false,
    "pycharm": {
     "name": "#%%\n"
    }
   }
  }
 ],
 "metadata": {
  "kernelspec": {
   "display_name": "Python 3",
   "language": "python",
   "name": "python3"
  },
  "language_info": {
   "codemirror_mode": {
    "name": "ipython",
    "version": 2
   },
   "file_extension": ".py",
   "mimetype": "text/x-python",
   "name": "python",
   "nbconvert_exporter": "python",
   "pygments_lexer": "ipython2",
   "version": "2.7.6"
  }
 },
 "nbformat": 4,
 "nbformat_minor": 0
}