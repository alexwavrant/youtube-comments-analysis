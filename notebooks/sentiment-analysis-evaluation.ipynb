{
 "cells": [
  {
   "cell_type": "code",
   "execution_count": 9,
   "metadata": {
    "collapsed": true
   },
   "outputs": [],
   "source": [
    "import pandas as pd\n",
    "\n",
    "# Sentiment Analysis\n",
    "from vaderSentiment.vaderSentiment import SentimentIntensityAnalyzer\n",
    "\n",
    "# Evaluation of the Sentiment Analysis\n",
    "from sklearn.metrics._classification import classification_report\n",
    "from sklearn.metrics._classification import confusion_matrix\n",
    "from sklearn.metrics._classification import f1_score\n",
    "from sklearn.metrics import ConfusionMatrixDisplay"
   ]
  },
  {
   "cell_type": "code",
   "execution_count": 10,
   "metadata": {
    "pycharm": {
     "name": "#%%\n"
    }
   },
   "outputs": [],
   "source": [
    "# List of the crators that are part of the sample for the evaluation: MKBHD, Jeremy Jahns, James Charles\n",
    "creator = \"MKBHD\" # Put the name of the creator here\n",
    "output_df = pd.read_excel(f\"../comments_spreadsheets/sample_extracted_comments_{creator}.xlsx\")"
   ]
  },
  {
   "cell_type": "code",
   "execution_count": 11,
   "metadata": {
    "pycharm": {
     "name": "#%%\n"
    }
   },
   "outputs": [
    {
     "name": "stdout",
     "output_type": "stream",
     "text": [
      "Count of duplicate comments in dataframe 0\n",
      "Count of unique comments in dataframe 98\n"
     ]
    },
    {
     "data": {
      "text/plain": "    index     Video ID                                           Comments  \\\n0       0  eWI_BtcDJu0  I like the blue this time. But will wait for 1...   \n1       1  eWI_BtcDJu0  I love to watch reviews of my phone just to co...   \n2       2  eWI_BtcDJu0  I've been watching an endless amount of videos...   \n3       3  eWI_BtcDJu0  Another fantastic review! Thank you mr Marcus....   \n4       4  eWI_BtcDJu0                            Those intro shots man 👌   \n..    ...          ...                                                ...   \n93     93  eWI_BtcDJu0  I got the pro because of ProRaw, it’s awesome ...   \n94     94  eWI_BtcDJu0  \"They catch more fingerprints than the CSI emp...   \n95     95  eWI_BtcDJu0  i think apple must have changed their pricing ...   \n96     96  eWI_BtcDJu0  I’m currently on a Xs I’m wayy too attached to...   \n97     97  eWI_BtcDJu0  Apple is like the friend that gets you hyped f...   \n\n   Actual Polarity  \n0          Neutral  \n1         Positive  \n2         Positive  \n3         Positive  \n4         Positive  \n..             ...  \n93        Positive  \n94        Positive  \n95         Neutral  \n96         Neutral  \n97        Positive  \n\n[98 rows x 4 columns]",
      "text/html": "<div>\n<style scoped>\n    .dataframe tbody tr th:only-of-type {\n        vertical-align: middle;\n    }\n\n    .dataframe tbody tr th {\n        vertical-align: top;\n    }\n\n    .dataframe thead th {\n        text-align: right;\n    }\n</style>\n<table border=\"1\" class=\"dataframe\">\n  <thead>\n    <tr style=\"text-align: right;\">\n      <th></th>\n      <th>index</th>\n      <th>Video ID</th>\n      <th>Comments</th>\n      <th>Actual Polarity</th>\n    </tr>\n  </thead>\n  <tbody>\n    <tr>\n      <th>0</th>\n      <td>0</td>\n      <td>eWI_BtcDJu0</td>\n      <td>I like the blue this time. But will wait for 1...</td>\n      <td>Neutral</td>\n    </tr>\n    <tr>\n      <th>1</th>\n      <td>1</td>\n      <td>eWI_BtcDJu0</td>\n      <td>I love to watch reviews of my phone just to co...</td>\n      <td>Positive</td>\n    </tr>\n    <tr>\n      <th>2</th>\n      <td>2</td>\n      <td>eWI_BtcDJu0</td>\n      <td>I've been watching an endless amount of videos...</td>\n      <td>Positive</td>\n    </tr>\n    <tr>\n      <th>3</th>\n      <td>3</td>\n      <td>eWI_BtcDJu0</td>\n      <td>Another fantastic review! Thank you mr Marcus....</td>\n      <td>Positive</td>\n    </tr>\n    <tr>\n      <th>4</th>\n      <td>4</td>\n      <td>eWI_BtcDJu0</td>\n      <td>Those intro shots man 👌</td>\n      <td>Positive</td>\n    </tr>\n    <tr>\n      <th>...</th>\n      <td>...</td>\n      <td>...</td>\n      <td>...</td>\n      <td>...</td>\n    </tr>\n    <tr>\n      <th>93</th>\n      <td>93</td>\n      <td>eWI_BtcDJu0</td>\n      <td>I got the pro because of ProRaw, it’s awesome ...</td>\n      <td>Positive</td>\n    </tr>\n    <tr>\n      <th>94</th>\n      <td>94</td>\n      <td>eWI_BtcDJu0</td>\n      <td>\"They catch more fingerprints than the CSI emp...</td>\n      <td>Positive</td>\n    </tr>\n    <tr>\n      <th>95</th>\n      <td>95</td>\n      <td>eWI_BtcDJu0</td>\n      <td>i think apple must have changed their pricing ...</td>\n      <td>Neutral</td>\n    </tr>\n    <tr>\n      <th>96</th>\n      <td>96</td>\n      <td>eWI_BtcDJu0</td>\n      <td>I’m currently on a Xs I’m wayy too attached to...</td>\n      <td>Neutral</td>\n    </tr>\n    <tr>\n      <th>97</th>\n      <td>97</td>\n      <td>eWI_BtcDJu0</td>\n      <td>Apple is like the friend that gets you hyped f...</td>\n      <td>Positive</td>\n    </tr>\n  </tbody>\n</table>\n<p>98 rows × 4 columns</p>\n</div>"
     },
     "metadata": {},
     "output_type": "display_data"
    }
   ],
   "source": [
    "duplicates = output_df[output_df.duplicated((\"Comments\"))]\n",
    "print (\"Count of duplicate comments in dataframe\"\n",
    ", duplicates.shape[0])\n",
    "\n",
    "print (\"Count of unique comments in dataframe\"\n",
    ", output_df.shape[0] - duplicates.shape[0])\n",
    "\n",
    "# Remove duplicated comments from dataset\n",
    "unique_df = output_df.drop_duplicates(subset=[\"Comments\"], keep='first')\n",
    "df = unique_df.reset_index()\n",
    "\n",
    "# Removes line return \"\\n\"\n",
    "df = df.replace(r'\\n',' ', regex=True)\n",
    "\n",
    "display(df)"
   ]
  },
  {
   "cell_type": "markdown",
   "metadata": {
    "pycharm": {
     "name": "#%% md\n"
    }
   },
   "source": [
    "# Sentiment Analysis"
   ]
  },
  {
   "cell_type": "code",
   "execution_count": 12,
   "metadata": {
    "pycharm": {
     "name": "#%%\n"
    }
   },
   "outputs": [],
   "source": [
    "sentimentAnalyser = SentimentIntensityAnalyzer()\n",
    "sentimentScoreList = []\n",
    "sentimentLabelList = []\n",
    "\n",
    "for i in df[\"Comments\"].values.tolist():\n",
    "    sentimentScore = sentimentAnalyser.polarity_scores(i)\n",
    "\n",
    "    if sentimentScore['compound'] >= 0.05:\n",
    "        sentimentScoreList.append(sentimentScore['compound'])\n",
    "        sentimentLabelList.append('Positive')\n",
    "    elif sentimentScore['compound'] > -0.05 and sentimentScore['compound'] < 0.05:\n",
    "        sentimentScoreList.append(sentimentScore['compound'])\n",
    "        sentimentLabelList.append('Neutral')\n",
    "    elif sentimentScore['compound'] <= -0.05:\n",
    "        sentimentScoreList.append(sentimentScore['compound'])\n",
    "        sentimentLabelList.append('Negative')\n",
    "\n",
    "df[\"Sentiment\"] = sentimentLabelList\n",
    "df[\"Sentiment Score\"] = sentimentScoreList"
   ]
  },
  {
   "cell_type": "code",
   "execution_count": 13,
   "metadata": {
    "pycharm": {
     "name": "#%%\n"
    }
   },
   "outputs": [
    {
     "name": "stdout",
     "output_type": "stream",
     "text": [
      "Number of positive comments:  78\n",
      "Number of negative comments:  12\n",
      "Number of neutral comments:  8\n",
      "Percentage of positive comments:  79.59183673469387\n",
      "Percentage of negative comments:  12.244897959183673\n",
      "Percentage of neutral comments:  8.16326530612245\n"
     ]
    }
   ],
   "source": [
    "numbersOfPositiveComments = df[df[\"Sentiment\"] == \"Positive\"].shape[0]\n",
    "numbersOfNegativeComments = df[df[\"Sentiment\"] == \"Negative\"].shape[0]\n",
    "numbersOfNeutralComments = df[df[\"Sentiment\"] == \"Neutral\"].shape[0]\n",
    "\n",
    "# # Display the number of positive, negative and neutral comments\n",
    "print (\"Number of positive comments: \", numbersOfPositiveComments)\n",
    "print (\"Number of negative comments: \", numbersOfNegativeComments)\n",
    "print (\"Number of neutral comments: \", numbersOfNeutralComments)\n",
    "\n",
    "# Display the percentage of positive, negative and neutral comments\n",
    "print (\"Percentage of positive comments: \", numbersOfPositiveComments / df.shape[0] * 100)\n",
    "print (\"Percentage of negative comments: \", numbersOfNegativeComments / df.shape[0] * 100)\n",
    "print (\"Percentage of neutral comments: \", numbersOfNeutralComments / df.shape[0] * 100)"
   ]
  },
  {
   "cell_type": "markdown",
   "metadata": {
    "pycharm": {
     "name": "#%% md\n"
    }
   },
   "source": [
    "# Sentiment Analysis Evaluation"
   ]
  },
  {
   "cell_type": "code",
   "execution_count": 14,
   "metadata": {
    "pycharm": {
     "name": "#%%\n"
    }
   },
   "outputs": [
    {
     "name": "stdout",
     "output_type": "stream",
     "text": [
      "              precision    recall  f1-score   support\n",
      "\n",
      "    Negative       0.42      0.50      0.45        10\n",
      "     Neutral       0.62      0.18      0.28        28\n",
      "    Positive       0.72      0.93      0.81        60\n",
      "\n",
      "    accuracy                           0.67        98\n",
      "   macro avg       0.59      0.54      0.51        98\n",
      "weighted avg       0.66      0.67      0.62        98\n",
      "\n",
      "\n",
      "0.6226416785422998\n"
     ]
    },
    {
     "data": {
      "text/plain": "<Figure size 432x288 with 2 Axes>",
      "image/png": "[encoded data removed]"
     },
     "metadata": {
      "needs_background": "light"
     },
     "output_type": "display_data"
    }
   ],
   "source": [
    "y_actual = df[\"Actual Polarity\"].tolist()\n",
    "y_predicted = df['Sentiment'].tolist()\n",
    "\n",
    "confusionMatrix = confusion_matrix(y_actual, y_predicted)\n",
    "disp = ConfusionMatrixDisplay(confusionMatrix, display_labels=['Negative', 'Neutral', 'Positive'])\n",
    "disp.plot()\n",
    "print(classification_report(y_actual, y_predicted, labels=['Negative', 'Neutral', 'Positive']))\n",
    "print()\n",
    "print(f1_score(y_actual, y_predicted, labels=['Negative', 'Neutral', 'Positive'], average='weighted'))"
   ]
  }
 ],
 "metadata": {
  "kernelspec": {
   "display_name": "Python 3",
   "language": "python",
   "name": "python3"
  },
  "language_info": {
   "codemirror_mode": {
    "name": "ipython",
    "version": 3
   },
   "file_extension": ".py",
   "mimetype": "text/x-python",
   "name": "python",
   "nbconvert_exporter": "python",
   "pygments_lexer": "ipython3",
   "version": "3.8.5"
  }
 },
 "nbformat": 4,
 "nbformat_minor": 1
}