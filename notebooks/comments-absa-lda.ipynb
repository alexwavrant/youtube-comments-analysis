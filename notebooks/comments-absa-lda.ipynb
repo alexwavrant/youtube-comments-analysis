{
 "cells": [
  {
   "cell_type": "code",
   "execution_count": 57,
   "metadata": {
    "collapsed": true
   },
   "outputs": [],
   "source": [
    "import pandas as pd\n",
    "import numpy as np\n",
    "\n",
    "# Data pre-processing\n",
    "import nltk\n",
    "# List of stop words used for data pre-processing\n",
    "from stop_words_list import stop_words_list\n",
    "from nltk.corpus import stopwords\n",
    "\n",
    "# Sentiment Analysis\n",
    "from vaderSentiment.vaderSentiment import SentimentIntensityAnalyzer\n",
    "\n",
    "# Topics modelling\n",
    "from sklearn.feature_extraction.text import CountVectorizer\n",
    "from sklearn.decomposition import LatentDirichletAllocation"
   ]
  },
  {
   "cell_type": "code",
   "execution_count": 58,
   "outputs": [],
   "source": [
    "# List of available creators: \"MKBHD\", \"Jonathan Morrison\", \"Unbox Therapy\", \"Chris Stuckman\", \"Jeremy Jahns\", \"Channel Awesome\", \"James Charles\", \"NikkieTutorials\", \"sophdoeslife\"\n",
    "\n",
    "creator = \"MKBHD\"\n",
    "output_df = pd.read_excel(f\"../comments_spreadsheets/extracted_comments_{creator}.xlsx\")"
   ],
   "metadata": {
    "collapsed": false,
    "pycharm": {
     "name": "#%%\n"
    }
   }
  },
  {
   "cell_type": "code",
   "execution_count": 59,
   "outputs": [
    {
     "name": "stdout",
     "output_type": "stream",
     "text": [
      "Count of duplicate comments in dataframe 75\n",
      "Count of unique comments in dataframe 1925\n"
     ]
    },
    {
     "data": {
      "text/plain": "         Video ID                                           Comments\n0     eWI_BtcDJu0  I like the blue this time. But will wait for 1...\n1     eWI_BtcDJu0  I love to watch reviews of my phone just to co...\n2     eWI_BtcDJu0  If you are planning to keep your phone for abo...\n3     eWI_BtcDJu0  I've been watching an endless amount of videos...\n4     eWI_BtcDJu0  Another fantastic review! Thank you mr Marcus....\n...           ...                                                ...\n1920  eWI_BtcDJu0  “Maybe you have kids that run far away”   Why ...\n1921  eWI_BtcDJu0  people who use spotify on iPhones are a differ...\n1922  eWI_BtcDJu0  9:40 Hmmmmm..... something is off in this shot...\n1923  eWI_BtcDJu0  John Cena and Marques in sync... \"Are you sure...\n1924  eWI_BtcDJu0                   But I have the phone already 😞😞😞\n\n[1925 rows x 2 columns]",
      "text/html": "<div>\n<style scoped>\n    .dataframe tbody tr th:only-of-type {\n        vertical-align: middle;\n    }\n\n    .dataframe tbody tr th {\n        vertical-align: top;\n    }\n\n    .dataframe thead th {\n        text-align: right;\n    }\n</style>\n<table border=\"1\" class=\"dataframe\">\n  <thead>\n    <tr style=\"text-align: right;\">\n      <th></th>\n      <th>Video ID</th>\n      <th>Comments</th>\n    </tr>\n  </thead>\n  <tbody>\n    <tr>\n      <th>0</th>\n      <td>eWI_BtcDJu0</td>\n      <td>I like the blue this time. But will wait for 1...</td>\n    </tr>\n    <tr>\n      <th>1</th>\n      <td>eWI_BtcDJu0</td>\n      <td>I love to watch reviews of my phone just to co...</td>\n    </tr>\n    <tr>\n      <th>2</th>\n      <td>eWI_BtcDJu0</td>\n      <td>If you are planning to keep your phone for abo...</td>\n    </tr>\n    <tr>\n      <th>3</th>\n      <td>eWI_BtcDJu0</td>\n      <td>I've been watching an endless amount of videos...</td>\n    </tr>\n    <tr>\n      <th>4</th>\n      <td>eWI_BtcDJu0</td>\n      <td>Another fantastic review! Thank you mr Marcus....</td>\n    </tr>\n    <tr>\n      <th>...</th>\n      <td>...</td>\n      <td>...</td>\n    </tr>\n    <tr>\n      <th>1920</th>\n      <td>eWI_BtcDJu0</td>\n      <td>“Maybe you have kids that run far away”   Why ...</td>\n    </tr>\n    <tr>\n      <th>1921</th>\n      <td>eWI_BtcDJu0</td>\n      <td>people who use spotify on iPhones are a differ...</td>\n    </tr>\n    <tr>\n      <th>1922</th>\n      <td>eWI_BtcDJu0</td>\n      <td>9:40 Hmmmmm..... something is off in this shot...</td>\n    </tr>\n    <tr>\n      <th>1923</th>\n      <td>eWI_BtcDJu0</td>\n      <td>John Cena and Marques in sync... \"Are you sure...</td>\n    </tr>\n    <tr>\n      <th>1924</th>\n      <td>eWI_BtcDJu0</td>\n      <td>But I have the phone already 😞😞😞</td>\n    </tr>\n  </tbody>\n</table>\n<p>1925 rows × 2 columns</p>\n</div>"
     },
     "metadata": {},
     "output_type": "display_data"
    }
   ],
   "source": [
    "duplicates = output_df[output_df.duplicated((\"Comments\"))]\n",
    "print (\"Count of duplicate comments in dataframe\"\n",
    ", duplicates.shape[0])\n",
    "\n",
    "print (\"Count of unique comments in dataframe\"\n",
    ", output_df.shape[0] - duplicates.shape[0])\n",
    "\n",
    "# Remove duplicated comments from dataset\n",
    "unique_df = output_df.drop_duplicates(subset=[\"Comments\"], keep='first', ignore_index=True)\n",
    "df = unique_df\n",
    "# df = unique_df.reset_index()\n",
    "\n",
    "# Removes line return \"\\n\"\n",
    "df = df.replace(r'\\n',' ', regex=True)\n",
    "\n",
    "# display(unique_df)\n",
    "display(df)"
   ],
   "metadata": {
    "collapsed": false,
    "pycharm": {
     "name": "#%%\n"
    }
   }
  },
  {
   "cell_type": "markdown",
   "source": [
    "# Sentiment Analysis"
   ],
   "metadata": {
    "collapsed": false,
    "pycharm": {
     "name": "#%% md\n"
    }
   }
  },
  {
   "cell_type": "code",
   "execution_count": 60,
   "outputs": [
    {
     "data": {
      "text/plain": "         Video ID                                           Comments  \\\n0     eWI_BtcDJu0  I like the blue this time. But will wait for 1...   \n1     eWI_BtcDJu0  I love to watch reviews of my phone just to co...   \n2     eWI_BtcDJu0  If you are planning to keep your phone for abo...   \n3     eWI_BtcDJu0  I've been watching an endless amount of videos...   \n4     eWI_BtcDJu0  Another fantastic review! Thank you mr Marcus....   \n...           ...                                                ...   \n1920  eWI_BtcDJu0  “Maybe you have kids that run far away”   Why ...   \n1921  eWI_BtcDJu0  people who use spotify on iPhones are a differ...   \n1922  eWI_BtcDJu0  9:40 Hmmmmm..... something is off in this shot...   \n1923  eWI_BtcDJu0  John Cena and Marques in sync... \"Are you sure...   \n1924  eWI_BtcDJu0                   But I have the phone already 😞😞😞   \n\n     Sentiment  Sentiment Score  \n0     Positive           0.6652  \n1     Positive           0.8442  \n2     Positive           0.3612  \n3     Positive           0.0982  \n4     Positive           0.9901  \n...        ...              ...  \n1920  Positive           0.5777  \n1921   Neutral           0.0000  \n1922   Neutral           0.0000  \n1923  Positive           0.3182  \n1924  Negative          -0.9253  \n\n[1925 rows x 4 columns]",
      "text/html": "<div>\n<style scoped>\n    .dataframe tbody tr th:only-of-type {\n        vertical-align: middle;\n    }\n\n    .dataframe tbody tr th {\n        vertical-align: top;\n    }\n\n    .dataframe thead th {\n        text-align: right;\n    }\n</style>\n<table border=\"1\" class=\"dataframe\">\n  <thead>\n    <tr style=\"text-align: right;\">\n      <th></th>\n      <th>Video ID</th>\n      <th>Comments</th>\n      <th>Sentiment</th>\n      <th>Sentiment Score</th>\n    </tr>\n  </thead>\n  <tbody>\n    <tr>\n      <th>0</th>\n      <td>eWI_BtcDJu0</td>\n      <td>I like the blue this time. But will wait for 1...</td>\n      <td>Positive</td>\n      <td>0.6652</td>\n    </tr>\n    <tr>\n      <th>1</th>\n      <td>eWI_BtcDJu0</td>\n      <td>I love to watch reviews of my phone just to co...</td>\n      <td>Positive</td>\n      <td>0.8442</td>\n    </tr>\n    <tr>\n      <th>2</th>\n      <td>eWI_BtcDJu0</td>\n      <td>If you are planning to keep your phone for abo...</td>\n      <td>Positive</td>\n      <td>0.3612</td>\n    </tr>\n    <tr>\n      <th>3</th>\n      <td>eWI_BtcDJu0</td>\n      <td>I've been watching an endless amount of videos...</td>\n      <td>Positive</td>\n      <td>0.0982</td>\n    </tr>\n    <tr>\n      <th>4</th>\n      <td>eWI_BtcDJu0</td>\n      <td>Another fantastic review! Thank you mr Marcus....</td>\n      <td>Positive</td>\n      <td>0.9901</td>\n    </tr>\n    <tr>\n      <th>...</th>\n      <td>...</td>\n      <td>...</td>\n      <td>...</td>\n      <td>...</td>\n    </tr>\n    <tr>\n      <th>1920</th>\n      <td>eWI_BtcDJu0</td>\n      <td>“Maybe you have kids that run far away”   Why ...</td>\n      <td>Positive</td>\n      <td>0.5777</td>\n    </tr>\n    <tr>\n      <th>1921</th>\n      <td>eWI_BtcDJu0</td>\n      <td>people who use spotify on iPhones are a differ...</td>\n      <td>Neutral</td>\n      <td>0.0000</td>\n    </tr>\n    <tr>\n      <th>1922</th>\n      <td>eWI_BtcDJu0</td>\n      <td>9:40 Hmmmmm..... something is off in this shot...</td>\n      <td>Neutral</td>\n      <td>0.0000</td>\n    </tr>\n    <tr>\n      <th>1923</th>\n      <td>eWI_BtcDJu0</td>\n      <td>John Cena and Marques in sync... \"Are you sure...</td>\n      <td>Positive</td>\n      <td>0.3182</td>\n    </tr>\n    <tr>\n      <th>1924</th>\n      <td>eWI_BtcDJu0</td>\n      <td>But I have the phone already 😞😞😞</td>\n      <td>Negative</td>\n      <td>-0.9253</td>\n    </tr>\n  </tbody>\n</table>\n<p>1925 rows × 4 columns</p>\n</div>"
     },
     "metadata": {},
     "output_type": "display_data"
    }
   ],
   "source": [
    "sentimentAnalyser = SentimentIntensityAnalyzer()\n",
    "sentimentScoreList = []\n",
    "sentimentLabelList = []\n",
    "\n",
    "for i in df[\"Comments\"].values.tolist():\n",
    "    sentimentScore = sentimentAnalyser.polarity_scores(i)\n",
    "\n",
    "    if sentimentScore['compound'] >= 0.05:\n",
    "        sentimentScoreList.append(sentimentScore['compound'])\n",
    "        sentimentLabelList.append('Positive')\n",
    "    elif sentimentScore['compound'] > -0.05 and sentimentScore['compound'] < 0.05:\n",
    "        sentimentScoreList.append(sentimentScore['compound'])\n",
    "        sentimentLabelList.append('Neutral')\n",
    "    elif sentimentScore['compound'] <= -0.05:\n",
    "        sentimentScoreList.append(sentimentScore['compound'])\n",
    "        sentimentLabelList.append('Negative')\n",
    "\n",
    "df[\"Sentiment\"] = sentimentLabelList\n",
    "df[\"Sentiment Score\"] = sentimentScoreList\n",
    "\n",
    "display(df)"
   ],
   "metadata": {
    "collapsed": false,
    "pycharm": {
     "name": "#%%\n"
    }
   }
  },
  {
   "cell_type": "markdown",
   "source": [
    "# Data Pre-Processing for LDA Model\n",
    "1. Lowercase the letters\n",
    "2. Remove the punctuation\n",
    "3. Remove the number\n",
    "4. Remove extra whitespaces\n",
    "5. Tokenisation\n",
    "6. Remove the stopwords"
   ],
   "metadata": {
    "collapsed": false,
    "pycharm": {
     "name": "#%% md\n"
    }
   }
  },
  {
   "cell_type": "code",
   "execution_count": 61,
   "outputs": [
    {
     "data": {
      "text/plain": "      Video ID                                           Comments Sentiment  \\\n0  eWI_BtcDJu0  I like the blue this time. But will wait for 1...  Positive   \n1  eWI_BtcDJu0  I love to watch reviews of my phone just to co...  Positive   \n2  eWI_BtcDJu0  If you are planning to keep your phone for abo...  Positive   \n3  eWI_BtcDJu0  I've been watching an endless amount of videos...  Positive   \n4  eWI_BtcDJu0  Another fantastic review! Thank you mr Marcus....  Positive   \n5  eWI_BtcDJu0                            Those intro shots man 👌  Positive   \n6  eWI_BtcDJu0  @Marques it would be interesting to also inclu...  Positive   \n7  eWI_BtcDJu0  I definitely went with the 12 Pro for that 2x ...  Positive   \n8  eWI_BtcDJu0  Just upgraded from the XS Max to this phone an...  Positive   \n9  eWI_BtcDJu0  Personally I just don’t like how big the Max i...  Positive   \n\n   Sentiment Score                                              lower  \\\n0           0.6652  i like the blue this time. but will wait for 1...   \n1           0.8442  i love to watch reviews of my phone just to co...   \n2           0.3612  if you are planning to keep your phone for abo...   \n3           0.0982  i've been watching an endless amount of videos...   \n4           0.9901  another fantastic review! thank you mr marcus....   \n5           0.7297                            those intro shots man 👌   \n6           0.9337  @marques it would be interesting to also inclu...   \n7           0.7082  i definitely went with the 12 pro for that 2x ...   \n8           0.8149  just upgraded from the xs max to this phone an...   \n9           0.7906  personally i just don’t like how big the max i...   \n\n                                 punctuation_removed  \\\n0  i like the blue this time  but will wait for 1...   \n1  i love to watch reviews of my phone just to co...   \n2  if you are planning to keep your phone for abo...   \n3  ive been watching an endless amount of videos ...   \n4  another fantastic review  thank you mr marcus ...   \n5                            those intro shots man     \n6   marques it would be interesting to also inclu...   \n7  i definitely went with the 12 pro for that 2x ...   \n8  just upgraded from the xs max to this phone an...   \n9  personally i just don t like how big the max i...   \n\n                                     numbers_removed  \\\n0  i like the blue this time  but will wait for  ...   \n1  i love to watch reviews of my phone just to co...   \n2  if you are planning to keep your phone for abo...   \n3  ive been watching an endless amount of videos ...   \n4  another fantastic review  thank you mr marcus ...   \n5                            those intro shots man     \n6   marques it would be interesting to also inclu...   \n7  i definitely went with the  pro for that x zoo...   \n8  just upgraded from the xs max to this phone an...   \n9  personally i just don t like how big the max i...   \n\n                                extra_spaces_removed  \\\n0  i like the blue this time but will wait for an...   \n1  i love to watch reviews of my phone just to co...   \n2  if you are planning to keep your phone for abo...   \n3  ive been watching an endless amount of videos ...   \n4  another fantastic review thank you mr marcus t...   \n5                              those intro shots man   \n6  marques it would be interesting to also includ...   \n7  i definitely went with the pro for that x zoom...   \n8  just upgraded from the xs max to this phone an...   \n9  personally i just don t like how big the max i...   \n\n                                           tokenised  \\\n0  [i, like, the, blue, this, time, but, will, wa...   \n1  [i, love, to, watch, reviews, of, my, phone, j...   \n2  [if, you, are, planning, to, keep, your, phone...   \n3  [ive, been, watching, an, endless, amount, of,...   \n4  [another, fantastic, review, thank, you, mr, m...   \n5                         [those, intro, shots, man]   \n6  [marques, it, would, be, interesting, to, also...   \n7  [i, definitely, went, with, the, pro, for, tha...   \n8  [just, upgraded, from, the, xs, max, to, this,...   \n9  [personally, i, just, don, t, like, how, big, ...   \n\n                                   removed_stopwords  \n0                   [blue, time, wait, pro, upgrade]  \n1  [watch, reviews, phone, convince, worthy, purc...  \n2          [planning, keep, phone, years, pro, pick]  \n3  [watching, endless, amount, videos, decide, pr...  \n4  [fantastic, review, marcus, difference, featur...  \n5                                [intro, shots, man]  \n6  [marques, interesting, include, thoughts, rese...  \n7  [definitely, pro, zoom, cheaper, phones, misse...  \n8  [upgraded, xs, max, phone, absolutely, camera,...  \n9  [personally, big, max, best, phone, pro, size,...  ",
      "text/html": "<div>\n<style scoped>\n    .dataframe tbody tr th:only-of-type {\n        vertical-align: middle;\n    }\n\n    .dataframe tbody tr th {\n        vertical-align: top;\n    }\n\n    .dataframe thead th {\n        text-align: right;\n    }\n</style>\n<table border=\"1\" class=\"dataframe\">\n  <thead>\n    <tr style=\"text-align: right;\">\n      <th></th>\n      <th>Video ID</th>\n      <th>Comments</th>\n      <th>Sentiment</th>\n      <th>Sentiment Score</th>\n      <th>lower</th>\n      <th>punctuation_removed</th>\n      <th>numbers_removed</th>\n      <th>extra_spaces_removed</th>\n      <th>tokenised</th>\n      <th>removed_stopwords</th>\n    </tr>\n  </thead>\n  <tbody>\n    <tr>\n      <th>0</th>\n      <td>eWI_BtcDJu0</td>\n      <td>I like the blue this time. But will wait for 1...</td>\n      <td>Positive</td>\n      <td>0.6652</td>\n      <td>i like the blue this time. but will wait for 1...</td>\n      <td>i like the blue this time  but will wait for 1...</td>\n      <td>i like the blue this time  but will wait for  ...</td>\n      <td>i like the blue this time but will wait for an...</td>\n      <td>[i, like, the, blue, this, time, but, will, wa...</td>\n      <td>[blue, time, wait, pro, upgrade]</td>\n    </tr>\n    <tr>\n      <th>1</th>\n      <td>eWI_BtcDJu0</td>\n      <td>I love to watch reviews of my phone just to co...</td>\n      <td>Positive</td>\n      <td>0.8442</td>\n      <td>i love to watch reviews of my phone just to co...</td>\n      <td>i love to watch reviews of my phone just to co...</td>\n      <td>i love to watch reviews of my phone just to co...</td>\n      <td>i love to watch reviews of my phone just to co...</td>\n      <td>[i, love, to, watch, reviews, of, my, phone, j...</td>\n      <td>[watch, reviews, phone, convince, worthy, purc...</td>\n    </tr>\n    <tr>\n      <th>2</th>\n      <td>eWI_BtcDJu0</td>\n      <td>If you are planning to keep your phone for abo...</td>\n      <td>Positive</td>\n      <td>0.3612</td>\n      <td>if you are planning to keep your phone for abo...</td>\n      <td>if you are planning to keep your phone for abo...</td>\n      <td>if you are planning to keep your phone for abo...</td>\n      <td>if you are planning to keep your phone for abo...</td>\n      <td>[if, you, are, planning, to, keep, your, phone...</td>\n      <td>[planning, keep, phone, years, pro, pick]</td>\n    </tr>\n    <tr>\n      <th>3</th>\n      <td>eWI_BtcDJu0</td>\n      <td>I've been watching an endless amount of videos...</td>\n      <td>Positive</td>\n      <td>0.0982</td>\n      <td>i've been watching an endless amount of videos...</td>\n      <td>ive been watching an endless amount of videos ...</td>\n      <td>ive been watching an endless amount of videos ...</td>\n      <td>ive been watching an endless amount of videos ...</td>\n      <td>[ive, been, watching, an, endless, amount, of,...</td>\n      <td>[watching, endless, amount, videos, decide, pr...</td>\n    </tr>\n    <tr>\n      <th>4</th>\n      <td>eWI_BtcDJu0</td>\n      <td>Another fantastic review! Thank you mr Marcus....</td>\n      <td>Positive</td>\n      <td>0.9901</td>\n      <td>another fantastic review! thank you mr marcus....</td>\n      <td>another fantastic review  thank you mr marcus ...</td>\n      <td>another fantastic review  thank you mr marcus ...</td>\n      <td>another fantastic review thank you mr marcus t...</td>\n      <td>[another, fantastic, review, thank, you, mr, m...</td>\n      <td>[fantastic, review, marcus, difference, featur...</td>\n    </tr>\n    <tr>\n      <th>5</th>\n      <td>eWI_BtcDJu0</td>\n      <td>Those intro shots man 👌</td>\n      <td>Positive</td>\n      <td>0.7297</td>\n      <td>those intro shots man 👌</td>\n      <td>those intro shots man</td>\n      <td>those intro shots man</td>\n      <td>those intro shots man</td>\n      <td>[those, intro, shots, man]</td>\n      <td>[intro, shots, man]</td>\n    </tr>\n    <tr>\n      <th>6</th>\n      <td>eWI_BtcDJu0</td>\n      <td>@Marques it would be interesting to also inclu...</td>\n      <td>Positive</td>\n      <td>0.9337</td>\n      <td>@marques it would be interesting to also inclu...</td>\n      <td>marques it would be interesting to also inclu...</td>\n      <td>marques it would be interesting to also inclu...</td>\n      <td>marques it would be interesting to also includ...</td>\n      <td>[marques, it, would, be, interesting, to, also...</td>\n      <td>[marques, interesting, include, thoughts, rese...</td>\n    </tr>\n    <tr>\n      <th>7</th>\n      <td>eWI_BtcDJu0</td>\n      <td>I definitely went with the 12 Pro for that 2x ...</td>\n      <td>Positive</td>\n      <td>0.7082</td>\n      <td>i definitely went with the 12 pro for that 2x ...</td>\n      <td>i definitely went with the 12 pro for that 2x ...</td>\n      <td>i definitely went with the  pro for that x zoo...</td>\n      <td>i definitely went with the pro for that x zoom...</td>\n      <td>[i, definitely, went, with, the, pro, for, tha...</td>\n      <td>[definitely, pro, zoom, cheaper, phones, misse...</td>\n    </tr>\n    <tr>\n      <th>8</th>\n      <td>eWI_BtcDJu0</td>\n      <td>Just upgraded from the XS Max to this phone an...</td>\n      <td>Positive</td>\n      <td>0.8149</td>\n      <td>just upgraded from the xs max to this phone an...</td>\n      <td>just upgraded from the xs max to this phone an...</td>\n      <td>just upgraded from the xs max to this phone an...</td>\n      <td>just upgraded from the xs max to this phone an...</td>\n      <td>[just, upgraded, from, the, xs, max, to, this,...</td>\n      <td>[upgraded, xs, max, phone, absolutely, camera,...</td>\n    </tr>\n    <tr>\n      <th>9</th>\n      <td>eWI_BtcDJu0</td>\n      <td>Personally I just don’t like how big the Max i...</td>\n      <td>Positive</td>\n      <td>0.7906</td>\n      <td>personally i just don’t like how big the max i...</td>\n      <td>personally i just don t like how big the max i...</td>\n      <td>personally i just don t like how big the max i...</td>\n      <td>personally i just don t like how big the max i...</td>\n      <td>[personally, i, just, don, t, like, how, big, ...</td>\n      <td>[personally, big, max, best, phone, pro, size,...</td>\n    </tr>\n  </tbody>\n</table>\n</div>"
     },
     "metadata": {},
     "output_type": "display_data"
    }
   ],
   "source": [
    "# Convert case text as lowercase, remove punctuation, remove extra whitespace in string and on both sides of string\n",
    "# Lowercase all the letters\n",
    "df['lower'] = df['Comments'].str.lower()\n",
    "\n",
    "# Remove punctuations\n",
    "df['punctuation_removed'] = df['lower'].str.replace(\"'\", '', regex=True).str.replace('[^\\w\\s]', ' ', regex=True)\n",
    "\n",
    "# Remove numbers\n",
    "df['numbers_removed'] = df['punctuation_removed'].str.replace(\" \\d+\", \" \", regex=True)\n",
    "\n",
    "# Remove extra whitespace\n",
    "df['extra_spaces_removed'] = df['numbers_removed'].str.replace(' +', ' ', regex=True).str.strip()\n",
    "\n",
    "# Tokenise\n",
    "df['tokenised'] = df.apply(lambda row: nltk.word_tokenize(row['extra_spaces_removed']), axis=1)\n",
    "\n",
    "# Stop words removal\n",
    "# Initiate stopwords from nltk\n",
    "stop_words = stopwords.words('english')\n",
    "\n",
    "# Add additional missing terms\n",
    "stop_words.extend(stop_words_list)\n",
    "\n",
    "# Remove stopwords\n",
    "df['removed_stopwords'] = df['tokenised'].apply(lambda x: [item for item in x if item not in stop_words])\n",
    "\n",
    "display(df.head(10))"
   ],
   "metadata": {
    "collapsed": false,
    "pycharm": {
     "name": "#%%\n"
    }
   }
  },
  {
   "cell_type": "markdown",
   "source": [
    "# Vectorisation for LDA model"
   ],
   "metadata": {
    "collapsed": false,
    "pycharm": {
     "name": "#%% md\n"
    }
   }
  },
  {
   "cell_type": "code",
   "execution_count": 62,
   "outputs": [],
   "source": [
    "# initialise the count vectorizer\n",
    "vectorizer = CountVectorizer(analyzer = 'word', ngram_range = (2, 2))\n",
    "\n",
    "# join the processed data to be vectorised\n",
    "\n",
    "vectors = []\n",
    "\n",
    "for index, row in df.iterrows():\n",
    "    vectors.append(\", \".join(row[\"removed_stopwords\"]))\n",
    "\n",
    "vectorised = vectorizer.fit_transform(vectors)"
   ],
   "metadata": {
    "collapsed": false,
    "pycharm": {
     "name": "#%%\n"
    }
   }
  },
  {
   "cell_type": "markdown",
   "source": [
    "# Topic Modelling Using LDA"
   ],
   "metadata": {
    "collapsed": false,
    "pycharm": {
     "name": "#%% md\n"
    }
   }
  },
  {
   "cell_type": "code",
   "execution_count": 63,
   "outputs": [
    {
     "data": {
      "text/plain": "      Video ID                                           Comments Sentiment  \\\n0  eWI_BtcDJu0  I like the blue this time. But will wait for 1...  Positive   \n1  eWI_BtcDJu0  I love to watch reviews of my phone just to co...  Positive   \n2  eWI_BtcDJu0  If you are planning to keep your phone for abo...  Positive   \n3  eWI_BtcDJu0  I've been watching an endless amount of videos...  Positive   \n4  eWI_BtcDJu0  Another fantastic review! Thank you mr Marcus....  Positive   \n5  eWI_BtcDJu0                            Those intro shots man 👌  Positive   \n6  eWI_BtcDJu0  @Marques it would be interesting to also inclu...  Positive   \n7  eWI_BtcDJu0  I definitely went with the 12 Pro for that 2x ...  Positive   \n8  eWI_BtcDJu0  Just upgraded from the XS Max to this phone an...  Positive   \n9  eWI_BtcDJu0  Personally I just don’t like how big the Max i...  Positive   \n\n   Sentiment Score                                              lower  \\\n0           0.6652  i like the blue this time. but will wait for 1...   \n1           0.8442  i love to watch reviews of my phone just to co...   \n2           0.3612  if you are planning to keep your phone for abo...   \n3           0.0982  i've been watching an endless amount of videos...   \n4           0.9901  another fantastic review! thank you mr marcus....   \n5           0.7297                            those intro shots man 👌   \n6           0.9337  @marques it would be interesting to also inclu...   \n7           0.7082  i definitely went with the 12 pro for that 2x ...   \n8           0.8149  just upgraded from the xs max to this phone an...   \n9           0.7906  personally i just don’t like how big the max i...   \n\n                                 punctuation_removed  \\\n0  i like the blue this time  but will wait for 1...   \n1  i love to watch reviews of my phone just to co...   \n2  if you are planning to keep your phone for abo...   \n3  ive been watching an endless amount of videos ...   \n4  another fantastic review  thank you mr marcus ...   \n5                            those intro shots man     \n6   marques it would be interesting to also inclu...   \n7  i definitely went with the 12 pro for that 2x ...   \n8  just upgraded from the xs max to this phone an...   \n9  personally i just don t like how big the max i...   \n\n                                     numbers_removed  \\\n0  i like the blue this time  but will wait for  ...   \n1  i love to watch reviews of my phone just to co...   \n2  if you are planning to keep your phone for abo...   \n3  ive been watching an endless amount of videos ...   \n4  another fantastic review  thank you mr marcus ...   \n5                            those intro shots man     \n6   marques it would be interesting to also inclu...   \n7  i definitely went with the  pro for that x zoo...   \n8  just upgraded from the xs max to this phone an...   \n9  personally i just don t like how big the max i...   \n\n                                extra_spaces_removed  \\\n0  i like the blue this time but will wait for an...   \n1  i love to watch reviews of my phone just to co...   \n2  if you are planning to keep your phone for abo...   \n3  ive been watching an endless amount of videos ...   \n4  another fantastic review thank you mr marcus t...   \n5                              those intro shots man   \n6  marques it would be interesting to also includ...   \n7  i definitely went with the pro for that x zoom...   \n8  just upgraded from the xs max to this phone an...   \n9  personally i just don t like how big the max i...   \n\n                                           tokenised  \\\n0  [i, like, the, blue, this, time, but, will, wa...   \n1  [i, love, to, watch, reviews, of, my, phone, j...   \n2  [if, you, are, planning, to, keep, your, phone...   \n3  [ive, been, watching, an, endless, amount, of,...   \n4  [another, fantastic, review, thank, you, mr, m...   \n5                         [those, intro, shots, man]   \n6  [marques, it, would, be, interesting, to, also...   \n7  [i, definitely, went, with, the, pro, for, tha...   \n8  [just, upgraded, from, the, xs, max, to, this,...   \n9  [personally, i, just, don, t, like, how, big, ...   \n\n                                   removed_stopwords  Topic1  Topic2  Topic3  \\\n0                   [blue, time, wait, pro, upgrade]    0.07    0.07    0.86   \n1  [watch, reviews, phone, convince, worthy, purc...    0.06    0.06    0.89   \n2          [planning, keep, phone, years, pro, pick]    0.06    0.06    0.89   \n3  [watching, endless, amount, videos, decide, pr...    0.03    0.03    0.95   \n4  [fantastic, review, marcus, difference, featur...    0.01    0.01    0.98   \n5                                [intro, shots, man]    0.11    0.14    0.75   \n6  [marques, interesting, include, thoughts, rese...    0.98    0.01    0.01   \n7  [definitely, pro, zoom, cheaper, phones, misse...    0.01    0.01    0.97   \n8  [upgraded, xs, max, phone, absolutely, camera,...    0.03    0.94    0.03   \n9  [personally, big, max, best, phone, pro, size,...    0.04    0.92    0.04   \n\n   Dominant_topic  \n0               3  \n1               3  \n2               3  \n3               3  \n4               3  \n5               3  \n6               1  \n7               3  \n8               2  \n9               2  ",
      "text/html": "<div>\n<style scoped>\n    .dataframe tbody tr th:only-of-type {\n        vertical-align: middle;\n    }\n\n    .dataframe tbody tr th {\n        vertical-align: top;\n    }\n\n    .dataframe thead th {\n        text-align: right;\n    }\n</style>\n<table border=\"1\" class=\"dataframe\">\n  <thead>\n    <tr style=\"text-align: right;\">\n      <th></th>\n      <th>Video ID</th>\n      <th>Comments</th>\n      <th>Sentiment</th>\n      <th>Sentiment Score</th>\n      <th>lower</th>\n      <th>punctuation_removed</th>\n      <th>numbers_removed</th>\n      <th>extra_spaces_removed</th>\n      <th>tokenised</th>\n      <th>removed_stopwords</th>\n      <th>Topic1</th>\n      <th>Topic2</th>\n      <th>Topic3</th>\n      <th>Dominant_topic</th>\n    </tr>\n  </thead>\n  <tbody>\n    <tr>\n      <th>0</th>\n      <td>eWI_BtcDJu0</td>\n      <td>I like the blue this time. But will wait for 1...</td>\n      <td>Positive</td>\n      <td>0.6652</td>\n      <td>i like the blue this time. but will wait for 1...</td>\n      <td>i like the blue this time  but will wait for 1...</td>\n      <td>i like the blue this time  but will wait for  ...</td>\n      <td>i like the blue this time but will wait for an...</td>\n      <td>[i, like, the, blue, this, time, but, will, wa...</td>\n      <td>[blue, time, wait, pro, upgrade]</td>\n      <td>0.07</td>\n      <td>0.07</td>\n      <td>0.86</td>\n      <td>3</td>\n    </tr>\n    <tr>\n      <th>1</th>\n      <td>eWI_BtcDJu0</td>\n      <td>I love to watch reviews of my phone just to co...</td>\n      <td>Positive</td>\n      <td>0.8442</td>\n      <td>i love to watch reviews of my phone just to co...</td>\n      <td>i love to watch reviews of my phone just to co...</td>\n      <td>i love to watch reviews of my phone just to co...</td>\n      <td>i love to watch reviews of my phone just to co...</td>\n      <td>[i, love, to, watch, reviews, of, my, phone, j...</td>\n      <td>[watch, reviews, phone, convince, worthy, purc...</td>\n      <td>0.06</td>\n      <td>0.06</td>\n      <td>0.89</td>\n      <td>3</td>\n    </tr>\n    <tr>\n      <th>2</th>\n      <td>eWI_BtcDJu0</td>\n      <td>If you are planning to keep your phone for abo...</td>\n      <td>Positive</td>\n      <td>0.3612</td>\n      <td>if you are planning to keep your phone for abo...</td>\n      <td>if you are planning to keep your phone for abo...</td>\n      <td>if you are planning to keep your phone for abo...</td>\n      <td>if you are planning to keep your phone for abo...</td>\n      <td>[if, you, are, planning, to, keep, your, phone...</td>\n      <td>[planning, keep, phone, years, pro, pick]</td>\n      <td>0.06</td>\n      <td>0.06</td>\n      <td>0.89</td>\n      <td>3</td>\n    </tr>\n    <tr>\n      <th>3</th>\n      <td>eWI_BtcDJu0</td>\n      <td>I've been watching an endless amount of videos...</td>\n      <td>Positive</td>\n      <td>0.0982</td>\n      <td>i've been watching an endless amount of videos...</td>\n      <td>ive been watching an endless amount of videos ...</td>\n      <td>ive been watching an endless amount of videos ...</td>\n      <td>ive been watching an endless amount of videos ...</td>\n      <td>[ive, been, watching, an, endless, amount, of,...</td>\n      <td>[watching, endless, amount, videos, decide, pr...</td>\n      <td>0.03</td>\n      <td>0.03</td>\n      <td>0.95</td>\n      <td>3</td>\n    </tr>\n    <tr>\n      <th>4</th>\n      <td>eWI_BtcDJu0</td>\n      <td>Another fantastic review! Thank you mr Marcus....</td>\n      <td>Positive</td>\n      <td>0.9901</td>\n      <td>another fantastic review! thank you mr marcus....</td>\n      <td>another fantastic review  thank you mr marcus ...</td>\n      <td>another fantastic review  thank you mr marcus ...</td>\n      <td>another fantastic review thank you mr marcus t...</td>\n      <td>[another, fantastic, review, thank, you, mr, m...</td>\n      <td>[fantastic, review, marcus, difference, featur...</td>\n      <td>0.01</td>\n      <td>0.01</td>\n      <td>0.98</td>\n      <td>3</td>\n    </tr>\n    <tr>\n      <th>5</th>\n      <td>eWI_BtcDJu0</td>\n      <td>Those intro shots man 👌</td>\n      <td>Positive</td>\n      <td>0.7297</td>\n      <td>those intro shots man 👌</td>\n      <td>those intro shots man</td>\n      <td>those intro shots man</td>\n      <td>those intro shots man</td>\n      <td>[those, intro, shots, man]</td>\n      <td>[intro, shots, man]</td>\n      <td>0.11</td>\n      <td>0.14</td>\n      <td>0.75</td>\n      <td>3</td>\n    </tr>\n    <tr>\n      <th>6</th>\n      <td>eWI_BtcDJu0</td>\n      <td>@Marques it would be interesting to also inclu...</td>\n      <td>Positive</td>\n      <td>0.9337</td>\n      <td>@marques it would be interesting to also inclu...</td>\n      <td>marques it would be interesting to also inclu...</td>\n      <td>marques it would be interesting to also inclu...</td>\n      <td>marques it would be interesting to also includ...</td>\n      <td>[marques, it, would, be, interesting, to, also...</td>\n      <td>[marques, interesting, include, thoughts, rese...</td>\n      <td>0.98</td>\n      <td>0.01</td>\n      <td>0.01</td>\n      <td>1</td>\n    </tr>\n    <tr>\n      <th>7</th>\n      <td>eWI_BtcDJu0</td>\n      <td>I definitely went with the 12 Pro for that 2x ...</td>\n      <td>Positive</td>\n      <td>0.7082</td>\n      <td>i definitely went with the 12 pro for that 2x ...</td>\n      <td>i definitely went with the 12 pro for that 2x ...</td>\n      <td>i definitely went with the  pro for that x zoo...</td>\n      <td>i definitely went with the pro for that x zoom...</td>\n      <td>[i, definitely, went, with, the, pro, for, tha...</td>\n      <td>[definitely, pro, zoom, cheaper, phones, misse...</td>\n      <td>0.01</td>\n      <td>0.01</td>\n      <td>0.97</td>\n      <td>3</td>\n    </tr>\n    <tr>\n      <th>8</th>\n      <td>eWI_BtcDJu0</td>\n      <td>Just upgraded from the XS Max to this phone an...</td>\n      <td>Positive</td>\n      <td>0.8149</td>\n      <td>just upgraded from the xs max to this phone an...</td>\n      <td>just upgraded from the xs max to this phone an...</td>\n      <td>just upgraded from the xs max to this phone an...</td>\n      <td>just upgraded from the xs max to this phone an...</td>\n      <td>[just, upgraded, from, the, xs, max, to, this,...</td>\n      <td>[upgraded, xs, max, phone, absolutely, camera,...</td>\n      <td>0.03</td>\n      <td>0.94</td>\n      <td>0.03</td>\n      <td>2</td>\n    </tr>\n    <tr>\n      <th>9</th>\n      <td>eWI_BtcDJu0</td>\n      <td>Personally I just don’t like how big the Max i...</td>\n      <td>Positive</td>\n      <td>0.7906</td>\n      <td>personally i just don’t like how big the max i...</td>\n      <td>personally i just don t like how big the max i...</td>\n      <td>personally i just don t like how big the max i...</td>\n      <td>personally i just don t like how big the max i...</td>\n      <td>[personally, i, just, don, t, like, how, big, ...</td>\n      <td>[personally, big, max, best, phone, pro, size,...</td>\n      <td>0.04</td>\n      <td>0.92</td>\n      <td>0.04</td>\n      <td>2</td>\n    </tr>\n  </tbody>\n</table>\n</div>"
     },
     "metadata": {},
     "output_type": "display_data"
    }
   ],
   "source": [
    "# Initialise LDA Model\n",
    "lda_model = LatentDirichletAllocation(n_components = 3, # number of topics\n",
    "                                      random_state = 1,     # random state USED TO BE 10\n",
    "                                      evaluate_every = -1,  # compute perplexity every n iters, default: Don't\n",
    "                                      n_jobs = -1,         # Use all available CPUs\n",
    "                                 )\n",
    "\n",
    "# Returns a list of probability of belonging to each topic for each comment\n",
    "lda_output = lda_model.fit_transform(vectorised)\n",
    "\n",
    "# Column names\n",
    "topic_names = [\"Topic\" + str(i) for i in range(1, lda_model.n_components + 1)]\n",
    "\n",
    "# Make the pandas dataframe\n",
    "df_document_topic = pd.DataFrame(np.round(lda_output, 2), columns = topic_names)\n",
    "\n",
    "# Get dominant topic for each document\n",
    "dominant_topic = (np.argmax(df_document_topic.values, axis=1)+1)\n",
    "df_document_topic['Dominant_topic'] = dominant_topic\n",
    "\n",
    "# Join to original dataframes\n",
    "\n",
    "df = pd.merge(df, df_document_topic, left_index = True, right_index = True, how = 'outer')\n",
    "display(df.head(10))"
   ],
   "metadata": {
    "collapsed": false,
    "pycharm": {
     "name": "#%%\n"
    }
   }
  },
  {
   "cell_type": "code",
   "execution_count": 64,
   "outputs": [
    {
     "data": {
      "text/plain": "                topic  relevance_score\n00 aligned          1         1.332503\n03 mkbhd            2         1.332187\n10 mention          1         1.332283\n10 years            1         1.332730\n102 gb              3         1.331136\n...               ...              ...\nzooming things      1         1.332989\nzooms shooting      1         1.333248\nترجمة بالعربي       2         1.331367\nليش مافي            2         1.331367\nمافي ترجمة          2         1.331367\n\n[10642 rows x 2 columns]",
      "text/html": "<div>\n<style scoped>\n    .dataframe tbody tr th:only-of-type {\n        vertical-align: middle;\n    }\n\n    .dataframe tbody tr th {\n        vertical-align: top;\n    }\n\n    .dataframe thead th {\n        text-align: right;\n    }\n</style>\n<table border=\"1\" class=\"dataframe\">\n  <thead>\n    <tr style=\"text-align: right;\">\n      <th></th>\n      <th>topic</th>\n      <th>relevance_score</th>\n    </tr>\n  </thead>\n  <tbody>\n    <tr>\n      <th>00 aligned</th>\n      <td>1</td>\n      <td>1.332503</td>\n    </tr>\n    <tr>\n      <th>03 mkbhd</th>\n      <td>2</td>\n      <td>1.332187</td>\n    </tr>\n    <tr>\n      <th>10 mention</th>\n      <td>1</td>\n      <td>1.332283</td>\n    </tr>\n    <tr>\n      <th>10 years</th>\n      <td>1</td>\n      <td>1.332730</td>\n    </tr>\n    <tr>\n      <th>102 gb</th>\n      <td>3</td>\n      <td>1.331136</td>\n    </tr>\n    <tr>\n      <th>...</th>\n      <td>...</td>\n      <td>...</td>\n    </tr>\n    <tr>\n      <th>zooming things</th>\n      <td>1</td>\n      <td>1.332989</td>\n    </tr>\n    <tr>\n      <th>zooms shooting</th>\n      <td>1</td>\n      <td>1.333248</td>\n    </tr>\n    <tr>\n      <th>ترجمة بالعربي</th>\n      <td>2</td>\n      <td>1.331367</td>\n    </tr>\n    <tr>\n      <th>ليش مافي</th>\n      <td>2</td>\n      <td>1.331367</td>\n    </tr>\n    <tr>\n      <th>مافي ترجمة</th>\n      <td>2</td>\n      <td>1.331367</td>\n    </tr>\n  </tbody>\n</table>\n<p>10642 rows × 2 columns</p>\n</div>"
     },
     "metadata": {},
     "output_type": "display_data"
    }
   ],
   "source": [
    "# index names\n",
    "docnames = ['Doc' + str(i) for i in range(len(df))]\n",
    "\n",
    "# Make the pandas dataframe\n",
    "df_document_topic = pd.DataFrame(np.round(lda_output, 2), columns=topic_names, index=docnames)\n",
    "\n",
    "# Get dominant topic for each document\n",
    "dominant_topic = np.argmax(df_document_topic.values, axis=1)\n",
    "df_document_topic['dominant_topic'] = dominant_topic\n",
    "\n",
    "# display(df_document_topic)\n",
    "\n",
    "# Topic-Keyword Matrix\n",
    "df_topic_keywords = pd.DataFrame(lda_model.components_)\n",
    "\n",
    "# Assign Column and Index\n",
    "df_topic_keywords.columns = vectorizer.get_feature_names()\n",
    "df_topic_keywords.index = topic_names\n",
    "\n",
    "# display(df_topic_keywords)\n",
    "\n",
    "df_topic_no = pd.DataFrame(df_topic_keywords.idxmax())\n",
    "df_scores = pd.DataFrame(df_topic_keywords.max())\n",
    "\n",
    "tmp = pd.merge(df_topic_no, df_scores, left_index=True, right_index=True)\n",
    "tmp.columns = ['topic', 'relevance_score']\n",
    "\n",
    "tmp[\"topic\"] =  tmp.topic.str.extract('(\\d+)')\n",
    "tmp[\"topic\"] = tmp[\"topic\"].astype(int)\n",
    "\n",
    "display(tmp)"
   ],
   "metadata": {
    "collapsed": false,
    "pycharm": {
     "name": "#%%\n"
    }
   }
  },
  {
   "cell_type": "code",
   "execution_count": 65,
   "outputs": [
    {
     "data": {
      "text/plain": "   Dominant_topic   topic_name\n0               1   [gb phone]\n1               2    [pro max]\n2               3  [john cena]",
      "text/html": "<div>\n<style scoped>\n    .dataframe tbody tr th:only-of-type {\n        vertical-align: middle;\n    }\n\n    .dataframe tbody tr th {\n        vertical-align: top;\n    }\n\n    .dataframe thead th {\n        text-align: right;\n    }\n</style>\n<table border=\"1\" class=\"dataframe\">\n  <thead>\n    <tr style=\"text-align: right;\">\n      <th></th>\n      <th>Dominant_topic</th>\n      <th>topic_name</th>\n    </tr>\n  </thead>\n  <tbody>\n    <tr>\n      <th>0</th>\n      <td>1</td>\n      <td>[gb phone]</td>\n    </tr>\n    <tr>\n      <th>1</th>\n      <td>2</td>\n      <td>[pro max]</td>\n    </tr>\n    <tr>\n      <th>2</th>\n      <td>3</td>\n      <td>[john cena]</td>\n    </tr>\n  </tbody>\n</table>\n</div>"
     },
     "metadata": {},
     "output_type": "display_data"
    }
   ],
   "source": [
    "all_topics = []\n",
    "\n",
    "for i in tmp['topic'].unique():\n",
    "    tmp_1 = tmp.loc[tmp['topic'] == i].reset_index()\n",
    "    tmp_1 = tmp_1.sort_values('relevance_score', ascending=False).head(1)\n",
    "\n",
    "    # print(tmp_1)\n",
    "    # print(tmp_1['topic'])\n",
    "    # tmp_1['topic'] = tmp_1['topic'] + 1\n",
    "\n",
    "    tmp_2 = []\n",
    "    tmp_2.append(tmp_1['topic'].unique()[0])\n",
    "    tmp_2.append(list(tmp_1['index'].unique()))\n",
    "    all_topics.append(tmp_2)\n",
    "\n",
    "all_topics = pd.DataFrame(all_topics, columns=['Dominant_topic', 'topic_name'])\n",
    "display(all_topics)"
   ],
   "metadata": {
    "collapsed": false,
    "pycharm": {
     "name": "#%%\n"
    }
   }
  },
  {
   "cell_type": "code",
   "execution_count": 66,
   "outputs": [
    {
     "data": {
      "text/plain": "Sentiment   Negative  Neutral  Positive\ntopic_name                             \ngb phone         112      175       332\njohn cena         84      145       294\npro max          113      248       422",
      "text/html": "<div>\n<style scoped>\n    .dataframe tbody tr th:only-of-type {\n        vertical-align: middle;\n    }\n\n    .dataframe tbody tr th {\n        vertical-align: top;\n    }\n\n    .dataframe thead th {\n        text-align: right;\n    }\n</style>\n<table border=\"1\" class=\"dataframe\">\n  <thead>\n    <tr style=\"text-align: right;\">\n      <th>Sentiment</th>\n      <th>Negative</th>\n      <th>Neutral</th>\n      <th>Positive</th>\n    </tr>\n    <tr>\n      <th>topic_name</th>\n      <th></th>\n      <th></th>\n      <th></th>\n    </tr>\n  </thead>\n  <tbody>\n    <tr>\n      <th>gb phone</th>\n      <td>112</td>\n      <td>175</td>\n      <td>332</td>\n    </tr>\n    <tr>\n      <th>john cena</th>\n      <td>84</td>\n      <td>145</td>\n      <td>294</td>\n    </tr>\n    <tr>\n      <th>pro max</th>\n      <td>113</td>\n      <td>248</td>\n      <td>422</td>\n    </tr>\n  </tbody>\n</table>\n</div>"
     },
     "metadata": {},
     "output_type": "display_data"
    }
   ],
   "source": [
    "results = df.groupby(['Dominant_topic', 'Sentiment']).count().reset_index()\n",
    "# display(results)\n",
    "\n",
    "results = results.merge(all_topics, on='Dominant_topic')\n",
    "results['topic_name'] = results['topic_name'].apply(', '.join)\n",
    "\n",
    "# display(results)\n",
    "\n",
    "graph_results = results[['topic_name', 'Sentiment', 'Sentiment Score']]\n",
    "graph_results = graph_results.pivot(index='topic_name', columns='Sentiment', values='Sentiment Score').reset_index()\n",
    "\n",
    "graph_results.set_index('topic_name', inplace=True)\n",
    "display(graph_results)"
   ],
   "metadata": {
    "collapsed": false,
    "pycharm": {
     "name": "#%%\n"
    }
   }
  },
  {
   "cell_type": "code",
   "execution_count": 67,
   "outputs": [
    {
     "data": {
      "text/plain": "<Figure size 720x720 with 1 Axes>",
      "image/png": "[encoded data removed]"
     },
     "metadata": {
      "needs_background": "light"
     },
     "output_type": "display_data"
    }
   ],
   "source": [
    "fig = graph_results.plot.bar(rot=90, figsize=(10,10))\n",
    "\n",
    "# Uncomment to save the figure as a png to current directory\n",
    "# fig.figure.savefig(f'{creator}_absa_lda.png' , bbox_inches='tight')"
   ],
   "metadata": {
    "collapsed": false,
    "pycharm": {
     "name": "#%%\n"
    }
   }
  }
 ],
 "metadata": {
  "kernelspec": {
   "display_name": "Python 3",
   "language": "python",
   "name": "python3"
  },
  "language_info": {
   "codemirror_mode": {
    "name": "ipython",
    "version": 2
   },
   "file_extension": ".py",
   "mimetype": "text/x-python",
   "name": "python",
   "nbconvert_exporter": "python",
   "pygments_lexer": "ipython2",
   "version": "2.7.6"
  }
 },
 "nbformat": 4,
 "nbformat_minor": 0
}