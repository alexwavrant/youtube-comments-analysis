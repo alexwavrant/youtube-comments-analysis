{
 "cells": [
  {
   "cell_type": "code",
   "execution_count": 4,
   "outputs": [],
   "source": [
    "import googleapiclient.discovery\n",
    "import pandas as pd\n",
    "import constants"
   ],
   "metadata": {
    "collapsed": false,
    "pycharm": {
     "name": "#%%\n"
    }
   }
  },
  {
   "cell_type": "code",
   "execution_count": 2,
   "outputs": [],
   "source": [
    "def extractComment(creator, videoId):\n",
    "    api_service_name = \"youtube\"\n",
    "    api_version = \"v3\"\n",
    "    DEVELOPER_KEY = constants.GOOGLE_DEVELOPER_KEY\n",
    "    id = videoId\n",
    "    filename = \"\"\n",
    "    youtube = googleapiclient.discovery.build(api_service_name, api_version, developerKey=DEVELOPER_KEY)\n",
    "\n",
    "    videoIds = []\n",
    "    comments = []\n",
    "    commentsId = []\n",
    "    items = []\n",
    "    token = None\n",
    "\n",
    "    # Extract the comments from a video\n",
    "    while 1:\n",
    "        request = youtube.commentThreads().list(\n",
    "            part='id,snippet',\n",
    "            videoId=id,\n",
    "            order='relevance',\n",
    "            textFormat='plainText',\n",
    "            pageToken=token\n",
    "        )\n",
    "        response = request.execute()\n",
    "        items.extend(response.get('items'))\n",
    "        token = response.get('nextPageToken')\n",
    "\n",
    "        if (token is None):\n",
    "            break\n",
    "\n",
    "    for item in items:\n",
    "        videoIds.append(item['snippet']['videoId'])\n",
    "        commentsId.append(item['snippet']['topLevelComment']['id'])\n",
    "        comments.append(item['snippet']['topLevelComment']['snippet']['textOriginal'])\n",
    "\n",
    "    output_dict = {\n",
    "        \"Video ID\": videoIds,\n",
    "        \"Comment ID\": commentsId,\n",
    "        \"Comments\": comments\n",
    "    }\n",
    "\n",
    "    output_df = pd.DataFrame(output_dict, columns=output_dict.keys())\n",
    "    output_df.to_excel(excel_writer=r\"./extracted_comments_\" + creator + \".xlsx\", index=False, header=True)\n",
    "    print(f\"DataFrame for {creator} videos comments has been written to Excel successfully\")"
   ],
   "metadata": {
    "collapsed": false,
    "pycharm": {
     "name": "#%%\n"
    }
   }
  },
  {
   "cell_type": "code",
   "execution_count": 14,
   "outputs": [],
   "source": [
    "listOfCreatorAndVideoIDs = [\n",
    "    [\"MKBHD\", \"eWI_BtcDJu0\"],\n",
    "    [\"Jonathan Morrison\", \"SPBmDPQQHUc\"],\n",
    "    [\"Unbox Therapy\", \"g0AOf2AZ-8w\"],\n",
    "    [\"Chris Stuckman\", \"3OKpECsviu0\"],\n",
    "    [\"Jeremy Jahns\", \"zYVgbAF-JIs\"],\n",
    "    [\"Channel Awesome\", \"4A7QGGT-sYo\"],\n",
    "    [\"James Charles\", \"QOq86H2dBE4\"],\n",
    "    [\"NikkieTutorials\", \"-qn_cTHvfOY\"],\n",
    "    [\"sophdoeslife\", \"c0nsB-bStks\"]\n",
    "]"
   ],
   "metadata": {
    "collapsed": false,
    "pycharm": {
     "name": "#%%\n"
    }
   }
  },
  {
   "cell_type": "code",
   "execution_count": 15,
   "outputs": [
    {
     "name": "stdout",
     "output_type": "stream",
     "text": [
      "DataFrame for MKBHD videos comments has been written to Excel successfully\n",
      "DataFrame for Jonathan Morrison videos comments has been written to Excel successfully\n",
      "DataFrame for Unbox Therapy videos comments has been written to Excel successfully\n",
      "DataFrame for Chris Stuckman videos comments has been written to Excel successfully\n",
      "DataFrame for Jeremy Jahns videos comments has been written to Excel successfully\n",
      "DataFrame for Channel Awesome videos comments has been written to Excel successfully\n",
      "DataFrame for James Charles videos comments has been written to Excel successfully\n",
      "DataFrame for NikkieTutorials videos comments has been written to Excel successfully\n",
      "DataFrame for sophdoeslife videos comments has been written to Excel successfully\n"
     ]
    }
   ],
   "source": [
    "for video in listOfCreatorAndVideoIDs:\n",
    "    extractComment(video[0], video[1])"
   ],
   "metadata": {
    "collapsed": false,
    "pycharm": {
     "name": "#%%\n"
    }
   }
  }
 ],
 "metadata": {
  "kernelspec": {
   "display_name": "Python 3",
   "language": "python",
   "name": "python3"
  },
  "language_info": {
   "codemirror_mode": {
    "name": "ipython",
    "version": 2
   },
   "file_extension": ".py",
   "mimetype": "text/x-python",
   "name": "python",
   "nbconvert_exporter": "python",
   "pygments_lexer": "ipython2",
   "version": "2.7.6"
  }
 },
 "nbformat": 4,
 "nbformat_minor": 0
}