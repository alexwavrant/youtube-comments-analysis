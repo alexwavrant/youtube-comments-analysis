{
 "cells": [
  {
   "cell_type": "code",
   "execution_count": 3,
   "metadata": {
    "collapsed": true
   },
   "outputs": [],
   "source": [
    "import pandas as pd\n",
    "import numpy as np\n",
    "\n",
    "# Data pre-processing\n",
    "import nltk\n",
    "from nltk.stem import WordNetLemmatizer\n",
    "\n",
    "# List of stop words used for data pre-processing\n",
    "from stop_words_list import stop_words_list\n",
    "from nltk.corpus import stopwords\n",
    "\n",
    "# Sentiment Analysis\n",
    "from vaderSentiment.vaderSentiment import SentimentIntensityAnalyzer\n",
    "\n",
    "# Topics modelling\n",
    "from gsdmm.gsdmm.mgp import MovieGroupProcess"
   ]
  },
  {
   "cell_type": "code",
   "execution_count": 4,
   "outputs": [],
   "source": [
    "# listOfCreator: \"MKBHD\", \"Jonathan Morrison\", \"Unbox Therapy\", \"Chris Stuckman\", \"Jeremy Jahns\", \"Channel Awesome\", \"James Charles\", \"NikkieTutorials\", \"sophdoeslife\"\n",
    "\n",
    "creator = \"sophdoeslife\"\n",
    "output_df = pd.read_excel(f\"./comments_spreadsheets/extracted_comments_{creator}.xlsx\")"
   ],
   "metadata": {
    "collapsed": false,
    "pycharm": {
     "name": "#%%\n"
    }
   }
  },
  {
   "cell_type": "code",
   "execution_count": 5,
   "outputs": [
    {
     "name": "stdout",
     "output_type": "stream",
     "text": [
      "Count of duplicate comments in dataframe 4\n",
      "Count of unique comments in dataframe 410\n"
     ]
    },
    {
     "data": {
      "text/plain": "     index     Video ID                  Comment ID  \\\n0        0  c0nsB-bStks  UgxjrHRhAe3afInc3nB4AaABAg   \n1        1  c0nsB-bStks  UgxIjuFycwS3XLKYI8x4AaABAg   \n2        2  c0nsB-bStks  UgzVBndPTTlIMSSRG994AaABAg   \n3        3  c0nsB-bStks  UgwOWA6VnsLN6mMaeaN4AaABAg   \n4        4  c0nsB-bStks  UgxHfRFjONAr_Kx0rRt4AaABAg   \n..     ...          ...                         ...   \n405    409  c0nsB-bStks  UgwE7rCA1yhaCPz6_xJ4AaABAg   \n406    410  c0nsB-bStks  Ugx2qmDyUelip8WOqfZ4AaABAg   \n407    411  c0nsB-bStks  UgwwUH9XcPPQE2kMSX94AaABAg   \n408    412  c0nsB-bStks  Ugx0aXNqQqth1bgPQmZ4AaABAg   \n409    413  c0nsB-bStks  Ugz02euJoDeebG8IqBp4AaABAg   \n\n                                              Comments  \n0    I would like to add, the eye makeup still look...  \n1    It's may seem like a little thing, but I reall...  \n2    Honestly, as a sci-fi and fantasy nerd, I love...  \n3    What an amazing compliment to you that you rec...  \n4    Is everyone just creating makeup now? Don't ge...  \n..                                                 ...  \n405                                              Early  \n406                                    Omg 13 min agoo  \n407                                                 Hi  \n408  18歳以上の場合 ⤵⤵(◠$◕)♪❤ ---------------------------...  \n409                                          Dislike 👎  \n\n[410 rows x 4 columns]",
      "text/html": "<div>\n<style scoped>\n    .dataframe tbody tr th:only-of-type {\n        vertical-align: middle;\n    }\n\n    .dataframe tbody tr th {\n        vertical-align: top;\n    }\n\n    .dataframe thead th {\n        text-align: right;\n    }\n</style>\n<table border=\"1\" class=\"dataframe\">\n  <thead>\n    <tr style=\"text-align: right;\">\n      <th></th>\n      <th>index</th>\n      <th>Video ID</th>\n      <th>Comment ID</th>\n      <th>Comments</th>\n    </tr>\n  </thead>\n  <tbody>\n    <tr>\n      <th>0</th>\n      <td>0</td>\n      <td>c0nsB-bStks</td>\n      <td>UgxjrHRhAe3afInc3nB4AaABAg</td>\n      <td>I would like to add, the eye makeup still look...</td>\n    </tr>\n    <tr>\n      <th>1</th>\n      <td>1</td>\n      <td>c0nsB-bStks</td>\n      <td>UgxIjuFycwS3XLKYI8x4AaABAg</td>\n      <td>It's may seem like a little thing, but I reall...</td>\n    </tr>\n    <tr>\n      <th>2</th>\n      <td>2</td>\n      <td>c0nsB-bStks</td>\n      <td>UgzVBndPTTlIMSSRG994AaABAg</td>\n      <td>Honestly, as a sci-fi and fantasy nerd, I love...</td>\n    </tr>\n    <tr>\n      <th>3</th>\n      <td>3</td>\n      <td>c0nsB-bStks</td>\n      <td>UgwOWA6VnsLN6mMaeaN4AaABAg</td>\n      <td>What an amazing compliment to you that you rec...</td>\n    </tr>\n    <tr>\n      <th>4</th>\n      <td>4</td>\n      <td>c0nsB-bStks</td>\n      <td>UgxHfRFjONAr_Kx0rRt4AaABAg</td>\n      <td>Is everyone just creating makeup now? Don't ge...</td>\n    </tr>\n    <tr>\n      <th>...</th>\n      <td>...</td>\n      <td>...</td>\n      <td>...</td>\n      <td>...</td>\n    </tr>\n    <tr>\n      <th>405</th>\n      <td>409</td>\n      <td>c0nsB-bStks</td>\n      <td>UgwE7rCA1yhaCPz6_xJ4AaABAg</td>\n      <td>Early</td>\n    </tr>\n    <tr>\n      <th>406</th>\n      <td>410</td>\n      <td>c0nsB-bStks</td>\n      <td>Ugx2qmDyUelip8WOqfZ4AaABAg</td>\n      <td>Omg 13 min agoo</td>\n    </tr>\n    <tr>\n      <th>407</th>\n      <td>411</td>\n      <td>c0nsB-bStks</td>\n      <td>UgwwUH9XcPPQE2kMSX94AaABAg</td>\n      <td>Hi</td>\n    </tr>\n    <tr>\n      <th>408</th>\n      <td>412</td>\n      <td>c0nsB-bStks</td>\n      <td>Ugx0aXNqQqth1bgPQmZ4AaABAg</td>\n      <td>18歳以上の場合 ⤵⤵(◠$◕)♪❤ ---------------------------...</td>\n    </tr>\n    <tr>\n      <th>409</th>\n      <td>413</td>\n      <td>c0nsB-bStks</td>\n      <td>Ugz02euJoDeebG8IqBp4AaABAg</td>\n      <td>Dislike 👎</td>\n    </tr>\n  </tbody>\n</table>\n<p>410 rows × 4 columns</p>\n</div>"
     },
     "metadata": {},
     "output_type": "display_data"
    }
   ],
   "source": [
    "duplicates = output_df[output_df.duplicated((\"Comments\"))]\n",
    "print (\"Count of duplicate comments in dataframe\"\n",
    ", duplicates.shape[0])\n",
    "\n",
    "print (\"Count of unique comments in dataframe\"\n",
    ", output_df.shape[0] - duplicates.shape[0])\n",
    "\n",
    "# Remove duplicated comments from dataset\n",
    "unique_df = output_df.drop_duplicates(subset=[\"Comments\"], keep='first')\n",
    "df = unique_df.reset_index()\n",
    "\n",
    "# Removes line return \"\\n\"\n",
    "df = df.replace(r'\\n',' ', regex=True)\n",
    "\n",
    "display(df)"
   ],
   "metadata": {
    "collapsed": false,
    "pycharm": {
     "name": "#%%\n"
    }
   }
  },
  {
   "cell_type": "code",
   "execution_count": 6,
   "outputs": [
    {
     "data": {
      "text/plain": "   index     Video ID                  Comment ID  \\\n0      0  c0nsB-bStks  UgxjrHRhAe3afInc3nB4AaABAg   \n1      1  c0nsB-bStks  UgxIjuFycwS3XLKYI8x4AaABAg   \n2      2  c0nsB-bStks  UgzVBndPTTlIMSSRG994AaABAg   \n3      3  c0nsB-bStks  UgwOWA6VnsLN6mMaeaN4AaABAg   \n4      4  c0nsB-bStks  UgxHfRFjONAr_Kx0rRt4AaABAg   \n5      5  c0nsB-bStks  Ugyk8Gma2bJhEWjgueJ4AaABAg   \n6      6  c0nsB-bStks  Ugz0_Hj0d7ih-xt0_SF4AaABAg   \n7      7  c0nsB-bStks  UgylGcBaQ4bk-DFJACJ4AaABAg   \n8      8  c0nsB-bStks  UgzYUURSbLEbgG9whsN4AaABAg   \n9      9  c0nsB-bStks  UgwZbFjXB5xe3gUz6uV4AaABAg   \n\n                                            Comments Sentiment  \\\n0  I would like to add, the eye makeup still look...  Positive   \n1  It's may seem like a little thing, but I reall...  Positive   \n2  Honestly, as a sci-fi and fantasy nerd, I love...  Positive   \n3  What an amazing compliment to you that you rec...  Positive   \n4  Is everyone just creating makeup now? Don't ge...  Positive   \n5  So happy that you received the package on PR!🥰...  Positive   \n6  Love the hair!  I'm not interested in R.E.M. b...  Positive   \n7  Am I the only person who's obsessed with the '...  Positive   \n8  I'm so excited for this. I'm glad the uploads ...  Positive   \n9  I like the lashes they are pretty, and definit...  Positive   \n\n   Sentiment Score  \n0           0.8683  \n1           0.9624  \n2           0.9319  \n3           0.9446  \n4           0.9563  \n5           0.9503  \n6           0.9404  \n7           0.1280  \n8           0.9484  \n9           0.8126  ",
      "text/html": "<div>\n<style scoped>\n    .dataframe tbody tr th:only-of-type {\n        vertical-align: middle;\n    }\n\n    .dataframe tbody tr th {\n        vertical-align: top;\n    }\n\n    .dataframe thead th {\n        text-align: right;\n    }\n</style>\n<table border=\"1\" class=\"dataframe\">\n  <thead>\n    <tr style=\"text-align: right;\">\n      <th></th>\n      <th>index</th>\n      <th>Video ID</th>\n      <th>Comment ID</th>\n      <th>Comments</th>\n      <th>Sentiment</th>\n      <th>Sentiment Score</th>\n    </tr>\n  </thead>\n  <tbody>\n    <tr>\n      <th>0</th>\n      <td>0</td>\n      <td>c0nsB-bStks</td>\n      <td>UgxjrHRhAe3afInc3nB4AaABAg</td>\n      <td>I would like to add, the eye makeup still look...</td>\n      <td>Positive</td>\n      <td>0.8683</td>\n    </tr>\n    <tr>\n      <th>1</th>\n      <td>1</td>\n      <td>c0nsB-bStks</td>\n      <td>UgxIjuFycwS3XLKYI8x4AaABAg</td>\n      <td>It's may seem like a little thing, but I reall...</td>\n      <td>Positive</td>\n      <td>0.9624</td>\n    </tr>\n    <tr>\n      <th>2</th>\n      <td>2</td>\n      <td>c0nsB-bStks</td>\n      <td>UgzVBndPTTlIMSSRG994AaABAg</td>\n      <td>Honestly, as a sci-fi and fantasy nerd, I love...</td>\n      <td>Positive</td>\n      <td>0.9319</td>\n    </tr>\n    <tr>\n      <th>3</th>\n      <td>3</td>\n      <td>c0nsB-bStks</td>\n      <td>UgwOWA6VnsLN6mMaeaN4AaABAg</td>\n      <td>What an amazing compliment to you that you rec...</td>\n      <td>Positive</td>\n      <td>0.9446</td>\n    </tr>\n    <tr>\n      <th>4</th>\n      <td>4</td>\n      <td>c0nsB-bStks</td>\n      <td>UgxHfRFjONAr_Kx0rRt4AaABAg</td>\n      <td>Is everyone just creating makeup now? Don't ge...</td>\n      <td>Positive</td>\n      <td>0.9563</td>\n    </tr>\n    <tr>\n      <th>5</th>\n      <td>5</td>\n      <td>c0nsB-bStks</td>\n      <td>Ugyk8Gma2bJhEWjgueJ4AaABAg</td>\n      <td>So happy that you received the package on PR!🥰...</td>\n      <td>Positive</td>\n      <td>0.9503</td>\n    </tr>\n    <tr>\n      <th>6</th>\n      <td>6</td>\n      <td>c0nsB-bStks</td>\n      <td>Ugz0_Hj0d7ih-xt0_SF4AaABAg</td>\n      <td>Love the hair!  I'm not interested in R.E.M. b...</td>\n      <td>Positive</td>\n      <td>0.9404</td>\n    </tr>\n    <tr>\n      <th>7</th>\n      <td>7</td>\n      <td>c0nsB-bStks</td>\n      <td>UgylGcBaQ4bk-DFJACJ4AaABAg</td>\n      <td>Am I the only person who's obsessed with the '...</td>\n      <td>Positive</td>\n      <td>0.1280</td>\n    </tr>\n    <tr>\n      <th>8</th>\n      <td>8</td>\n      <td>c0nsB-bStks</td>\n      <td>UgzYUURSbLEbgG9whsN4AaABAg</td>\n      <td>I'm so excited for this. I'm glad the uploads ...</td>\n      <td>Positive</td>\n      <td>0.9484</td>\n    </tr>\n    <tr>\n      <th>9</th>\n      <td>9</td>\n      <td>c0nsB-bStks</td>\n      <td>UgwZbFjXB5xe3gUz6uV4AaABAg</td>\n      <td>I like the lashes they are pretty, and definit...</td>\n      <td>Positive</td>\n      <td>0.8126</td>\n    </tr>\n  </tbody>\n</table>\n</div>"
     },
     "metadata": {},
     "output_type": "display_data"
    }
   ],
   "source": [
    "# SENTIMENT ANALYSIS\n",
    "\n",
    "sentimentAnalyser = SentimentIntensityAnalyzer()\n",
    "sentimentScoreList = []\n",
    "sentimentLabelList = []\n",
    "\n",
    "for i in df[\"Comments\"].values.tolist():\n",
    "    sentimentScore = sentimentAnalyser.polarity_scores(i)\n",
    "\n",
    "    if sentimentScore['compound'] >= 0.05:\n",
    "        sentimentScoreList.append(sentimentScore['compound'])\n",
    "        sentimentLabelList.append('Positive')\n",
    "    elif sentimentScore['compound'] > -0.05 and sentimentScore['compound'] < 0.05:\n",
    "        sentimentScoreList.append(sentimentScore['compound'])\n",
    "        sentimentLabelList.append('Neutral')\n",
    "    elif sentimentScore['compound'] <= -0.05:\n",
    "        sentimentScoreList.append(sentimentScore['compound'])\n",
    "        sentimentLabelList.append('Negative')\n",
    "\n",
    "df[\"Sentiment\"] = sentimentLabelList\n",
    "df[\"Sentiment Score\"] = sentimentScoreList\n",
    "\n",
    "display(df.head(10))"
   ],
   "metadata": {
    "collapsed": false,
    "pycharm": {
     "name": "#%%\n"
    }
   }
  },
  {
   "cell_type": "code",
   "execution_count": 7,
   "outputs": [
    {
     "data": {
      "text/plain": "   index     Video ID                  Comment ID  \\\n0      0  c0nsB-bStks  UgxjrHRhAe3afInc3nB4AaABAg   \n1      1  c0nsB-bStks  UgxIjuFycwS3XLKYI8x4AaABAg   \n2      2  c0nsB-bStks  UgzVBndPTTlIMSSRG994AaABAg   \n3      3  c0nsB-bStks  UgwOWA6VnsLN6mMaeaN4AaABAg   \n4      4  c0nsB-bStks  UgxHfRFjONAr_Kx0rRt4AaABAg   \n5      5  c0nsB-bStks  Ugyk8Gma2bJhEWjgueJ4AaABAg   \n6      6  c0nsB-bStks  Ugz0_Hj0d7ih-xt0_SF4AaABAg   \n7      7  c0nsB-bStks  UgylGcBaQ4bk-DFJACJ4AaABAg   \n8      8  c0nsB-bStks  UgzYUURSbLEbgG9whsN4AaABAg   \n9      9  c0nsB-bStks  UgwZbFjXB5xe3gUz6uV4AaABAg   \n\n                                            Comments Sentiment  \\\n0  I would like to add, the eye makeup still look...  Positive   \n1  It's may seem like a little thing, but I reall...  Positive   \n2  Honestly, as a sci-fi and fantasy nerd, I love...  Positive   \n3  What an amazing compliment to you that you rec...  Positive   \n4  Is everyone just creating makeup now? Don't ge...  Positive   \n5  So happy that you received the package on PR!🥰...  Positive   \n6  Love the hair!  I'm not interested in R.E.M. b...  Positive   \n7  Am I the only person who's obsessed with the '...  Positive   \n8  I'm so excited for this. I'm glad the uploads ...  Positive   \n9  I like the lashes they are pretty, and definit...  Positive   \n\n   Sentiment Score                                              lower  \\\n0           0.8683  i would like to add, the eye makeup still look...   \n1           0.9624  it's may seem like a little thing, but i reall...   \n2           0.9319  honestly, as a sci-fi and fantasy nerd, i love...   \n3           0.9446  what an amazing compliment to you that you rec...   \n4           0.9563  is everyone just creating makeup now? don't ge...   \n5           0.9503  so happy that you received the package on pr!🥰...   \n6           0.9404  love the hair!  i'm not interested in r.e.m. b...   \n7           0.1280  am i the only person who's obsessed with the '...   \n8           0.9484  i'm so excited for this. i'm glad the uploads ...   \n9           0.8126  i like the lashes they are pretty, and definit...   \n\n                                 punctuation_removed  \\\n0  i would like to add  the eye makeup still look...   \n1  its may seem like a little thing  but i really...   \n2  honestly  as a sci fi and fantasy nerd  i love...   \n3  what an amazing compliment to you that you rec...   \n4  is everyone just creating makeup now  dont get...   \n5  so happy that you received the package on pr  ...   \n6  love the hair   im not interested in r e m  bu...   \n7  am i the only person whos obsessed with the ch...   \n8  im so excited for this  im glad the uploads ar...   \n9  i like the lashes they are pretty  and definit...   \n\n                                     numbers_removed  \\\n0  i would like to add  the eye makeup still look...   \n1  its may seem like a little thing  but i really...   \n2  honestly  as a sci fi and fantasy nerd  i love...   \n3  what an amazing compliment to you that you rec...   \n4  is everyone just creating makeup now  dont get...   \n5  so happy that you received the package on pr  ...   \n6  love the hair   im not interested in r e m  bu...   \n7  am i the only person whos obsessed with the ch...   \n8  im so excited for this  im glad the uploads ar...   \n9  i like the lashes they are pretty  and definit...   \n\n                                extra_spaces_removed  \\\n0  i would like to add the eye makeup still looks...   \n1  its may seem like a little thing but i really ...   \n2  honestly as a sci fi and fantasy nerd i love t...   \n3  what an amazing compliment to you that you rec...   \n4  is everyone just creating makeup now dont get ...   \n5  so happy that you received the package on pr i...   \n6  love the hair im not interested in r e m but i...   \n7  am i the only person whos obsessed with the ch...   \n8  im so excited for this im glad the uploads are...   \n9  i like the lashes they are pretty and definite...   \n\n                                           tokenised  \\\n0  [i, would, like, to, add, the, eye, makeup, st...   \n1  [its, may, seem, like, a, little, thing, but, ...   \n2  [honestly, as, a, sci, fi, and, fantasy, nerd,...   \n3  [what, an, amazing, compliment, to, you, that,...   \n4  [is, everyone, just, creating, makeup, now, do...   \n5  [so, happy, that, you, received, the, package,...   \n6  [love, the, hair, im, not, interested, in, r, ...   \n7  [am, i, the, only, person, whos, obsessed, wit...   \n8  [im, so, excited, for, this, im, glad, the, up...   \n9  [i, like, the, lashes, they, are, pretty, and,...   \n\n                                   removed_stopwords  \n0  [add, eye, makeup, perfect, hours, including, ...  \n1  [thing, appreciate, transition, shade, depends...  \n2  [honestly, sci, fi, fantasy, nerd, theme, pack...  \n3  [amazing, compliment, received, pr, ag, deserv...  \n4  [creating, makeup, wrong, ari, makeup, stunnin...  \n5  [happy, received, package, pr, personally, buy...  \n6    [hair, interested, enjoyed, watching, products]  \n7     [person, obsessed, cheap, ish, packaging, yep]  \n8  [excited, glad, uploads, feeling, better, hair...  \n9  [lashes, pretty, definitely, add, eye, overwhe...  ",
      "text/html": "<div>\n<style scoped>\n    .dataframe tbody tr th:only-of-type {\n        vertical-align: middle;\n    }\n\n    .dataframe tbody tr th {\n        vertical-align: top;\n    }\n\n    .dataframe thead th {\n        text-align: right;\n    }\n</style>\n<table border=\"1\" class=\"dataframe\">\n  <thead>\n    <tr style=\"text-align: right;\">\n      <th></th>\n      <th>index</th>\n      <th>Video ID</th>\n      <th>Comment ID</th>\n      <th>Comments</th>\n      <th>Sentiment</th>\n      <th>Sentiment Score</th>\n      <th>lower</th>\n      <th>punctuation_removed</th>\n      <th>numbers_removed</th>\n      <th>extra_spaces_removed</th>\n      <th>tokenised</th>\n      <th>removed_stopwords</th>\n    </tr>\n  </thead>\n  <tbody>\n    <tr>\n      <th>0</th>\n      <td>0</td>\n      <td>c0nsB-bStks</td>\n      <td>UgxjrHRhAe3afInc3nB4AaABAg</td>\n      <td>I would like to add, the eye makeup still look...</td>\n      <td>Positive</td>\n      <td>0.8683</td>\n      <td>i would like to add, the eye makeup still look...</td>\n      <td>i would like to add  the eye makeup still look...</td>\n      <td>i would like to add  the eye makeup still look...</td>\n      <td>i would like to add the eye makeup still looks...</td>\n      <td>[i, would, like, to, add, the, eye, makeup, st...</td>\n      <td>[add, eye, makeup, perfect, hours, including, ...</td>\n    </tr>\n    <tr>\n      <th>1</th>\n      <td>1</td>\n      <td>c0nsB-bStks</td>\n      <td>UgxIjuFycwS3XLKYI8x4AaABAg</td>\n      <td>It's may seem like a little thing, but I reall...</td>\n      <td>Positive</td>\n      <td>0.9624</td>\n      <td>it's may seem like a little thing, but i reall...</td>\n      <td>its may seem like a little thing  but i really...</td>\n      <td>its may seem like a little thing  but i really...</td>\n      <td>its may seem like a little thing but i really ...</td>\n      <td>[its, may, seem, like, a, little, thing, but, ...</td>\n      <td>[thing, appreciate, transition, shade, depends...</td>\n    </tr>\n    <tr>\n      <th>2</th>\n      <td>2</td>\n      <td>c0nsB-bStks</td>\n      <td>UgzVBndPTTlIMSSRG994AaABAg</td>\n      <td>Honestly, as a sci-fi and fantasy nerd, I love...</td>\n      <td>Positive</td>\n      <td>0.9319</td>\n      <td>honestly, as a sci-fi and fantasy nerd, i love...</td>\n      <td>honestly  as a sci fi and fantasy nerd  i love...</td>\n      <td>honestly  as a sci fi and fantasy nerd  i love...</td>\n      <td>honestly as a sci fi and fantasy nerd i love t...</td>\n      <td>[honestly, as, a, sci, fi, and, fantasy, nerd,...</td>\n      <td>[honestly, sci, fi, fantasy, nerd, theme, pack...</td>\n    </tr>\n    <tr>\n      <th>3</th>\n      <td>3</td>\n      <td>c0nsB-bStks</td>\n      <td>UgwOWA6VnsLN6mMaeaN4AaABAg</td>\n      <td>What an amazing compliment to you that you rec...</td>\n      <td>Positive</td>\n      <td>0.9446</td>\n      <td>what an amazing compliment to you that you rec...</td>\n      <td>what an amazing compliment to you that you rec...</td>\n      <td>what an amazing compliment to you that you rec...</td>\n      <td>what an amazing compliment to you that you rec...</td>\n      <td>[what, an, amazing, compliment, to, you, that,...</td>\n      <td>[amazing, compliment, received, pr, ag, deserv...</td>\n    </tr>\n    <tr>\n      <th>4</th>\n      <td>4</td>\n      <td>c0nsB-bStks</td>\n      <td>UgxHfRFjONAr_Kx0rRt4AaABAg</td>\n      <td>Is everyone just creating makeup now? Don't ge...</td>\n      <td>Positive</td>\n      <td>0.9563</td>\n      <td>is everyone just creating makeup now? don't ge...</td>\n      <td>is everyone just creating makeup now  dont get...</td>\n      <td>is everyone just creating makeup now  dont get...</td>\n      <td>is everyone just creating makeup now dont get ...</td>\n      <td>[is, everyone, just, creating, makeup, now, do...</td>\n      <td>[creating, makeup, wrong, ari, makeup, stunnin...</td>\n    </tr>\n    <tr>\n      <th>5</th>\n      <td>5</td>\n      <td>c0nsB-bStks</td>\n      <td>Ugyk8Gma2bJhEWjgueJ4AaABAg</td>\n      <td>So happy that you received the package on PR!🥰...</td>\n      <td>Positive</td>\n      <td>0.9503</td>\n      <td>so happy that you received the package on pr!🥰...</td>\n      <td>so happy that you received the package on pr  ...</td>\n      <td>so happy that you received the package on pr  ...</td>\n      <td>so happy that you received the package on pr i...</td>\n      <td>[so, happy, that, you, received, the, package,...</td>\n      <td>[happy, received, package, pr, personally, buy...</td>\n    </tr>\n    <tr>\n      <th>6</th>\n      <td>6</td>\n      <td>c0nsB-bStks</td>\n      <td>Ugz0_Hj0d7ih-xt0_SF4AaABAg</td>\n      <td>Love the hair!  I'm not interested in R.E.M. b...</td>\n      <td>Positive</td>\n      <td>0.9404</td>\n      <td>love the hair!  i'm not interested in r.e.m. b...</td>\n      <td>love the hair   im not interested in r e m  bu...</td>\n      <td>love the hair   im not interested in r e m  bu...</td>\n      <td>love the hair im not interested in r e m but i...</td>\n      <td>[love, the, hair, im, not, interested, in, r, ...</td>\n      <td>[hair, interested, enjoyed, watching, products]</td>\n    </tr>\n    <tr>\n      <th>7</th>\n      <td>7</td>\n      <td>c0nsB-bStks</td>\n      <td>UgylGcBaQ4bk-DFJACJ4AaABAg</td>\n      <td>Am I the only person who's obsessed with the '...</td>\n      <td>Positive</td>\n      <td>0.1280</td>\n      <td>am i the only person who's obsessed with the '...</td>\n      <td>am i the only person whos obsessed with the ch...</td>\n      <td>am i the only person whos obsessed with the ch...</td>\n      <td>am i the only person whos obsessed with the ch...</td>\n      <td>[am, i, the, only, person, whos, obsessed, wit...</td>\n      <td>[person, obsessed, cheap, ish, packaging, yep]</td>\n    </tr>\n    <tr>\n      <th>8</th>\n      <td>8</td>\n      <td>c0nsB-bStks</td>\n      <td>UgzYUURSbLEbgG9whsN4AaABAg</td>\n      <td>I'm so excited for this. I'm glad the uploads ...</td>\n      <td>Positive</td>\n      <td>0.9484</td>\n      <td>i'm so excited for this. i'm glad the uploads ...</td>\n      <td>im so excited for this  im glad the uploads ar...</td>\n      <td>im so excited for this  im glad the uploads ar...</td>\n      <td>im so excited for this im glad the uploads are...</td>\n      <td>[im, so, excited, for, this, im, glad, the, up...</td>\n      <td>[excited, glad, uploads, feeling, better, hair...</td>\n    </tr>\n    <tr>\n      <th>9</th>\n      <td>9</td>\n      <td>c0nsB-bStks</td>\n      <td>UgwZbFjXB5xe3gUz6uV4AaABAg</td>\n      <td>I like the lashes they are pretty, and definit...</td>\n      <td>Positive</td>\n      <td>0.8126</td>\n      <td>i like the lashes they are pretty, and definit...</td>\n      <td>i like the lashes they are pretty  and definit...</td>\n      <td>i like the lashes they are pretty  and definit...</td>\n      <td>i like the lashes they are pretty and definite...</td>\n      <td>[i, like, the, lashes, they, are, pretty, and,...</td>\n      <td>[lashes, pretty, definitely, add, eye, overwhe...</td>\n    </tr>\n  </tbody>\n</table>\n</div>"
     },
     "metadata": {},
     "output_type": "display_data"
    }
   ],
   "source": [
    "def lemmatize_text(text):\n",
    "    lemmatizer = WordNetLemmatizer()\n",
    "    return [lemmatizer.lemmatize(w) for w in text]\n",
    "\n",
    "# Convert case text as lowercase, remove punctuation, remove extra whitespace in string and on both sides of string\n",
    "# Lowercase all the letters\n",
    "df['lower'] = df['Comments'].str.lower()\n",
    "\n",
    "# Remove punctuations\n",
    "df['punctuation_removed'] = df['lower'].str.replace(\"'\", '', regex=True).str.replace('[^\\w\\s]', ' ', regex=True)\n",
    "\n",
    "# Remove numbers\n",
    "df['numbers_removed'] = df['punctuation_removed'].str.replace(\" \\d+\", \" \", regex=True)\n",
    "\n",
    "# Remove extra whitespace\n",
    "df['extra_spaces_removed'] = df['numbers_removed'].str.replace(' +', ' ', regex=True).str.strip()\n",
    "\n",
    "# Tokenise\n",
    "df['tokenised'] = df.apply(lambda row: nltk.word_tokenize(row['extra_spaces_removed']), axis=1)\n",
    "\n",
    "# Stop words removal\n",
    "# initiate stopwords from nltk\n",
    "stop_words = stopwords.words('english')\n",
    "# add additional missing terms\n",
    "stop_words.extend(stop_words_list)\n",
    "# remove stopwords\n",
    "df['removed_stopwords'] = df['tokenised'].apply(lambda x: [item for item in x if item not in stop_words])\n",
    "\n",
    "docs = []\n",
    "\n",
    "for token in df.removed_stopwords:\n",
    "    docs.append(token)\n",
    "\n",
    "display(df.head(10))"
   ],
   "metadata": {
    "collapsed": false,
    "pycharm": {
     "name": "#%%\n"
    }
   }
  },
  {
   "cell_type": "code",
   "execution_count": 8,
   "outputs": [],
   "source": [
    "# # DATA PRE-PROCESSING FOR GSDMM\n",
    "# stop_words = stopwords.words('english')\n",
    "#\n",
    "# def preprocess(comment):\n",
    "#     comment=str(comment)\n",
    "#     comment = comment.lower()\n",
    "#     comment=comment.replace('{html}',\"\")\n",
    "#     cleanr = re.compile('<.*?>')\n",
    "#     cleantext = re.sub(cleanr, '', comment)\n",
    "#     rem_url=re.sub(r'http\\S+', '',cleantext)\n",
    "#     rem_num = re.sub('[0-9]+', '', rem_url)\n",
    "#     tokenizer = RegexpTokenizer(r'\\w+')\n",
    "#     tokens = tokenizer.tokenize(rem_num)\n",
    "#     filtered_words = [w for w in tokens if len(w) > 2 if not w in stop_words]\n",
    "#     #stem_words=[stemmer.stem(w) for w in filtered_words]\n",
    "#     lemma_words=[lemmatizer.lemmatize(w) for w in filtered_words]\n",
    "#     return \" \".join(lemma_words)\n",
    "#\n",
    "#\n",
    "# # creating cleanText column for the processed data\n",
    "# df['cleanComments']=df['Comments'].map(lambda s:preprocess(s))\n",
    "#\n",
    "# # creating tokens column\n",
    "# df['tokens'] = df['cleanComments'].apply(word_tokenize)\n",
    "#\n",
    "# docs = []\n",
    "#\n",
    "# for token in df.tokens:\n",
    "#     docs.append(token)\n",
    "#\n",
    "# display(df)"
   ],
   "metadata": {
    "collapsed": false,
    "pycharm": {
     "name": "#%%\n"
    }
   }
  },
  {
   "cell_type": "code",
   "execution_count": 9,
   "outputs": [
    {
     "name": "stdout",
     "output_type": "stream",
     "text": [
      "In stage 0: transferred 253 clusters with 3 clusters populated\n",
      "In stage 1: transferred 167 clusters with 3 clusters populated\n",
      "In stage 2: transferred 125 clusters with 3 clusters populated\n",
      "In stage 3: transferred 102 clusters with 3 clusters populated\n",
      "In stage 4: transferred 71 clusters with 3 clusters populated\n",
      "In stage 5: transferred 64 clusters with 3 clusters populated\n",
      "In stage 6: transferred 71 clusters with 3 clusters populated\n",
      "In stage 7: transferred 51 clusters with 3 clusters populated\n",
      "In stage 8: transferred 54 clusters with 3 clusters populated\n",
      "In stage 9: transferred 47 clusters with 3 clusters populated\n",
      "In stage 10: transferred 57 clusters with 3 clusters populated\n",
      "In stage 11: transferred 47 clusters with 3 clusters populated\n",
      "In stage 12: transferred 59 clusters with 3 clusters populated\n",
      "In stage 13: transferred 46 clusters with 3 clusters populated\n",
      "In stage 14: transferred 38 clusters with 3 clusters populated\n",
      "In stage 15: transferred 45 clusters with 3 clusters populated\n",
      "In stage 16: transferred 58 clusters with 3 clusters populated\n",
      "In stage 17: transferred 52 clusters with 3 clusters populated\n",
      "In stage 18: transferred 59 clusters with 3 clusters populated\n",
      "In stage 19: transferred 62 clusters with 3 clusters populated\n",
      "In stage 20: transferred 68 clusters with 3 clusters populated\n",
      "In stage 21: transferred 73 clusters with 3 clusters populated\n",
      "In stage 22: transferred 57 clusters with 3 clusters populated\n",
      "In stage 23: transferred 57 clusters with 3 clusters populated\n",
      "In stage 24: transferred 54 clusters with 3 clusters populated\n",
      "In stage 25: transferred 47 clusters with 3 clusters populated\n",
      "In stage 26: transferred 55 clusters with 3 clusters populated\n",
      "In stage 27: transferred 61 clusters with 3 clusters populated\n",
      "In stage 28: transferred 66 clusters with 3 clusters populated\n",
      "In stage 29: transferred 60 clusters with 3 clusters populated\n"
     ]
    }
   ],
   "source": [
    "mgp = MovieGroupProcess(K=3, alpha=0.1, beta=1, n_iters=30)\n",
    "\n",
    "vocab = set(x for doc in docs for x in doc)\n",
    "n_terms = len(vocab)\n",
    "\n",
    "mgp_output = mgp.fit(docs, n_terms)"
   ],
   "metadata": {
    "collapsed": false,
    "pycharm": {
     "name": "#%%\n"
    }
   }
  },
  {
   "cell_type": "code",
   "execution_count": 10,
   "outputs": [
    {
     "name": "stdout",
     "output_type": "stream",
     "text": [
      "Number of documents per topic : [ 24 354  32]\n"
     ]
    }
   ],
   "source": [
    "doc_count = np.array(mgp.cluster_doc_count)\n",
    "print('Number of documents per topic :', doc_count)"
   ],
   "metadata": {
    "collapsed": false,
    "pycharm": {
     "name": "#%%\n"
    }
   }
  },
  {
   "cell_type": "code",
   "execution_count": 11,
   "outputs": [
    {
     "name": "stdout",
     "output_type": "stream",
     "text": [
      "Indices of most important clusters (by number of docs inside): [1 2 0]\n"
     ]
    }
   ],
   "source": [
    "top_index = doc_count.argsort()[-15:][::-1]\n",
    "print('Indices of most important clusters (by number of docs inside):', top_index)"
   ],
   "metadata": {
    "collapsed": false,
    "pycharm": {
     "name": "#%%\n"
    }
   }
  },
  {
   "cell_type": "code",
   "execution_count": 12,
   "outputs": [],
   "source": [
    "# Returns the top words present in each topic cluster.\n",
    "def top_words(cluster_word_distribution, top_cluster, values):\n",
    "    for cluster in top_cluster:\n",
    "        sort_dicts =sorted(cluster_word_distribution[cluster].items(), key=lambda k: k[1], reverse=True)[:values]\n",
    "        print('Cluster %s : %s'%(cluster,sort_dicts))\n",
    "        print('-'*120)"
   ],
   "metadata": {
    "collapsed": false,
    "pycharm": {
     "name": "#%%\n"
    }
   }
  },
  {
   "cell_type": "code",
   "execution_count": 13,
   "outputs": [
    {
     "name": "stdout",
     "output_type": "stream",
     "text": [
      "Cluster 1 : [('hair', 72), ('soph', 59), ('makeup', 50), ('better', 36), ('beauty', 35), ('video', 35), ('products', 31)]\n",
      "------------------------------------------------------------------------------------------------------------------------\n",
      "Cluster 2 : [('packaging', 6), ('word', 5), ('lol', 5), ('sure', 4), ('literally', 4), ('hair', 4), ('blonde', 4)]\n",
      "------------------------------------------------------------------------------------------------------------------------\n",
      "Cluster 0 : [('youtube', 6), ('_', 6), ('matte', 4), ('palette', 4), ('colours', 4), ('makeup', 3), ('uno', 2)]\n",
      "------------------------------------------------------------------------------------------------------------------------\n"
     ]
    }
   ],
   "source": [
    "# Show the top 7 words in term frequency for each cluster\n",
    "top_words(mgp.cluster_word_distribution, top_index, 7)"
   ],
   "metadata": {
    "collapsed": false,
    "pycharm": {
     "name": "#%%\n"
    }
   }
  },
  {
   "cell_type": "code",
   "execution_count": 14,
   "outputs": [],
   "source": [
    "topic_dict = {}\n",
    "topic_names = ['Topic #1', 'Topic #2', 'Topic #3']\n",
    "for i, topic_num in enumerate(top_index):\n",
    "    topic_dict[topic_num]=topic_names[i]"
   ],
   "metadata": {
    "collapsed": false,
    "pycharm": {
     "name": "#%%\n"
    }
   }
  },
  {
   "cell_type": "code",
   "execution_count": 15,
   "outputs": [],
   "source": [
    "# index names\n",
    "docnames = ['Doc' + str(i) for i in range(len(df))]\n",
    "\n",
    "# Create a dataframe with the original text and its assigned topic.\n",
    "def create_topics_dataframe(data_text=df.Comments,  mgp=mgp, threshold=0.3, topic_dict=topic_dict, stem_text=docs):\n",
    "    result = pd.DataFrame(columns=['topic'])\n",
    "    for i, text in enumerate(data_text):\n",
    "        prob = mgp.choose_best_label(stem_text[i])\n",
    "        if prob[1] >= threshold:\n",
    "            result.at[i, 'topic'] = topic_dict[prob[0]]\n",
    "        else:\n",
    "            result.at[i, 'topic'] = 'Other'\n",
    "    return result"
   ],
   "metadata": {
    "collapsed": false,
    "pycharm": {
     "name": "#%%\n"
    }
   }
  },
  {
   "cell_type": "code",
   "execution_count": 16,
   "outputs": [
    {
     "data": {
      "text/plain": "Topic #1    360\nTopic #2     29\nTopic #3     21\nName: topic, dtype: int64"
     },
     "execution_count": 16,
     "metadata": {},
     "output_type": "execute_result"
    }
   ],
   "source": [
    "dfx = create_topics_dataframe(data_text=df.Comments,  mgp=mgp, threshold=0.3, topic_dict=topic_dict, stem_text=docs)\n",
    "dfx.topic.value_counts(dropna=False)"
   ],
   "metadata": {
    "collapsed": false,
    "pycharm": {
     "name": "#%%\n"
    }
   }
  },
  {
   "cell_type": "code",
   "execution_count": 17,
   "outputs": [
    {
     "data": {
      "text/plain": "     index     Video ID                  Comment ID  \\\n0        0  c0nsB-bStks  UgxjrHRhAe3afInc3nB4AaABAg   \n1        1  c0nsB-bStks  UgxIjuFycwS3XLKYI8x4AaABAg   \n2        2  c0nsB-bStks  UgzVBndPTTlIMSSRG994AaABAg   \n3        3  c0nsB-bStks  UgwOWA6VnsLN6mMaeaN4AaABAg   \n4        4  c0nsB-bStks  UgxHfRFjONAr_Kx0rRt4AaABAg   \n..     ...          ...                         ...   \n405    409  c0nsB-bStks  UgwE7rCA1yhaCPz6_xJ4AaABAg   \n406    410  c0nsB-bStks  Ugx2qmDyUelip8WOqfZ4AaABAg   \n407    411  c0nsB-bStks  UgwwUH9XcPPQE2kMSX94AaABAg   \n408    412  c0nsB-bStks  Ugx0aXNqQqth1bgPQmZ4AaABAg   \n409    413  c0nsB-bStks  Ugz02euJoDeebG8IqBp4AaABAg   \n\n                                              Comments Sentiment  \\\n0    I would like to add, the eye makeup still look...  Positive   \n1    It's may seem like a little thing, but I reall...  Positive   \n2    Honestly, as a sci-fi and fantasy nerd, I love...  Positive   \n3    What an amazing compliment to you that you rec...  Positive   \n4    Is everyone just creating makeup now? Don't ge...  Positive   \n..                                                 ...       ...   \n405                                              Early   Neutral   \n406                                    Omg 13 min agoo   Neutral   \n407                                                 Hi   Neutral   \n408  18歳以上の場合 ⤵⤵(◠$◕)♪❤ ---------------------------...  Positive   \n409                                          Dislike 👎  Negative   \n\n     Sentiment Score                                              lower  \\\n0             0.8683  i would like to add, the eye makeup still look...   \n1             0.9624  it's may seem like a little thing, but i reall...   \n2             0.9319  honestly, as a sci-fi and fantasy nerd, i love...   \n3             0.9446  what an amazing compliment to you that you rec...   \n4             0.9563  is everyone just creating makeup now? don't ge...   \n..               ...                                                ...   \n405           0.0000                                              early   \n406           0.0000                                    omg 13 min agoo   \n407           0.0000                                                 hi   \n408           0.9371  18歳以上の場合 ⤵⤵(◠$◕)♪❤ ---------------------------...   \n409          -0.3818                                          dislike 👎   \n\n                                   punctuation_removed  \\\n0    i would like to add  the eye makeup still look...   \n1    its may seem like a little thing  but i really...   \n2    honestly  as a sci fi and fantasy nerd  i love...   \n3    what an amazing compliment to you that you rec...   \n4    is everyone just creating makeup now  dont get...   \n..                                                 ...   \n405                                              early   \n406                                    omg 13 min agoo   \n407                                                 hi   \n408  18歳以上の場合                                      ...   \n409                                          dislike     \n\n                                       numbers_removed  \\\n0    i would like to add  the eye makeup still look...   \n1    its may seem like a little thing  but i really...   \n2    honestly  as a sci fi and fantasy nerd  i love...   \n3    what an amazing compliment to you that you rec...   \n4    is everyone just creating makeup now  dont get...   \n..                                                 ...   \n405                                              early   \n406                                      omg  min agoo   \n407                                                 hi   \n408  18歳以上の場合                                      ...   \n409                                          dislike     \n\n                                  extra_spaces_removed  \\\n0    i would like to add the eye makeup still looks...   \n1    its may seem like a little thing but i really ...   \n2    honestly as a sci fi and fantasy nerd i love t...   \n3    what an amazing compliment to you that you rec...   \n4    is everyone just creating makeup now dont get ...   \n..                                                 ...   \n405                                              early   \n406                                       omg min agoo   \n407                                                 hi   \n408  18歳以上の場合 fuckaef uno youtube this is fine some...   \n409                                            dislike   \n\n                                             tokenised  \\\n0    [i, would, like, to, add, the, eye, makeup, st...   \n1    [its, may, seem, like, a, little, thing, but, ...   \n2    [honestly, as, a, sci, fi, and, fantasy, nerd,...   \n3    [what, an, amazing, compliment, to, you, that,...   \n4    [is, everyone, just, creating, makeup, now, do...   \n..                                                 ...   \n405                                            [early]   \n406                                   [omg, min, agoo]   \n407                                               [hi]   \n408  [18歳以上の場合, fuckaef, uno, youtube, this, is, fi...   \n409                                          [dislike]   \n\n                                     removed_stopwords     topic  \n0    [add, eye, makeup, perfect, hours, including, ...  Topic #1  \n1    [thing, appreciate, transition, shade, depends...  Topic #2  \n2    [honestly, sci, fi, fantasy, nerd, theme, pack...  Topic #2  \n3    [amazing, compliment, received, pr, ag, deserv...  Topic #1  \n4    [creating, makeup, wrong, ari, makeup, stunnin...  Topic #1  \n..                                                 ...       ...  \n405                                            [early]  Topic #1  \n406                                   [omg, min, agoo]  Topic #2  \n407                                                 []  Topic #1  \n408  [18歳以上の場合, fuckaef, uno, youtube, heck, youtub...  Topic #3  \n409                                          [dislike]  Topic #1  \n\n[410 rows x 13 columns]",
      "text/html": "<div>\n<style scoped>\n    .dataframe tbody tr th:only-of-type {\n        vertical-align: middle;\n    }\n\n    .dataframe tbody tr th {\n        vertical-align: top;\n    }\n\n    .dataframe thead th {\n        text-align: right;\n    }\n</style>\n<table border=\"1\" class=\"dataframe\">\n  <thead>\n    <tr style=\"text-align: right;\">\n      <th></th>\n      <th>index</th>\n      <th>Video ID</th>\n      <th>Comment ID</th>\n      <th>Comments</th>\n      <th>Sentiment</th>\n      <th>Sentiment Score</th>\n      <th>lower</th>\n      <th>punctuation_removed</th>\n      <th>numbers_removed</th>\n      <th>extra_spaces_removed</th>\n      <th>tokenised</th>\n      <th>removed_stopwords</th>\n      <th>topic</th>\n    </tr>\n  </thead>\n  <tbody>\n    <tr>\n      <th>0</th>\n      <td>0</td>\n      <td>c0nsB-bStks</td>\n      <td>UgxjrHRhAe3afInc3nB4AaABAg</td>\n      <td>I would like to add, the eye makeup still look...</td>\n      <td>Positive</td>\n      <td>0.8683</td>\n      <td>i would like to add, the eye makeup still look...</td>\n      <td>i would like to add  the eye makeup still look...</td>\n      <td>i would like to add  the eye makeup still look...</td>\n      <td>i would like to add the eye makeup still looks...</td>\n      <td>[i, would, like, to, add, the, eye, makeup, st...</td>\n      <td>[add, eye, makeup, perfect, hours, including, ...</td>\n      <td>Topic #1</td>\n    </tr>\n    <tr>\n      <th>1</th>\n      <td>1</td>\n      <td>c0nsB-bStks</td>\n      <td>UgxIjuFycwS3XLKYI8x4AaABAg</td>\n      <td>It's may seem like a little thing, but I reall...</td>\n      <td>Positive</td>\n      <td>0.9624</td>\n      <td>it's may seem like a little thing, but i reall...</td>\n      <td>its may seem like a little thing  but i really...</td>\n      <td>its may seem like a little thing  but i really...</td>\n      <td>its may seem like a little thing but i really ...</td>\n      <td>[its, may, seem, like, a, little, thing, but, ...</td>\n      <td>[thing, appreciate, transition, shade, depends...</td>\n      <td>Topic #2</td>\n    </tr>\n    <tr>\n      <th>2</th>\n      <td>2</td>\n      <td>c0nsB-bStks</td>\n      <td>UgzVBndPTTlIMSSRG994AaABAg</td>\n      <td>Honestly, as a sci-fi and fantasy nerd, I love...</td>\n      <td>Positive</td>\n      <td>0.9319</td>\n      <td>honestly, as a sci-fi and fantasy nerd, i love...</td>\n      <td>honestly  as a sci fi and fantasy nerd  i love...</td>\n      <td>honestly  as a sci fi and fantasy nerd  i love...</td>\n      <td>honestly as a sci fi and fantasy nerd i love t...</td>\n      <td>[honestly, as, a, sci, fi, and, fantasy, nerd,...</td>\n      <td>[honestly, sci, fi, fantasy, nerd, theme, pack...</td>\n      <td>Topic #2</td>\n    </tr>\n    <tr>\n      <th>3</th>\n      <td>3</td>\n      <td>c0nsB-bStks</td>\n      <td>UgwOWA6VnsLN6mMaeaN4AaABAg</td>\n      <td>What an amazing compliment to you that you rec...</td>\n      <td>Positive</td>\n      <td>0.9446</td>\n      <td>what an amazing compliment to you that you rec...</td>\n      <td>what an amazing compliment to you that you rec...</td>\n      <td>what an amazing compliment to you that you rec...</td>\n      <td>what an amazing compliment to you that you rec...</td>\n      <td>[what, an, amazing, compliment, to, you, that,...</td>\n      <td>[amazing, compliment, received, pr, ag, deserv...</td>\n      <td>Topic #1</td>\n    </tr>\n    <tr>\n      <th>4</th>\n      <td>4</td>\n      <td>c0nsB-bStks</td>\n      <td>UgxHfRFjONAr_Kx0rRt4AaABAg</td>\n      <td>Is everyone just creating makeup now? Don't ge...</td>\n      <td>Positive</td>\n      <td>0.9563</td>\n      <td>is everyone just creating makeup now? don't ge...</td>\n      <td>is everyone just creating makeup now  dont get...</td>\n      <td>is everyone just creating makeup now  dont get...</td>\n      <td>is everyone just creating makeup now dont get ...</td>\n      <td>[is, everyone, just, creating, makeup, now, do...</td>\n      <td>[creating, makeup, wrong, ari, makeup, stunnin...</td>\n      <td>Topic #1</td>\n    </tr>\n    <tr>\n      <th>...</th>\n      <td>...</td>\n      <td>...</td>\n      <td>...</td>\n      <td>...</td>\n      <td>...</td>\n      <td>...</td>\n      <td>...</td>\n      <td>...</td>\n      <td>...</td>\n      <td>...</td>\n      <td>...</td>\n      <td>...</td>\n      <td>...</td>\n    </tr>\n    <tr>\n      <th>405</th>\n      <td>409</td>\n      <td>c0nsB-bStks</td>\n      <td>UgwE7rCA1yhaCPz6_xJ4AaABAg</td>\n      <td>Early</td>\n      <td>Neutral</td>\n      <td>0.0000</td>\n      <td>early</td>\n      <td>early</td>\n      <td>early</td>\n      <td>early</td>\n      <td>[early]</td>\n      <td>[early]</td>\n      <td>Topic #1</td>\n    </tr>\n    <tr>\n      <th>406</th>\n      <td>410</td>\n      <td>c0nsB-bStks</td>\n      <td>Ugx2qmDyUelip8WOqfZ4AaABAg</td>\n      <td>Omg 13 min agoo</td>\n      <td>Neutral</td>\n      <td>0.0000</td>\n      <td>omg 13 min agoo</td>\n      <td>omg 13 min agoo</td>\n      <td>omg  min agoo</td>\n      <td>omg min agoo</td>\n      <td>[omg, min, agoo]</td>\n      <td>[omg, min, agoo]</td>\n      <td>Topic #2</td>\n    </tr>\n    <tr>\n      <th>407</th>\n      <td>411</td>\n      <td>c0nsB-bStks</td>\n      <td>UgwwUH9XcPPQE2kMSX94AaABAg</td>\n      <td>Hi</td>\n      <td>Neutral</td>\n      <td>0.0000</td>\n      <td>hi</td>\n      <td>hi</td>\n      <td>hi</td>\n      <td>hi</td>\n      <td>[hi]</td>\n      <td>[]</td>\n      <td>Topic #1</td>\n    </tr>\n    <tr>\n      <th>408</th>\n      <td>412</td>\n      <td>c0nsB-bStks</td>\n      <td>Ugx0aXNqQqth1bgPQmZ4AaABAg</td>\n      <td>18歳以上の場合 ⤵⤵(◠$◕)♪❤ ---------------------------...</td>\n      <td>Positive</td>\n      <td>0.9371</td>\n      <td>18歳以上の場合 ⤵⤵(◠$◕)♪❤ ---------------------------...</td>\n      <td>18歳以上の場合                                      ...</td>\n      <td>18歳以上の場合                                      ...</td>\n      <td>18歳以上の場合 fuckaef uno youtube this is fine some...</td>\n      <td>[18歳以上の場合, fuckaef, uno, youtube, this, is, fi...</td>\n      <td>[18歳以上の場合, fuckaef, uno, youtube, heck, youtub...</td>\n      <td>Topic #3</td>\n    </tr>\n    <tr>\n      <th>409</th>\n      <td>413</td>\n      <td>c0nsB-bStks</td>\n      <td>Ugz02euJoDeebG8IqBp4AaABAg</td>\n      <td>Dislike 👎</td>\n      <td>Negative</td>\n      <td>-0.3818</td>\n      <td>dislike 👎</td>\n      <td>dislike</td>\n      <td>dislike</td>\n      <td>dislike</td>\n      <td>[dislike]</td>\n      <td>[dislike]</td>\n      <td>Topic #1</td>\n    </tr>\n  </tbody>\n</table>\n<p>410 rows × 13 columns</p>\n</div>"
     },
     "metadata": {},
     "output_type": "display_data"
    }
   ],
   "source": [
    "df = pd.merge(df, dfx, left_index = True, right_index = True, how = 'outer')\n",
    "display(df)"
   ],
   "metadata": {
    "collapsed": false,
    "pycharm": {
     "name": "#%%\n"
    }
   }
  },
  {
   "cell_type": "code",
   "execution_count": 18,
   "outputs": [
    {
     "data": {
      "text/plain": "Sentiment  Negative  Neutral  Positive\ntopic                                 \nTopic #1         32       43       285\nTopic #2          4        4        21\nTopic #3          1        3        17",
      "text/html": "<div>\n<style scoped>\n    .dataframe tbody tr th:only-of-type {\n        vertical-align: middle;\n    }\n\n    .dataframe tbody tr th {\n        vertical-align: top;\n    }\n\n    .dataframe thead th {\n        text-align: right;\n    }\n</style>\n<table border=\"1\" class=\"dataframe\">\n  <thead>\n    <tr style=\"text-align: right;\">\n      <th>Sentiment</th>\n      <th>Negative</th>\n      <th>Neutral</th>\n      <th>Positive</th>\n    </tr>\n    <tr>\n      <th>topic</th>\n      <th></th>\n      <th></th>\n      <th></th>\n    </tr>\n  </thead>\n  <tbody>\n    <tr>\n      <th>Topic #1</th>\n      <td>32</td>\n      <td>43</td>\n      <td>285</td>\n    </tr>\n    <tr>\n      <th>Topic #2</th>\n      <td>4</td>\n      <td>4</td>\n      <td>21</td>\n    </tr>\n    <tr>\n      <th>Topic #3</th>\n      <td>1</td>\n      <td>3</td>\n      <td>17</td>\n    </tr>\n  </tbody>\n</table>\n</div>"
     },
     "metadata": {},
     "output_type": "display_data"
    }
   ],
   "source": [
    "results = df.groupby(['topic', 'Sentiment']).count().reset_index()\n",
    "\n",
    "# display(results)\n",
    "\n",
    "# results = results.merge(all_topics, on='Dominant_topic')\n",
    "# results['topic_name'] = results['topic_name'].apply(', '.join)\n",
    "\n",
    "# display(results)\n",
    "\n",
    "graph_results = results[['topic', 'Sentiment', 'Sentiment Score']]\n",
    "graph_results = graph_results.pivot(index='topic', columns='Sentiment', values='Sentiment Score').reset_index()\n",
    "\n",
    "graph_results.set_index('topic', inplace=True)\n",
    "\n",
    "display(graph_results)"
   ],
   "metadata": {
    "collapsed": false,
    "pycharm": {
     "name": "#%%\n"
    }
   }
  },
  {
   "cell_type": "code",
   "execution_count": 19,
   "outputs": [
    {
     "data": {
      "text/plain": "<Figure size 720x720 with 1 Axes>",
      "image/png": "[encoded data removed]"
     },
     "metadata": {
      "needs_background": "light"
     },
     "output_type": "display_data"
    }
   ],
   "source": [
    "fig = graph_results.plot.bar(rot=90, figsize=(10,10))\n",
    "fig.figure.savefig(f'{creator}_absa_gsdmm.png' , bbox_inches='tight')"
   ],
   "metadata": {
    "collapsed": false,
    "pycharm": {
     "name": "#%%\n"
    }
   }
  }
 ],
 "metadata": {
  "kernelspec": {
   "display_name": "Python 3",
   "language": "python",
   "name": "python3"
  },
  "language_info": {
   "codemirror_mode": {
    "name": "ipython",
    "version": 2
   },
   "file_extension": ".py",
   "mimetype": "text/x-python",
   "name": "python",
   "nbconvert_exporter": "python",
   "pygments_lexer": "ipython2",
   "version": "2.7.6"
  }
 },
 "nbformat": 4,
 "nbformat_minor": 0
}